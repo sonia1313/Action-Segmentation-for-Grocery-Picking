{
 "nbformat": 4,
 "nbformat_minor": 0,
 "metadata": {
  "colab": {
   "name": "Causal_LSTM_AS_Tactile_Data.ipynb",
   "provenance": [],
   "collapsed_sections": []
  },
  "kernelspec": {
   "name": "python3",
   "display_name": "Python 3"
  },
  "language_info": {
   "name": "python"
  },
  "accelerator": "GPU"
 },
 "cells": [
  {
   "cell_type": "code",
   "execution_count": null,
   "metadata": {
    "id": "-F79fzefv68_",
    "pycharm": {
     "name": "#%%\n"
    }
   },
   "outputs": [],
   "source": [
    "\n",
    "import re\n",
    "import sys\n",
    "import os\n",
    "import random\n",
    "import string\n",
    "import time\n",
    "import pickle\n",
    "import numpy as np\n",
    "import tensorflow as tf\n",
    "import matplotlib.pyplot as plt\n",
    "from tensorflow.keras import optimizers\n",
    "from tensorflow.keras.layers import add\n",
    "from tensorflow.keras.models import Model\n",
    "from tensorflow.keras import backend as K\n",
    "from tensorflow.keras.utils import plot_model\n",
    "from tensorflow.keras.utils import to_categorical\n",
    "from tensorflow.keras.callbacks import ModelCheckpoint\n",
    "from tensorflow.keras.preprocessing.text import Tokenizer\n",
    "from tensorflow.keras.preprocessing.sequence import pad_sequences\n",
    "from tensorflow.keras.layers import Input, Dense, LSTM, GRU, TimeDistributed\n",
    "from tensorflow.keras.layers import Embedding, Dropout, Bidirectional, Concatenate, Lambda\n",
    "import glob\n",
    "import pandas as pd\n",
    "np.random.seed(1)\n"
   ]
  },
  {
   "cell_type": "code",
   "source": [
    "from google.colab import drive\n",
    "\n",
    "drive.mount('/content/drive', force_remount=True)\n",
    "\n",
    "os.chdir(\"/content/drive/Othercomputers/Dell\")"
   ],
   "metadata": {
    "colab": {
     "base_uri": "https://localhost:8080/"
    },
    "id": "fw4oQMLp1v1A",
    "executionInfo": {
     "status": "ok",
     "timestamp": 1654203527057,
     "user_tz": -60,
     "elapsed": 24963,
     "user": {
      "displayName": "Sonia Mathews",
      "userId": "11348936089475052132"
     }
    },
    "outputId": "bfbff91b-c6cc-4549-dac9-503391431b4b",
    "pycharm": {
     "name": "#%%\n"
    }
   },
   "execution_count": null,
   "outputs": [
    {
     "output_type": "stream",
     "name": "stdout",
     "text": [
      "Mounted at /content/drive\n"
     ]
    }
   ]
  },
  {
   "cell_type": "code",
   "source": [
    "os.chdir(\"/content/drive/Othercomputers/Dell\")\n",
    "!pwd"
   ],
   "metadata": {
    "colab": {
     "base_uri": "https://localhost:8080/"
    },
    "id": "LZdIpNp05TSL",
    "outputId": "77f8156b-1bce-4d9a-94c1-cbee07531987",
    "pycharm": {
     "name": "#%%\n"
    },
    "executionInfo": {
     "status": "ok",
     "timestamp": 1654203527058,
     "user_tz": -60,
     "elapsed": 15,
     "user": {
      "displayName": "Sonia Mathews",
      "userId": "11348936089475052132"
     }
    }
   },
   "execution_count": null,
   "outputs": [
    {
     "output_type": "stream",
     "name": "stdout",
     "text": [
      "/content/drive/Othercomputers/Dell\n"
     ]
    }
   ]
  },
  {
   "cell_type": "code",
   "source": [
    "path = !pwd\n",
    "path\n",
    "#path = /content/drive/Othercomputers/Dell/Action-Segmentation-Project"
   ],
   "metadata": {
    "colab": {
     "base_uri": "https://localhost:8080/"
    },
    "id": "wLqd1CTn2ABU",
    "executionInfo": {
     "status": "ok",
     "timestamp": 1654203527473,
     "user_tz": -60,
     "elapsed": 422,
     "user": {
      "displayName": "Sonia Mathews",
      "userId": "11348936089475052132"
     }
    },
    "outputId": "034ae503-40d3-424b-a95c-0cc0dda29327",
    "pycharm": {
     "name": "#%%\n"
    }
   },
   "execution_count": null,
   "outputs": [
    {
     "output_type": "execute_result",
     "data": {
      "text/plain": [
       "['/content/drive/Othercomputers/Dell']"
      ]
     },
     "metadata": {},
     "execution_count": 4
    }
   ]
  },
  {
   "cell_type": "code",
   "execution_count": null,
   "outputs": [
    {
     "output_type": "execute_result",
     "data": {
      "text/plain": [
       "['/content/drive/Othercomputers/Dell/Action-Segmentation-Project/avocado/clutter/7/optoforce_data.csv',\n",
       " '/content/drive/Othercomputers/Dell/Action-Segmentation-Project/avocado/clutter/4/optoforce_data.csv',\n",
       " '/content/drive/Othercomputers/Dell/Action-Segmentation-Project/avocado/clutter/5/optoforce_data.csv',\n",
       " '/content/drive/Othercomputers/Dell/Action-Segmentation-Project/avocado/clutter/9/optoforce_data.csv',\n",
       " '/content/drive/Othercomputers/Dell/Action-Segmentation-Project/avocado/clutter/8/optoforce_data.csv',\n",
       " '/content/drive/Othercomputers/Dell/Action-Segmentation-Project/avocado/clutter/2/optoforce_data.csv',\n",
       " '/content/drive/Othercomputers/Dell/Action-Segmentation-Project/avocado/clutter/3/optoforce_data.csv',\n",
       " '/content/drive/Othercomputers/Dell/Action-Segmentation-Project/avocado/clutter/10/optoforce_data.csv',\n",
       " '/content/drive/Othercomputers/Dell/Action-Segmentation-Project/avocado/clutter/6/optoforce_data.csv',\n",
       " '/content/drive/Othercomputers/Dell/Action-Segmentation-Project/avocado/clutter/1/optoforce_data.csv']"
      ]
     },
     "metadata": {},
     "execution_count": 5
    }
   ],
   "source": [
    "#get all the optofoce_data.csv\n",
    "\n",
    "# files = ['/media/sf_Action-Segmentation-Project/avocado','']\n",
    "# for file in files:\n",
    "#     for name in glob.glob(f\"{file}/clutter/[0-9]*/optoforce_data.csv\"):\n",
    "#         print(name)\n",
    "\n",
    "# files = glob.glob(f\"/media/sf_Action-Segmentation-Project/avocado/clutter/[0-9]*/optoforce_data.csv\")\n",
    "files = glob.glob(f\"/content/drive/Othercomputers/Dell/Action-Segmentation-Project/avocado/clutter/[0-9]*/optoforce_data.csv\")\n",
    "files"
   ],
   "metadata": {
    "pycharm": {
     "name": "#%%\n"
    },
    "colab": {
     "base_uri": "https://localhost:8080/"
    },
    "id": "-q2dm5qb1YKX",
    "executionInfo": {
     "status": "ok",
     "timestamp": 1654203529629,
     "user_tz": -60,
     "elapsed": 2159,
     "user": {
      "displayName": "Sonia Mathews",
      "userId": "11348936089475052132"
     }
    },
    "outputId": "3b6fa848-ad27-4627-c9e4-e07636c3dca3"
   }
  },
  {
   "cell_type": "code",
   "execution_count": null,
   "outputs": [
    {
     "output_type": "execute_result",
     "data": {
      "text/plain": [
       "['/content/drive/Othercomputers/Dell/Action-Segmentation-Project/avocado/clutter/7/labels',\n",
       " '/content/drive/Othercomputers/Dell/Action-Segmentation-Project/avocado/clutter/4/labels',\n",
       " '/content/drive/Othercomputers/Dell/Action-Segmentation-Project/avocado/clutter/5/labels',\n",
       " '/content/drive/Othercomputers/Dell/Action-Segmentation-Project/avocado/clutter/9/labels',\n",
       " '/content/drive/Othercomputers/Dell/Action-Segmentation-Project/avocado/clutter/8/labels',\n",
       " '/content/drive/Othercomputers/Dell/Action-Segmentation-Project/avocado/clutter/2/labels',\n",
       " '/content/drive/Othercomputers/Dell/Action-Segmentation-Project/avocado/clutter/3/labels',\n",
       " '/content/drive/Othercomputers/Dell/Action-Segmentation-Project/avocado/clutter/10/labels',\n",
       " '/content/drive/Othercomputers/Dell/Action-Segmentation-Project/avocado/clutter/6/labels',\n",
       " '/content/drive/Othercomputers/Dell/Action-Segmentation-Project/avocado/clutter/1/labels']"
      ]
     },
     "metadata": {},
     "execution_count": 6
    }
   ],
   "source": [
    "#labels = glob.glob(f\"/media/sf_Action-Segmentation-Project/avocado/clutter/[0-9]*/labels\")\n",
    "labels = glob.glob(f\"/content/drive/Othercomputers/Dell/Action-Segmentation-Project/avocado/clutter/[0-9]*/labels\")\n",
    "\n",
    "labels"
   ],
   "metadata": {
    "pycharm": {
     "name": "#%%\n"
    },
    "colab": {
     "base_uri": "https://localhost:8080/"
    },
    "id": "XSSX4D9X1YKX",
    "executionInfo": {
     "status": "ok",
     "timestamp": 1654203529629,
     "user_tz": -60,
     "elapsed": 5,
     "user": {
      "displayName": "Sonia Mathews",
      "userId": "11348936089475052132"
     }
    },
    "outputId": "777cdba1-efec-4c46-de69-c356dba16861"
   }
  },
  {
   "cell_type": "code",
   "execution_count": null,
   "outputs": [],
   "source": [
    "frames = []\n",
    "data = []\n",
    "for f in files:\n",
    "    data_df = pd.read_csv(f)\n",
    "    data_df[\"label\"] = \"\"\n",
    "    frames.append(data_df)\n",
    "\n"
   ],
   "metadata": {
    "pycharm": {
     "name": "#%%\n"
    },
    "id": "xJ3j5gY61YKY"
   }
  },
  {
   "cell_type": "code",
   "execution_count": null,
   "outputs": [
    {
     "output_type": "execute_result",
     "data": {
      "text/plain": [
       "10"
      ]
     },
     "metadata": {},
     "execution_count": 8
    }
   ],
   "source": [
    "len(frames)"
   ],
   "metadata": {
    "pycharm": {
     "name": "#%%\n"
    },
    "colab": {
     "base_uri": "https://localhost:8080/"
    },
    "id": "ktLghNZB1YKY",
    "executionInfo": {
     "status": "ok",
     "timestamp": 1654203539091,
     "user_tz": -60,
     "elapsed": 12,
     "user": {
      "displayName": "Sonia Mathews",
      "userId": "11348936089475052132"
     }
    },
    "outputId": "c7eea5ab-6fc7-4413-b785-a5440864ba46"
   }
  },
  {
   "cell_type": "code",
   "execution_count": null,
   "outputs": [
    {
     "output_type": "execute_result",
     "data": {
      "text/plain": [
       "                      time  index_x  index_y  index_z  middle_x  middle_y  \\\n",
       "0      1635185477459841536    -0.16    -0.16     0.64     -0.16     -0.40   \n",
       "1      1635185477460862720    -0.16    -0.16     0.64     -0.24     -0.40   \n",
       "2      1635185477461578496    -0.16    -0.16     0.64     -0.08     -0.32   \n",
       "3      1635185477462545664    -0.08    -0.16     0.64     -0.08     -0.24   \n",
       "4      1635185477463597312    -0.08    -0.08     0.64     -0.08     -0.24   \n",
       "...                    ...      ...      ...      ...       ...       ...   \n",
       "72505  1635185564093448960     0.08    -0.56     0.08      0.40     -0.16   \n",
       "72506  1635185564094279424     0.08    -0.64     0.08      0.40     -0.24   \n",
       "72507  1635185564095298560     0.00    -0.64     0.00      0.32     -0.24   \n",
       "72508  1635185564096268032    -0.08    -0.64     0.00      0.32     -0.24   \n",
       "72509  1635185564097260032     0.00    -0.64     0.00      0.32     -0.24   \n",
       "\n",
       "       middle_z  ring_x  ring_y  ring_z  thumb_x  thumb_y  thumb_z label  \n",
       "0          0.08   -0.08   -0.16    0.32     0.32     0.00     1.12        \n",
       "1          0.08   -0.16   -0.16    0.32     0.32     0.00     1.20        \n",
       "2          0.08   -0.16   -0.08    0.32     0.24    -0.08     1.20        \n",
       "3          0.00   -0.16   -0.08    0.32     0.24     0.00     1.20        \n",
       "4          0.00   -0.16    0.00    0.32     0.24     0.00     1.20        \n",
       "...         ...     ...     ...     ...      ...      ...      ...   ...  \n",
       "72505     -0.08    0.16    0.00   -0.40     0.56    -0.08     0.40        \n",
       "72506     -0.08    0.16    0.00   -0.40     0.48    -0.16     0.40        \n",
       "72507     -0.08    0.00   -0.08   -0.32     0.48    -0.16     0.40        \n",
       "72508     -0.08    0.00   -0.08   -0.40     0.40    -0.24     0.40        \n",
       "72509     -0.08    0.00   -0.16   -0.40     0.40    -0.16     0.40        \n",
       "\n",
       "[72510 rows x 14 columns]"
      ],
      "text/html": [
       "\n",
       "  <div id=\"df-c304fab0-0020-46f4-9b7a-2f41e801ebaa\">\n",
       "    <div class=\"colab-df-container\">\n",
       "      <div>\n",
       "<style scoped>\n",
       "    .dataframe tbody tr th:only-of-type {\n",
       "        vertical-align: middle;\n",
       "    }\n",
       "\n",
       "    .dataframe tbody tr th {\n",
       "        vertical-align: top;\n",
       "    }\n",
       "\n",
       "    .dataframe thead th {\n",
       "        text-align: right;\n",
       "    }\n",
       "</style>\n",
       "<table border=\"1\" class=\"dataframe\">\n",
       "  <thead>\n",
       "    <tr style=\"text-align: right;\">\n",
       "      <th></th>\n",
       "      <th>time</th>\n",
       "      <th>index_x</th>\n",
       "      <th>index_y</th>\n",
       "      <th>index_z</th>\n",
       "      <th>middle_x</th>\n",
       "      <th>middle_y</th>\n",
       "      <th>middle_z</th>\n",
       "      <th>ring_x</th>\n",
       "      <th>ring_y</th>\n",
       "      <th>ring_z</th>\n",
       "      <th>thumb_x</th>\n",
       "      <th>thumb_y</th>\n",
       "      <th>thumb_z</th>\n",
       "      <th>label</th>\n",
       "    </tr>\n",
       "  </thead>\n",
       "  <tbody>\n",
       "    <tr>\n",
       "      <th>0</th>\n",
       "      <td>1635185477459841536</td>\n",
       "      <td>-0.16</td>\n",
       "      <td>-0.16</td>\n",
       "      <td>0.64</td>\n",
       "      <td>-0.16</td>\n",
       "      <td>-0.40</td>\n",
       "      <td>0.08</td>\n",
       "      <td>-0.08</td>\n",
       "      <td>-0.16</td>\n",
       "      <td>0.32</td>\n",
       "      <td>0.32</td>\n",
       "      <td>0.00</td>\n",
       "      <td>1.12</td>\n",
       "      <td></td>\n",
       "    </tr>\n",
       "    <tr>\n",
       "      <th>1</th>\n",
       "      <td>1635185477460862720</td>\n",
       "      <td>-0.16</td>\n",
       "      <td>-0.16</td>\n",
       "      <td>0.64</td>\n",
       "      <td>-0.24</td>\n",
       "      <td>-0.40</td>\n",
       "      <td>0.08</td>\n",
       "      <td>-0.16</td>\n",
       "      <td>-0.16</td>\n",
       "      <td>0.32</td>\n",
       "      <td>0.32</td>\n",
       "      <td>0.00</td>\n",
       "      <td>1.20</td>\n",
       "      <td></td>\n",
       "    </tr>\n",
       "    <tr>\n",
       "      <th>2</th>\n",
       "      <td>1635185477461578496</td>\n",
       "      <td>-0.16</td>\n",
       "      <td>-0.16</td>\n",
       "      <td>0.64</td>\n",
       "      <td>-0.08</td>\n",
       "      <td>-0.32</td>\n",
       "      <td>0.08</td>\n",
       "      <td>-0.16</td>\n",
       "      <td>-0.08</td>\n",
       "      <td>0.32</td>\n",
       "      <td>0.24</td>\n",
       "      <td>-0.08</td>\n",
       "      <td>1.20</td>\n",
       "      <td></td>\n",
       "    </tr>\n",
       "    <tr>\n",
       "      <th>3</th>\n",
       "      <td>1635185477462545664</td>\n",
       "      <td>-0.08</td>\n",
       "      <td>-0.16</td>\n",
       "      <td>0.64</td>\n",
       "      <td>-0.08</td>\n",
       "      <td>-0.24</td>\n",
       "      <td>0.00</td>\n",
       "      <td>-0.16</td>\n",
       "      <td>-0.08</td>\n",
       "      <td>0.32</td>\n",
       "      <td>0.24</td>\n",
       "      <td>0.00</td>\n",
       "      <td>1.20</td>\n",
       "      <td></td>\n",
       "    </tr>\n",
       "    <tr>\n",
       "      <th>4</th>\n",
       "      <td>1635185477463597312</td>\n",
       "      <td>-0.08</td>\n",
       "      <td>-0.08</td>\n",
       "      <td>0.64</td>\n",
       "      <td>-0.08</td>\n",
       "      <td>-0.24</td>\n",
       "      <td>0.00</td>\n",
       "      <td>-0.16</td>\n",
       "      <td>0.00</td>\n",
       "      <td>0.32</td>\n",
       "      <td>0.24</td>\n",
       "      <td>0.00</td>\n",
       "      <td>1.20</td>\n",
       "      <td></td>\n",
       "    </tr>\n",
       "    <tr>\n",
       "      <th>...</th>\n",
       "      <td>...</td>\n",
       "      <td>...</td>\n",
       "      <td>...</td>\n",
       "      <td>...</td>\n",
       "      <td>...</td>\n",
       "      <td>...</td>\n",
       "      <td>...</td>\n",
       "      <td>...</td>\n",
       "      <td>...</td>\n",
       "      <td>...</td>\n",
       "      <td>...</td>\n",
       "      <td>...</td>\n",
       "      <td>...</td>\n",
       "      <td>...</td>\n",
       "    </tr>\n",
       "    <tr>\n",
       "      <th>72505</th>\n",
       "      <td>1635185564093448960</td>\n",
       "      <td>0.08</td>\n",
       "      <td>-0.56</td>\n",
       "      <td>0.08</td>\n",
       "      <td>0.40</td>\n",
       "      <td>-0.16</td>\n",
       "      <td>-0.08</td>\n",
       "      <td>0.16</td>\n",
       "      <td>0.00</td>\n",
       "      <td>-0.40</td>\n",
       "      <td>0.56</td>\n",
       "      <td>-0.08</td>\n",
       "      <td>0.40</td>\n",
       "      <td></td>\n",
       "    </tr>\n",
       "    <tr>\n",
       "      <th>72506</th>\n",
       "      <td>1635185564094279424</td>\n",
       "      <td>0.08</td>\n",
       "      <td>-0.64</td>\n",
       "      <td>0.08</td>\n",
       "      <td>0.40</td>\n",
       "      <td>-0.24</td>\n",
       "      <td>-0.08</td>\n",
       "      <td>0.16</td>\n",
       "      <td>0.00</td>\n",
       "      <td>-0.40</td>\n",
       "      <td>0.48</td>\n",
       "      <td>-0.16</td>\n",
       "      <td>0.40</td>\n",
       "      <td></td>\n",
       "    </tr>\n",
       "    <tr>\n",
       "      <th>72507</th>\n",
       "      <td>1635185564095298560</td>\n",
       "      <td>0.00</td>\n",
       "      <td>-0.64</td>\n",
       "      <td>0.00</td>\n",
       "      <td>0.32</td>\n",
       "      <td>-0.24</td>\n",
       "      <td>-0.08</td>\n",
       "      <td>0.00</td>\n",
       "      <td>-0.08</td>\n",
       "      <td>-0.32</td>\n",
       "      <td>0.48</td>\n",
       "      <td>-0.16</td>\n",
       "      <td>0.40</td>\n",
       "      <td></td>\n",
       "    </tr>\n",
       "    <tr>\n",
       "      <th>72508</th>\n",
       "      <td>1635185564096268032</td>\n",
       "      <td>-0.08</td>\n",
       "      <td>-0.64</td>\n",
       "      <td>0.00</td>\n",
       "      <td>0.32</td>\n",
       "      <td>-0.24</td>\n",
       "      <td>-0.08</td>\n",
       "      <td>0.00</td>\n",
       "      <td>-0.08</td>\n",
       "      <td>-0.40</td>\n",
       "      <td>0.40</td>\n",
       "      <td>-0.24</td>\n",
       "      <td>0.40</td>\n",
       "      <td></td>\n",
       "    </tr>\n",
       "    <tr>\n",
       "      <th>72509</th>\n",
       "      <td>1635185564097260032</td>\n",
       "      <td>0.00</td>\n",
       "      <td>-0.64</td>\n",
       "      <td>0.00</td>\n",
       "      <td>0.32</td>\n",
       "      <td>-0.24</td>\n",
       "      <td>-0.08</td>\n",
       "      <td>0.00</td>\n",
       "      <td>-0.16</td>\n",
       "      <td>-0.40</td>\n",
       "      <td>0.40</td>\n",
       "      <td>-0.16</td>\n",
       "      <td>0.40</td>\n",
       "      <td></td>\n",
       "    </tr>\n",
       "  </tbody>\n",
       "</table>\n",
       "<p>72510 rows × 14 columns</p>\n",
       "</div>\n",
       "      <button class=\"colab-df-convert\" onclick=\"convertToInteractive('df-c304fab0-0020-46f4-9b7a-2f41e801ebaa')\"\n",
       "              title=\"Convert this dataframe to an interactive table.\"\n",
       "              style=\"display:none;\">\n",
       "        \n",
       "  <svg xmlns=\"http://www.w3.org/2000/svg\" height=\"24px\"viewBox=\"0 0 24 24\"\n",
       "       width=\"24px\">\n",
       "    <path d=\"M0 0h24v24H0V0z\" fill=\"none\"/>\n",
       "    <path d=\"M18.56 5.44l.94 2.06.94-2.06 2.06-.94-2.06-.94-.94-2.06-.94 2.06-2.06.94zm-11 1L8.5 8.5l.94-2.06 2.06-.94-2.06-.94L8.5 2.5l-.94 2.06-2.06.94zm10 10l.94 2.06.94-2.06 2.06-.94-2.06-.94-.94-2.06-.94 2.06-2.06.94z\"/><path d=\"M17.41 7.96l-1.37-1.37c-.4-.4-.92-.59-1.43-.59-.52 0-1.04.2-1.43.59L10.3 9.45l-7.72 7.72c-.78.78-.78 2.05 0 2.83L4 21.41c.39.39.9.59 1.41.59.51 0 1.02-.2 1.41-.59l7.78-7.78 2.81-2.81c.8-.78.8-2.07 0-2.86zM5.41 20L4 18.59l7.72-7.72 1.47 1.35L5.41 20z\"/>\n",
       "  </svg>\n",
       "      </button>\n",
       "      \n",
       "  <style>\n",
       "    .colab-df-container {\n",
       "      display:flex;\n",
       "      flex-wrap:wrap;\n",
       "      gap: 12px;\n",
       "    }\n",
       "\n",
       "    .colab-df-convert {\n",
       "      background-color: #E8F0FE;\n",
       "      border: none;\n",
       "      border-radius: 50%;\n",
       "      cursor: pointer;\n",
       "      display: none;\n",
       "      fill: #1967D2;\n",
       "      height: 32px;\n",
       "      padding: 0 0 0 0;\n",
       "      width: 32px;\n",
       "    }\n",
       "\n",
       "    .colab-df-convert:hover {\n",
       "      background-color: #E2EBFA;\n",
       "      box-shadow: 0px 1px 2px rgba(60, 64, 67, 0.3), 0px 1px 3px 1px rgba(60, 64, 67, 0.15);\n",
       "      fill: #174EA6;\n",
       "    }\n",
       "\n",
       "    [theme=dark] .colab-df-convert {\n",
       "      background-color: #3B4455;\n",
       "      fill: #D2E3FC;\n",
       "    }\n",
       "\n",
       "    [theme=dark] .colab-df-convert:hover {\n",
       "      background-color: #434B5C;\n",
       "      box-shadow: 0px 1px 3px 1px rgba(0, 0, 0, 0.15);\n",
       "      filter: drop-shadow(0px 1px 2px rgba(0, 0, 0, 0.3));\n",
       "      fill: #FFFFFF;\n",
       "    }\n",
       "  </style>\n",
       "\n",
       "      <script>\n",
       "        const buttonEl =\n",
       "          document.querySelector('#df-c304fab0-0020-46f4-9b7a-2f41e801ebaa button.colab-df-convert');\n",
       "        buttonEl.style.display =\n",
       "          google.colab.kernel.accessAllowed ? 'block' : 'none';\n",
       "\n",
       "        async function convertToInteractive(key) {\n",
       "          const element = document.querySelector('#df-c304fab0-0020-46f4-9b7a-2f41e801ebaa');\n",
       "          const dataTable =\n",
       "            await google.colab.kernel.invokeFunction('convertToInteractive',\n",
       "                                                     [key], {});\n",
       "          if (!dataTable) return;\n",
       "\n",
       "          const docLinkHtml = 'Like what you see? Visit the ' +\n",
       "            '<a target=\"_blank\" href=https://colab.research.google.com/notebooks/data_table.ipynb>data table notebook</a>'\n",
       "            + ' to learn more about interactive tables.';\n",
       "          element.innerHTML = '';\n",
       "          dataTable['output_type'] = 'display_data';\n",
       "          await google.colab.output.renderOutput(dataTable, element);\n",
       "          const docLink = document.createElement('div');\n",
       "          docLink.innerHTML = docLinkHtml;\n",
       "          element.appendChild(docLink);\n",
       "        }\n",
       "      </script>\n",
       "    </div>\n",
       "  </div>\n",
       "  "
      ]
     },
     "metadata": {},
     "execution_count": 9
    }
   ],
   "source": [
    "frames[0]"
   ],
   "metadata": {
    "pycharm": {
     "name": "#%%\n"
    },
    "colab": {
     "base_uri": "https://localhost:8080/",
     "height": 424
    },
    "id": "8ACWO5vD1YKY",
    "executionInfo": {
     "status": "ok",
     "timestamp": 1654203541293,
     "user_tz": -60,
     "elapsed": 340,
     "user": {
      "displayName": "Sonia Mathews",
      "userId": "11348936089475052132"
     }
    },
    "outputId": "2315b2a5-15c0-4b65-bb16-12142e50ff46"
   }
  },
  {
   "cell_type": "code",
   "execution_count": null,
   "outputs": [],
   "source": [
    "action_segment_td = []\n",
    "ground_truth_actions = []\n",
    "\n",
    "for l in labels:\n",
    "    td_per_file = []\n",
    "    gt_actions_per_file = []\n",
    "    with open (l) as f:\n",
    "        for line in f:\n",
    "            x, y  = line.split(';')\n",
    "            #start_time, end_time = x.split(':')\n",
    "            td_per_file.append(x)\n",
    "            gt_actions_per_file.append(y.strip('\\n'))\n",
    "        action_segment_td.append(td_per_file)\n",
    "        ground_truth_actions.append(gt_actions_per_file)\n"
   ],
   "metadata": {
    "pycharm": {
     "name": "#%%\n"
    },
    "id": "eMGco6EY1YKZ"
   }
  },
  {
   "cell_type": "code",
   "execution_count": null,
   "outputs": [
    {
     "output_type": "execute_result",
     "data": {
      "text/plain": [
       "[['1635185484881988107:1635185508960098923',\n",
       "  '1635185508960098923:1635185540489498512',\n",
       "  '1635185540489498512:1635185544057936064',\n",
       "  '1635185544057936064:1635185549350041664',\n",
       "  '1635185549350041664:1635185554816474229',\n",
       "  '1635185554816474229:1635185560655390372'],\n",
       " ['1634917079582315741:1634917108946914859',\n",
       "  '1634917108946914859:1634917129420464685',\n",
       "  '1634917129420464685:1634917131539426547',\n",
       "  '1634917131539426547:1634917134957114204',\n",
       "  '1634917134957114204:1634917140855676126',\n",
       "  '1634917140855676126:1634917153391803434'],\n",
       " ['1634918557303008582:1634918568217991596',\n",
       "  '1634918568217991596:1634918593817386818',\n",
       "  '1634918593817386818:1634918646595079287',\n",
       "  '1634918646595079287:1634918651382668779',\n",
       "  '1634918651382668779:1634918657623002640',\n",
       "  '1634918657623002640:1634918664418463962'],\n",
       " ['1635186448159756509:1635186459390779330',\n",
       "  '1635186459390779330:1635186464698664958',\n",
       "  '1635186464698664958:1635186467998475334',\n",
       "  '1635186467998475334:1635186475265396949',\n",
       "  '1635186475265396949:1635186478849141870',\n",
       "  '1635186478849141870:1635186481130362413',\n",
       "  '1635186481130362413:1635186486632902742'],\n",
       " ['1635185935825804124:1635185969348269524',\n",
       "  '1635185969348269524:1635185996277440546',\n",
       "  '1635185996277440546:1635186012765719148',\n",
       "  '1635186012765719148:1635186032516262008',\n",
       "  '1635186032516262008:1635186052096633878',\n",
       "  '1635186052096633878:1635186057867041195',\n",
       "  '1635186057867041195:1635186061881681126',\n",
       "  '1635186061881681126:1635186067575062803',\n",
       "  '1635186067575062803:1635186075835431499'],\n",
       " ['1634911008133970035:1634911024397001825',\n",
       "  '1634911024397001825:1634911039755217044',\n",
       "  '1634911039755217044:1634911046766497324',\n",
       "  '1634911046766497324:1634911052516641860',\n",
       "  '1634911052516641860:1634911059302260004',\n",
       "  '1634911059302260004:1634911065428553896'],\n",
       " ['1634844464857226403:1634844485829945383',\n",
       "  '1634844485829945383:1634844491320960077',\n",
       "  '1634844491320960077:1634844502205358361',\n",
       "  '1634844502205358361:1634844506984232353',\n",
       "  '1634844506984232353:1634844518975645670',\n",
       "  '1634844518975645670:1634844522365154956',\n",
       "  '1634844522365154956:1634844547627315884',\n",
       "  '1634844547627315884:1634844576002994931',\n",
       "  '1634844576002994931:1634844579469330350',\n",
       "  '1634844579469330350:1634844585541479203',\n",
       "  '1634844585541479203:1634844592179552993'],\n",
       " ['1635187332639650806:1635187352430502691',\n",
       "  '1635187352430502691:1635187370181678476',\n",
       "  '1635187370181678476:1635187379580419808',\n",
       "  '1635187390113130011:1635187401583178627',\n",
       "  '1635187401583178627:1635187412005273411',\n",
       "  '1635187412005273411:1635187414508009298',\n",
       "  '1635187414508009298:1635187419674277491',\n",
       "  '1635187419674277491:1635187423021563600'],\n",
       " ['1634844105833881526:1634844131785567065',\n",
       "  '1634844131785567065:1634844140912956220',\n",
       "  '1634844140912956220:1634844148261190867',\n",
       "  '1634844148261190867:1634844161656180720',\n",
       "  '1634844161656180720:1634844169650791017',\n",
       "  '1634844169650791017:1634844180109491830',\n",
       "  '1634844180109491830:1634844215461427984',\n",
       "  '1634844215461427984:1634844227849974205',\n",
       "  '1634844227849974205:1634844231262897166',\n",
       "  '1634844231262897166:1634844242894455258',\n",
       "  '1634844242894455258:1634844247330759033'],\n",
       " ['1634905392961079591:1634905418692766835',\n",
       "  '1634905418692766835:1634905446126811449',\n",
       "  '1634905446126811449:1634905458665199322',\n",
       "  '1634905458665199322:1634905481791648006',\n",
       "  '1634905481791648006:1634905492871820364',\n",
       "  '1634905492871820364:1634905496931978547',\n",
       "  '1634905496931978547:1634905499795370192',\n",
       "  '1634905499795370192:1634905505893934709',\n",
       "  '1634905505893934709:1634905513124461847']]"
      ]
     },
     "metadata": {},
     "execution_count": 11
    }
   ],
   "source": [
    "action_segment_td #timestmps"
   ],
   "metadata": {
    "pycharm": {
     "name": "#%%\n"
    },
    "colab": {
     "base_uri": "https://localhost:8080/"
    },
    "id": "7VMNpcze1YKZ",
    "executionInfo": {
     "status": "ok",
     "timestamp": 1654203547048,
     "user_tz": -60,
     "elapsed": 4,
     "user": {
      "displayName": "Sonia Mathews",
      "userId": "11348936089475052132"
     }
    },
    "outputId": "44465934-76fa-4e1c-c334-9e5bf68c90da"
   }
  },
  {
   "cell_type": "code",
   "execution_count": null,
   "outputs": [
    {
     "output_type": "execute_result",
     "data": {
      "text/plain": [
       "10"
      ]
     },
     "metadata": {},
     "execution_count": 12
    }
   ],
   "source": [
    "len(ground_truth_actions) #labels\n"
   ],
   "metadata": {
    "pycharm": {
     "name": "#%%\n"
    },
    "colab": {
     "base_uri": "https://localhost:8080/"
    },
    "id": "xzyA_P6C1YKZ",
    "executionInfo": {
     "status": "ok",
     "timestamp": 1654203549720,
     "user_tz": -60,
     "elapsed": 2,
     "user": {
      "displayName": "Sonia Mathews",
      "userId": "11348936089475052132"
     }
    },
    "outputId": "0af5edeb-71f0-4792-c052-c4e091999709"
   }
  },
  {
   "cell_type": "code",
   "execution_count": null,
   "outputs": [
    {
     "output_type": "execute_result",
     "data": {
      "text/plain": [
       "[['move-in', 'manipulate', 'grasp', 'pick-up', 'move-out', 'drop'],\n",
       " ['move-in', 'manipulate', 'grasp', 'pick-up', 'move-out', 'drop'],\n",
       " ['move-in', 'manipulate', 'grasp', 'pick-up', 'move-out', 'drop'],\n",
       " ['move-in', 'manipulate', 'move-in', 'grasp', 'pick-up', 'move-out', 'drop'],\n",
       " ['move-in',\n",
       "  'manipulate',\n",
       "  'move-out',\n",
       "  'move-in',\n",
       "  'manipulate',\n",
       "  'grasp',\n",
       "  'pick-up',\n",
       "  'move-out',\n",
       "  'drop'],\n",
       " ['move-in', 'manipulate', 'grasp', 'pick-up', 'move-out', 'drop'],\n",
       " ['move-in',\n",
       "  'manipulate',\n",
       "  'move-out',\n",
       "  'move-in',\n",
       "  'manipulate',\n",
       "  'move-out',\n",
       "  'move-in',\n",
       "  'grasp',\n",
       "  'pick-up',\n",
       "  'move-out',\n",
       "  'drop'],\n",
       " ['move-in',\n",
       "  'manipulate',\n",
       "  'move-out',\n",
       "  'move-in',\n",
       "  'grasp',\n",
       "  'pick-up',\n",
       "  'move-out',\n",
       "  'drop'],\n",
       " ['move-in',\n",
       "  'manipulate',\n",
       "  'move-out',\n",
       "  'move-in',\n",
       "  'manipulate',\n",
       "  'move-out',\n",
       "  'move-in',\n",
       "  'grasp',\n",
       "  'pick-up',\n",
       "  'move-out',\n",
       "  'drop'],\n",
       " ['move-in',\n",
       "  'manipulate',\n",
       "  'move-out',\n",
       "  'move-in',\n",
       "  'manipulate',\n",
       "  'grasp',\n",
       "  'pick-up',\n",
       "  'move-out',\n",
       "  'drop']]"
      ]
     },
     "metadata": {},
     "execution_count": 13
    }
   ],
   "source": [
    "ground_truth_actions\n"
   ],
   "metadata": {
    "pycharm": {
     "name": "#%%\n"
    },
    "colab": {
     "base_uri": "https://localhost:8080/"
    },
    "id": "4gLSSUyo1YKa",
    "executionInfo": {
     "status": "ok",
     "timestamp": 1654203550884,
     "user_tz": -60,
     "elapsed": 3,
     "user": {
      "displayName": "Sonia Mathews",
      "userId": "11348936089475052132"
     }
    },
    "outputId": "0659e299-b782-4872-d924-99c55a1196b5"
   }
  },
  {
   "cell_type": "code",
   "execution_count": null,
   "outputs": [],
   "source": [
    "for df, duration_of_actions, labels in zip(frames,action_segment_td, ground_truth_actions):\n",
    "    condition = []\n",
    "    for actions in duration_of_actions:\n",
    "        start_time, end_time = actions.split(':')\n",
    "        condition.append(df['time'].between(int(start_time),int(end_time)))\n",
    "\n",
    "    df['label'] = np.select(condition,labels,default=None)\n",
    "    df.dropna(inplace=True)\n"
   ],
   "metadata": {
    "pycharm": {
     "name": "#%%\n"
    },
    "id": "P88JZZCn1YKa"
   }
  },
  {
   "cell_type": "code",
   "execution_count": null,
   "outputs": [
    {
     "output_type": "execute_result",
     "data": {
      "text/plain": [
       "62956"
      ]
     },
     "metadata": {},
     "execution_count": 15
    }
   ],
   "source": [
    "len(frames[0])\n"
   ],
   "metadata": {
    "pycharm": {
     "name": "#%%\n"
    },
    "colab": {
     "base_uri": "https://localhost:8080/"
    },
    "id": "3jTVoF1e1YKa",
    "executionInfo": {
     "status": "ok",
     "timestamp": 1654203554545,
     "user_tz": -60,
     "elapsed": 5,
     "user": {
      "displayName": "Sonia Mathews",
      "userId": "11348936089475052132"
     }
    },
    "outputId": "9372521a-787b-4a4f-b38f-5bd2cf4a4885"
   }
  },
  {
   "cell_type": "code",
   "execution_count": null,
   "outputs": [],
   "source": [
    "unique_actions = set()\n",
    "\n",
    "for frame in frames:\n",
    "    for label in frame['label']:\n",
    "        unique_actions.add(label)\n"
   ],
   "metadata": {
    "pycharm": {
     "name": "#%%\n"
    },
    "id": "MKruzAxk1YKb"
   }
  },
  {
   "cell_type": "code",
   "execution_count": null,
   "outputs": [
    {
     "output_type": "execute_result",
     "data": {
      "text/plain": [
       "{'drop', 'grasp', 'manipulate', 'move-in', 'move-out', 'pick-up'}"
      ]
     },
     "metadata": {},
     "execution_count": 17
    }
   ],
   "source": [
    "unique_actions\n"
   ],
   "metadata": {
    "pycharm": {
     "name": "#%%\n"
    },
    "colab": {
     "base_uri": "https://localhost:8080/"
    },
    "id": "oumxSJk61YKb",
    "executionInfo": {
     "status": "ok",
     "timestamp": 1654203562637,
     "user_tz": -60,
     "elapsed": 412,
     "user": {
      "displayName": "Sonia Mathews",
      "userId": "11348936089475052132"
     }
    },
    "outputId": "821f9229-e7b0-4c88-c858-aa8154a7d17f"
   }
  },
  {
   "cell_type": "code",
   "execution_count": null,
   "outputs": [
    {
     "output_type": "execute_result",
     "data": {
      "text/plain": [
       "   drop  grasp  manipulate  move-in  move-out  pick-up\n",
       "0     0      0           0        1         0        0\n",
       "1     0      1           0        0         0        0\n",
       "2     0      0           1        0         0        0\n",
       "3     0      0           0        0         0        1\n",
       "4     0      0           0        0         1        0\n",
       "5     1      0           0        0         0        0"
      ],
      "text/html": [
       "\n",
       "  <div id=\"df-acd61a18-b248-4926-894f-cce7d72efdd2\">\n",
       "    <div class=\"colab-df-container\">\n",
       "      <div>\n",
       "<style scoped>\n",
       "    .dataframe tbody tr th:only-of-type {\n",
       "        vertical-align: middle;\n",
       "    }\n",
       "\n",
       "    .dataframe tbody tr th {\n",
       "        vertical-align: top;\n",
       "    }\n",
       "\n",
       "    .dataframe thead th {\n",
       "        text-align: right;\n",
       "    }\n",
       "</style>\n",
       "<table border=\"1\" class=\"dataframe\">\n",
       "  <thead>\n",
       "    <tr style=\"text-align: right;\">\n",
       "      <th></th>\n",
       "      <th>drop</th>\n",
       "      <th>grasp</th>\n",
       "      <th>manipulate</th>\n",
       "      <th>move-in</th>\n",
       "      <th>move-out</th>\n",
       "      <th>pick-up</th>\n",
       "    </tr>\n",
       "  </thead>\n",
       "  <tbody>\n",
       "    <tr>\n",
       "      <th>0</th>\n",
       "      <td>0</td>\n",
       "      <td>0</td>\n",
       "      <td>0</td>\n",
       "      <td>1</td>\n",
       "      <td>0</td>\n",
       "      <td>0</td>\n",
       "    </tr>\n",
       "    <tr>\n",
       "      <th>1</th>\n",
       "      <td>0</td>\n",
       "      <td>1</td>\n",
       "      <td>0</td>\n",
       "      <td>0</td>\n",
       "      <td>0</td>\n",
       "      <td>0</td>\n",
       "    </tr>\n",
       "    <tr>\n",
       "      <th>2</th>\n",
       "      <td>0</td>\n",
       "      <td>0</td>\n",
       "      <td>1</td>\n",
       "      <td>0</td>\n",
       "      <td>0</td>\n",
       "      <td>0</td>\n",
       "    </tr>\n",
       "    <tr>\n",
       "      <th>3</th>\n",
       "      <td>0</td>\n",
       "      <td>0</td>\n",
       "      <td>0</td>\n",
       "      <td>0</td>\n",
       "      <td>0</td>\n",
       "      <td>1</td>\n",
       "    </tr>\n",
       "    <tr>\n",
       "      <th>4</th>\n",
       "      <td>0</td>\n",
       "      <td>0</td>\n",
       "      <td>0</td>\n",
       "      <td>0</td>\n",
       "      <td>1</td>\n",
       "      <td>0</td>\n",
       "    </tr>\n",
       "    <tr>\n",
       "      <th>5</th>\n",
       "      <td>1</td>\n",
       "      <td>0</td>\n",
       "      <td>0</td>\n",
       "      <td>0</td>\n",
       "      <td>0</td>\n",
       "      <td>0</td>\n",
       "    </tr>\n",
       "  </tbody>\n",
       "</table>\n",
       "</div>\n",
       "      <button class=\"colab-df-convert\" onclick=\"convertToInteractive('df-acd61a18-b248-4926-894f-cce7d72efdd2')\"\n",
       "              title=\"Convert this dataframe to an interactive table.\"\n",
       "              style=\"display:none;\">\n",
       "        \n",
       "  <svg xmlns=\"http://www.w3.org/2000/svg\" height=\"24px\"viewBox=\"0 0 24 24\"\n",
       "       width=\"24px\">\n",
       "    <path d=\"M0 0h24v24H0V0z\" fill=\"none\"/>\n",
       "    <path d=\"M18.56 5.44l.94 2.06.94-2.06 2.06-.94-2.06-.94-.94-2.06-.94 2.06-2.06.94zm-11 1L8.5 8.5l.94-2.06 2.06-.94-2.06-.94L8.5 2.5l-.94 2.06-2.06.94zm10 10l.94 2.06.94-2.06 2.06-.94-2.06-.94-.94-2.06-.94 2.06-2.06.94z\"/><path d=\"M17.41 7.96l-1.37-1.37c-.4-.4-.92-.59-1.43-.59-.52 0-1.04.2-1.43.59L10.3 9.45l-7.72 7.72c-.78.78-.78 2.05 0 2.83L4 21.41c.39.39.9.59 1.41.59.51 0 1.02-.2 1.41-.59l7.78-7.78 2.81-2.81c.8-.78.8-2.07 0-2.86zM5.41 20L4 18.59l7.72-7.72 1.47 1.35L5.41 20z\"/>\n",
       "  </svg>\n",
       "      </button>\n",
       "      \n",
       "  <style>\n",
       "    .colab-df-container {\n",
       "      display:flex;\n",
       "      flex-wrap:wrap;\n",
       "      gap: 12px;\n",
       "    }\n",
       "\n",
       "    .colab-df-convert {\n",
       "      background-color: #E8F0FE;\n",
       "      border: none;\n",
       "      border-radius: 50%;\n",
       "      cursor: pointer;\n",
       "      display: none;\n",
       "      fill: #1967D2;\n",
       "      height: 32px;\n",
       "      padding: 0 0 0 0;\n",
       "      width: 32px;\n",
       "    }\n",
       "\n",
       "    .colab-df-convert:hover {\n",
       "      background-color: #E2EBFA;\n",
       "      box-shadow: 0px 1px 2px rgba(60, 64, 67, 0.3), 0px 1px 3px 1px rgba(60, 64, 67, 0.15);\n",
       "      fill: #174EA6;\n",
       "    }\n",
       "\n",
       "    [theme=dark] .colab-df-convert {\n",
       "      background-color: #3B4455;\n",
       "      fill: #D2E3FC;\n",
       "    }\n",
       "\n",
       "    [theme=dark] .colab-df-convert:hover {\n",
       "      background-color: #434B5C;\n",
       "      box-shadow: 0px 1px 3px 1px rgba(0, 0, 0, 0.15);\n",
       "      filter: drop-shadow(0px 1px 2px rgba(0, 0, 0, 0.3));\n",
       "      fill: #FFFFFF;\n",
       "    }\n",
       "  </style>\n",
       "\n",
       "      <script>\n",
       "        const buttonEl =\n",
       "          document.querySelector('#df-acd61a18-b248-4926-894f-cce7d72efdd2 button.colab-df-convert');\n",
       "        buttonEl.style.display =\n",
       "          google.colab.kernel.accessAllowed ? 'block' : 'none';\n",
       "\n",
       "        async function convertToInteractive(key) {\n",
       "          const element = document.querySelector('#df-acd61a18-b248-4926-894f-cce7d72efdd2');\n",
       "          const dataTable =\n",
       "            await google.colab.kernel.invokeFunction('convertToInteractive',\n",
       "                                                     [key], {});\n",
       "          if (!dataTable) return;\n",
       "\n",
       "          const docLinkHtml = 'Like what you see? Visit the ' +\n",
       "            '<a target=\"_blank\" href=https://colab.research.google.com/notebooks/data_table.ipynb>data table notebook</a>'\n",
       "            + ' to learn more about interactive tables.';\n",
       "          element.innerHTML = '';\n",
       "          dataTable['output_type'] = 'display_data';\n",
       "          await google.colab.output.renderOutput(dataTable, element);\n",
       "          const docLink = document.createElement('div');\n",
       "          docLink.innerHTML = docLinkHtml;\n",
       "          element.appendChild(docLink);\n",
       "        }\n",
       "      </script>\n",
       "    </div>\n",
       "  </div>\n",
       "  "
      ]
     },
     "metadata": {},
     "execution_count": 18
    }
   ],
   "source": [
    "one_hot_encoding_acts = pd.get_dummies(list(unique_actions))\n",
    "one_hot_encoding_acts\n"
   ],
   "metadata": {
    "pycharm": {
     "name": "#%%\n"
    },
    "colab": {
     "base_uri": "https://localhost:8080/",
     "height": 238
    },
    "id": "lh99mJ3C1YKb",
    "executionInfo": {
     "status": "ok",
     "timestamp": 1654203562638,
     "user_tz": -60,
     "elapsed": 6,
     "user": {
      "displayName": "Sonia Mathews",
      "userId": "11348936089475052132"
     }
    },
    "outputId": "6ad689dd-7272-4e5d-91ef-c3954c51a061"
   }
  },
  {
   "cell_type": "code",
   "execution_count": null,
   "outputs": [],
   "source": [
    "actions_per_seq = []\n",
    "for frame in frames:\n",
    "    action_encodings = []\n",
    "    for i in range(0, len(frame)):\n",
    "        action_encodings.append(one_hot_encoding_acts[frame['label'].iloc[i]])\n",
    "    actions_per_seq.append(action_encodings)"
   ],
   "metadata": {
    "pycharm": {
     "name": "#%%\n"
    },
    "id": "ibAk0VSR1YKc"
   }
  },
  {
   "cell_type": "code",
   "execution_count": null,
   "outputs": [
    {
     "output_type": "execute_result",
     "data": {
      "text/plain": [
       "10"
      ]
     },
     "metadata": {},
     "execution_count": 20
    }
   ],
   "source": [
    "len(actions_per_seq)\n"
   ],
   "metadata": {
    "pycharm": {
     "name": "#%%\n"
    },
    "colab": {
     "base_uri": "https://localhost:8080/"
    },
    "id": "ge1idhJU1YKc",
    "executionInfo": {
     "status": "ok",
     "timestamp": 1654203573185,
     "user_tz": -60,
     "elapsed": 12,
     "user": {
      "displayName": "Sonia Mathews",
      "userId": "11348936089475052132"
     }
    },
    "outputId": "988a9302-7d96-4758-d47d-ea2bb31a3ea7"
   }
  },
  {
   "cell_type": "code",
   "execution_count": null,
   "outputs": [
    {
     "output_type": "execute_result",
     "data": {
      "text/plain": [
       "62956"
      ]
     },
     "metadata": {},
     "execution_count": 21
    }
   ],
   "source": [
    "len(actions_per_seq[0])\n"
   ],
   "metadata": {
    "pycharm": {
     "name": "#%%\n"
    },
    "colab": {
     "base_uri": "https://localhost:8080/"
    },
    "id": "SG7ZYdbh1YKc",
    "executionInfo": {
     "status": "ok",
     "timestamp": 1654203573185,
     "user_tz": -60,
     "elapsed": 10,
     "user": {
      "displayName": "Sonia Mathews",
      "userId": "11348936089475052132"
     }
    },
    "outputId": "37a27c24-a7d1-4e24-b543-68524f14d4f3"
   }
  },
  {
   "cell_type": "code",
   "execution_count": null,
   "outputs": [
    {
     "output_type": "execute_result",
     "data": {
      "text/plain": [
       "Index(['time', 'index_x', 'index_y', 'index_z', 'middle_x', 'middle_y',\n",
       "       'middle_z', 'ring_x', 'ring_y', 'ring_z', 'thumb_x', 'thumb_y',\n",
       "       'thumb_z', 'label'],\n",
       "      dtype='object')"
      ]
     },
     "metadata": {},
     "execution_count": 22
    }
   ],
   "source": [
    "frames[0].columns"
   ],
   "metadata": {
    "pycharm": {
     "name": "#%%\n"
    },
    "colab": {
     "base_uri": "https://localhost:8080/"
    },
    "id": "qWLfgg_y1YKc",
    "executionInfo": {
     "status": "ok",
     "timestamp": 1654203573186,
     "user_tz": -60,
     "elapsed": 9,
     "user": {
      "displayName": "Sonia Mathews",
      "userId": "11348936089475052132"
     }
    },
    "outputId": "3c3e4f48-e50c-4214-8094-c87dfabbb251"
   }
  },
  {
   "cell_type": "code",
   "execution_count": null,
   "outputs": [
    {
     "output_type": "execute_result",
     "data": {
      "text/plain": [
       "array([[ 0.16, -0.24,  0.48, ...,  0.4 ,  0.08,  1.2 ],\n",
       "       [ 0.  , -0.24,  0.48, ...,  0.4 ,  0.  ,  1.2 ],\n",
       "       [ 0.  , -0.16,  0.48, ...,  0.24,  0.  ,  1.2 ],\n",
       "       ...,\n",
       "       [ 0.  , -0.56,  0.16, ...,  0.8 , -0.56,  0.64],\n",
       "       [ 0.08, -0.56,  0.24, ...,  0.8 , -0.56,  0.64],\n",
       "       [ 0.16, -0.48,  0.24, ...,  0.8 , -0.4 ,  0.64]])"
      ]
     },
     "metadata": {},
     "execution_count": 23
    }
   ],
   "source": [
    "features = ['index_x', 'index_y', 'index_z','middle_x','middle_y','middle_z','ring_x','ring_y','ring_z','thumb_x', 'thumb_y', 'thumb_z' ]\n",
    "numeric_features = frames[0][features]\n",
    "#numeric_features.head()\n",
    "np.array(numeric_features)"
   ],
   "metadata": {
    "pycharm": {
     "name": "#%%\n"
    },
    "colab": {
     "base_uri": "https://localhost:8080/"
    },
    "id": "v7BPtRxg1YKc",
    "executionInfo": {
     "status": "ok",
     "timestamp": 1654203573186,
     "user_tz": -60,
     "elapsed": 8,
     "user": {
      "displayName": "Sonia Mathews",
      "userId": "11348936089475052132"
     }
    },
    "outputId": "2f05f946-8fbe-45fb-abf5-9926c5abb22e"
   }
  },
  {
   "cell_type": "code",
   "execution_count": null,
   "outputs": [
    {
     "output_type": "execute_result",
     "data": {
      "text/plain": [
       "      index_x  index_y  index_z  middle_x  middle_y  middle_z  ring_x  ring_y  \\\n",
       "6462     0.16    -0.24     0.48      0.16     -0.24      0.08    0.08    0.00   \n",
       "6463     0.00    -0.24     0.48      0.08     -0.24      0.00    0.00    0.00   \n",
       "6464     0.00    -0.16     0.48      0.00     -0.32      0.00   -0.16   -0.08   \n",
       "6465     0.00    -0.16     0.48     -0.08     -0.32      0.00   -0.16   -0.16   \n",
       "6466     0.00    -0.24     0.40     -0.08     -0.32      0.08   -0.16   -0.16   \n",
       "\n",
       "      ring_z  thumb_x  thumb_y  thumb_z  \n",
       "6462   -0.16     0.40     0.08     1.20  \n",
       "6463   -0.16     0.40     0.00     1.20  \n",
       "6464   -0.16     0.24     0.00     1.20  \n",
       "6465   -0.16     0.24    -0.08     1.12  \n",
       "6466   -0.16     0.24    -0.08     1.12  "
      ],
      "text/html": [
       "\n",
       "  <div id=\"df-bb458393-22be-49ac-933a-8e0f919a69b1\">\n",
       "    <div class=\"colab-df-container\">\n",
       "      <div>\n",
       "<style scoped>\n",
       "    .dataframe tbody tr th:only-of-type {\n",
       "        vertical-align: middle;\n",
       "    }\n",
       "\n",
       "    .dataframe tbody tr th {\n",
       "        vertical-align: top;\n",
       "    }\n",
       "\n",
       "    .dataframe thead th {\n",
       "        text-align: right;\n",
       "    }\n",
       "</style>\n",
       "<table border=\"1\" class=\"dataframe\">\n",
       "  <thead>\n",
       "    <tr style=\"text-align: right;\">\n",
       "      <th></th>\n",
       "      <th>index_x</th>\n",
       "      <th>index_y</th>\n",
       "      <th>index_z</th>\n",
       "      <th>middle_x</th>\n",
       "      <th>middle_y</th>\n",
       "      <th>middle_z</th>\n",
       "      <th>ring_x</th>\n",
       "      <th>ring_y</th>\n",
       "      <th>ring_z</th>\n",
       "      <th>thumb_x</th>\n",
       "      <th>thumb_y</th>\n",
       "      <th>thumb_z</th>\n",
       "    </tr>\n",
       "  </thead>\n",
       "  <tbody>\n",
       "    <tr>\n",
       "      <th>6462</th>\n",
       "      <td>0.16</td>\n",
       "      <td>-0.24</td>\n",
       "      <td>0.48</td>\n",
       "      <td>0.16</td>\n",
       "      <td>-0.24</td>\n",
       "      <td>0.08</td>\n",
       "      <td>0.08</td>\n",
       "      <td>0.00</td>\n",
       "      <td>-0.16</td>\n",
       "      <td>0.40</td>\n",
       "      <td>0.08</td>\n",
       "      <td>1.20</td>\n",
       "    </tr>\n",
       "    <tr>\n",
       "      <th>6463</th>\n",
       "      <td>0.00</td>\n",
       "      <td>-0.24</td>\n",
       "      <td>0.48</td>\n",
       "      <td>0.08</td>\n",
       "      <td>-0.24</td>\n",
       "      <td>0.00</td>\n",
       "      <td>0.00</td>\n",
       "      <td>0.00</td>\n",
       "      <td>-0.16</td>\n",
       "      <td>0.40</td>\n",
       "      <td>0.00</td>\n",
       "      <td>1.20</td>\n",
       "    </tr>\n",
       "    <tr>\n",
       "      <th>6464</th>\n",
       "      <td>0.00</td>\n",
       "      <td>-0.16</td>\n",
       "      <td>0.48</td>\n",
       "      <td>0.00</td>\n",
       "      <td>-0.32</td>\n",
       "      <td>0.00</td>\n",
       "      <td>-0.16</td>\n",
       "      <td>-0.08</td>\n",
       "      <td>-0.16</td>\n",
       "      <td>0.24</td>\n",
       "      <td>0.00</td>\n",
       "      <td>1.20</td>\n",
       "    </tr>\n",
       "    <tr>\n",
       "      <th>6465</th>\n",
       "      <td>0.00</td>\n",
       "      <td>-0.16</td>\n",
       "      <td>0.48</td>\n",
       "      <td>-0.08</td>\n",
       "      <td>-0.32</td>\n",
       "      <td>0.00</td>\n",
       "      <td>-0.16</td>\n",
       "      <td>-0.16</td>\n",
       "      <td>-0.16</td>\n",
       "      <td>0.24</td>\n",
       "      <td>-0.08</td>\n",
       "      <td>1.12</td>\n",
       "    </tr>\n",
       "    <tr>\n",
       "      <th>6466</th>\n",
       "      <td>0.00</td>\n",
       "      <td>-0.24</td>\n",
       "      <td>0.40</td>\n",
       "      <td>-0.08</td>\n",
       "      <td>-0.32</td>\n",
       "      <td>0.08</td>\n",
       "      <td>-0.16</td>\n",
       "      <td>-0.16</td>\n",
       "      <td>-0.16</td>\n",
       "      <td>0.24</td>\n",
       "      <td>-0.08</td>\n",
       "      <td>1.12</td>\n",
       "    </tr>\n",
       "  </tbody>\n",
       "</table>\n",
       "</div>\n",
       "      <button class=\"colab-df-convert\" onclick=\"convertToInteractive('df-bb458393-22be-49ac-933a-8e0f919a69b1')\"\n",
       "              title=\"Convert this dataframe to an interactive table.\"\n",
       "              style=\"display:none;\">\n",
       "        \n",
       "  <svg xmlns=\"http://www.w3.org/2000/svg\" height=\"24px\"viewBox=\"0 0 24 24\"\n",
       "       width=\"24px\">\n",
       "    <path d=\"M0 0h24v24H0V0z\" fill=\"none\"/>\n",
       "    <path d=\"M18.56 5.44l.94 2.06.94-2.06 2.06-.94-2.06-.94-.94-2.06-.94 2.06-2.06.94zm-11 1L8.5 8.5l.94-2.06 2.06-.94-2.06-.94L8.5 2.5l-.94 2.06-2.06.94zm10 10l.94 2.06.94-2.06 2.06-.94-2.06-.94-.94-2.06-.94 2.06-2.06.94z\"/><path d=\"M17.41 7.96l-1.37-1.37c-.4-.4-.92-.59-1.43-.59-.52 0-1.04.2-1.43.59L10.3 9.45l-7.72 7.72c-.78.78-.78 2.05 0 2.83L4 21.41c.39.39.9.59 1.41.59.51 0 1.02-.2 1.41-.59l7.78-7.78 2.81-2.81c.8-.78.8-2.07 0-2.86zM5.41 20L4 18.59l7.72-7.72 1.47 1.35L5.41 20z\"/>\n",
       "  </svg>\n",
       "      </button>\n",
       "      \n",
       "  <style>\n",
       "    .colab-df-container {\n",
       "      display:flex;\n",
       "      flex-wrap:wrap;\n",
       "      gap: 12px;\n",
       "    }\n",
       "\n",
       "    .colab-df-convert {\n",
       "      background-color: #E8F0FE;\n",
       "      border: none;\n",
       "      border-radius: 50%;\n",
       "      cursor: pointer;\n",
       "      display: none;\n",
       "      fill: #1967D2;\n",
       "      height: 32px;\n",
       "      padding: 0 0 0 0;\n",
       "      width: 32px;\n",
       "    }\n",
       "\n",
       "    .colab-df-convert:hover {\n",
       "      background-color: #E2EBFA;\n",
       "      box-shadow: 0px 1px 2px rgba(60, 64, 67, 0.3), 0px 1px 3px 1px rgba(60, 64, 67, 0.15);\n",
       "      fill: #174EA6;\n",
       "    }\n",
       "\n",
       "    [theme=dark] .colab-df-convert {\n",
       "      background-color: #3B4455;\n",
       "      fill: #D2E3FC;\n",
       "    }\n",
       "\n",
       "    [theme=dark] .colab-df-convert:hover {\n",
       "      background-color: #434B5C;\n",
       "      box-shadow: 0px 1px 3px 1px rgba(0, 0, 0, 0.15);\n",
       "      filter: drop-shadow(0px 1px 2px rgba(0, 0, 0, 0.3));\n",
       "      fill: #FFFFFF;\n",
       "    }\n",
       "  </style>\n",
       "\n",
       "      <script>\n",
       "        const buttonEl =\n",
       "          document.querySelector('#df-bb458393-22be-49ac-933a-8e0f919a69b1 button.colab-df-convert');\n",
       "        buttonEl.style.display =\n",
       "          google.colab.kernel.accessAllowed ? 'block' : 'none';\n",
       "\n",
       "        async function convertToInteractive(key) {\n",
       "          const element = document.querySelector('#df-bb458393-22be-49ac-933a-8e0f919a69b1');\n",
       "          const dataTable =\n",
       "            await google.colab.kernel.invokeFunction('convertToInteractive',\n",
       "                                                     [key], {});\n",
       "          if (!dataTable) return;\n",
       "\n",
       "          const docLinkHtml = 'Like what you see? Visit the ' +\n",
       "            '<a target=\"_blank\" href=https://colab.research.google.com/notebooks/data_table.ipynb>data table notebook</a>'\n",
       "            + ' to learn more about interactive tables.';\n",
       "          element.innerHTML = '';\n",
       "          dataTable['output_type'] = 'display_data';\n",
       "          await google.colab.output.renderOutput(dataTable, element);\n",
       "          const docLink = document.createElement('div');\n",
       "          docLink.innerHTML = docLinkHtml;\n",
       "          element.appendChild(docLink);\n",
       "        }\n",
       "      </script>\n",
       "    </div>\n",
       "  </div>\n",
       "  "
      ]
     },
     "metadata": {},
     "execution_count": 24
    }
   ],
   "source": [
    "numeric_features.head()\n"
   ],
   "metadata": {
    "pycharm": {
     "name": "#%%\n"
    },
    "colab": {
     "base_uri": "https://localhost:8080/",
     "height": 206
    },
    "id": "mFsNqD0I1YKd",
    "executionInfo": {
     "status": "ok",
     "timestamp": 1654203573186,
     "user_tz": -60,
     "elapsed": 7,
     "user": {
      "displayName": "Sonia Mathews",
      "userId": "11348936089475052132"
     }
    },
    "outputId": "bbe13c98-23f9-43d9-de19-1feab560aa34"
   }
  },
  {
   "cell_type": "code",
   "execution_count": null,
   "outputs": [],
   "source": [
    "numeric_features_per_seq = [np.array(frames[i][features]) for i in range(len(frames))]"
   ],
   "metadata": {
    "pycharm": {
     "name": "#%%\n"
    },
    "id": "5PcyfKFK1YKd"
   }
  },
  {
   "cell_type": "code",
   "source": [
    "labels_per_seq =   [np.array(actions_per_seq[i]) for i in range(len(actions_per_seq))]"
   ],
   "metadata": {
    "id": "Vr2QU2dXRhcl",
    "pycharm": {
     "name": "#%%\n"
    }
   },
   "execution_count": null,
   "outputs": []
  },
  {
   "cell_type": "code",
   "source": [
    "labels_per_seq[0].shape[0]"
   ],
   "metadata": {
    "colab": {
     "base_uri": "https://localhost:8080/"
    },
    "id": "U_adRxr0dJRc",
    "executionInfo": {
     "status": "ok",
     "timestamp": 1654203578377,
     "user_tz": -60,
     "elapsed": 8,
     "user": {
      "displayName": "Sonia Mathews",
      "userId": "11348936089475052132"
     }
    },
    "outputId": "a5284f7c-b4d6-432f-9934-35426f6b8b60",
    "pycharm": {
     "name": "#%%\n"
    }
   },
   "execution_count": null,
   "outputs": [
    {
     "output_type": "execute_result",
     "data": {
      "text/plain": [
       "62956"
      ]
     },
     "metadata": {},
     "execution_count": 27
    }
   ]
  },
  {
   "cell_type": "code",
   "source": [
    "longest_seq = 0\n",
    "for seq in numeric_features_per_seq:\n",
    "  print(seq.shape[0])\n",
    "\n",
    "  if seq.shape[0] >= longest_seq:\n",
    "    longest_seq = seq.shape[0]\n",
    "\n",
    "longest_seq\n"
   ],
   "metadata": {
    "colab": {
     "base_uri": "https://localhost:8080/"
    },
    "id": "lO_AdlBJfK9m",
    "executionInfo": {
     "status": "ok",
     "timestamp": 1654213524792,
     "user_tz": -60,
     "elapsed": 468,
     "user": {
      "displayName": "Sonia Mathews",
      "userId": "11348936089475052132"
     }
    },
    "outputId": "9e9bb999-3139-4969-8f67-51b4e16c2890",
    "pycharm": {
     "name": "#%%\n"
    }
   },
   "execution_count": null,
   "outputs": [
    {
     "output_type": "stream",
     "name": "stdout",
     "text": [
      "62956\n",
      "62000\n",
      "86756\n",
      "31740\n",
      "115690\n",
      "47585\n",
      "106329\n",
      "65967\n",
      "118387\n",
      "101627\n"
     ]
    },
    {
     "output_type": "execute_result",
     "data": {
      "text/plain": [
       "118387"
      ]
     },
     "metadata": {},
     "execution_count": 117
    }
   ]
  },
  {
   "cell_type": "code",
   "source": [],
   "metadata": {
    "id": "UeAy6Xbxj1uF",
    "pycharm": {
     "name": "#%%\n"
    }
   },
   "execution_count": null,
   "outputs": []
  },
  {
   "cell_type": "code",
   "source": [
    "def CausalWindowGenerator(sequence, labels, window_length=3, stride =1, n_th_frame = 1):\n",
    "  \"\"\"\n",
    "  squence = todo\n",
    "  actions = action per time step\n",
    "  window - xt-d - xt\n",
    "  \"\"\"\n",
    "  sequence_len = len(sequence)\n",
    "  for t in range(0,sequence_len,stride):\n",
    "    if t >= window_length-1:\n",
    "      start_index = t-window_length+1\n",
    "      x = sequence[start_index:t+1:n_th_frame,:]\n",
    "      y = labels[start_index:t+1:n_th_frame,:]\n",
    "    else:\n",
    "      padding_x = np.tile(sequence[0], ((window_length-t-1),1))\n",
    "      x = sequence[0:t+1:n_th_frame, :]\n",
    "      x = np.concatenate((padding_x,x),axis = 0)\n",
    "      \n",
    "      padding_y =  np.tile(labels[0], ((window_length-t-1),1))\n",
    "      y = labels[0:t+1:n_th_frame, :]\n",
    "      y = np.concatenate((padding_y,y),axis = 0)\n",
    "  \n",
    "    yield x, y"
   ],
   "metadata": {
    "id": "Sr_0Yem9dOyY",
    "pycharm": {
     "name": "#%%\n"
    }
   },
   "execution_count": null,
   "outputs": []
  },
  {
   "cell_type": "code",
   "source": [
    "test_for_single_seq = np.random.rand(3,5,12)\n",
    "test_for_single_seq"
   ],
   "metadata": {
    "colab": {
     "base_uri": "https://localhost:8080/"
    },
    "id": "FQ1jlPdjiBvv",
    "executionInfo": {
     "status": "ok",
     "timestamp": 1654205086972,
     "user_tz": -60,
     "elapsed": 307,
     "user": {
      "displayName": "Sonia Mathews",
      "userId": "11348936089475052132"
     }
    },
    "outputId": "c1bb4236-694a-4041-ced7-fe8e14956806",
    "pycharm": {
     "name": "#%%\n"
    }
   },
   "execution_count": null,
   "outputs": [
    {
     "output_type": "execute_result",
     "data": {
      "text/plain": [
       "array([[[0.40670287, 0.35641009, 0.15115604, 0.85647306, 0.10200765,\n",
       "         0.95312101, 0.16681381, 0.43940444, 0.16041639, 0.87927176,\n",
       "         0.47845035, 0.3991534 ],\n",
       "        [0.27547018, 0.05164124, 0.13871462, 0.7786384 , 0.17805335,\n",
       "         0.58343853, 0.92812382, 0.10766388, 0.45264432, 0.1559925 ,\n",
       "         0.30421083, 0.76412394],\n",
       "        [0.62692194, 0.71109532, 0.19346057, 0.06843106, 0.879656  ,\n",
       "         0.31984892, 0.60448001, 0.95521018, 0.41579212, 0.19589157,\n",
       "         0.16602848, 0.62480708],\n",
       "        [0.05629367, 0.32855282, 0.98041183, 0.77159738, 0.20933243,\n",
       "         0.58528221, 0.43978807, 0.61355417, 0.31997143, 0.11189976,\n",
       "         0.31301464, 0.99393789],\n",
       "        [0.16577418, 0.46292009, 0.63551716, 0.03708797, 0.25327427,\n",
       "         0.87021266, 0.13963125, 0.01807095, 0.68971395, 0.87107777,\n",
       "         0.35550828, 0.39679911]],\n",
       "\n",
       "       [[0.86291172, 0.93225717, 0.4507589 , 0.97499131, 0.69793712,\n",
       "         0.75361048, 0.57777436, 0.13460615, 0.80769903, 0.10466861,\n",
       "         0.3355113 , 0.56436443],\n",
       "        [0.62258858, 0.45810095, 0.81285525, 0.24826122, 0.42276573,\n",
       "         0.80561132, 0.54812305, 0.24752656, 0.01077179, 0.24692049,\n",
       "         0.24986966, 0.61576336],\n",
       "        [0.2619335 , 0.5242759 , 0.38025526, 0.03608969, 0.84360649,\n",
       "         0.44996638, 0.97648098, 0.05744724, 0.16308942, 0.18259429,\n",
       "         0.54129258, 0.27269887],\n",
       "        [0.49326827, 0.73394299, 0.18475542, 0.92069734, 0.66006297,\n",
       "         0.69007536, 0.16808633, 0.68575359, 0.60180436, 0.65496114,\n",
       "         0.51769405, 0.06948452],\n",
       "        [0.47383711, 0.48474378, 0.61789845, 0.10072126, 0.0282695 ,\n",
       "         0.06796864, 0.37588321, 0.77283443, 0.40713064, 0.93495462,\n",
       "         0.53267727, 0.44641035]],\n",
       "\n",
       "       [[0.32881927, 0.34406519, 0.04746396, 0.44860752, 0.90323111,\n",
       "         0.8814285 , 0.81295575, 0.96022762, 0.30655063, 0.92826695,\n",
       "         0.04492782, 0.36013266],\n",
       "        [0.07601758, 0.92542617, 0.33802338, 0.79098017, 0.74912237,\n",
       "         0.46583045, 0.08232609, 0.199965  , 0.07616922, 0.89246385,\n",
       "         0.72097136, 0.44768723],\n",
       "        [0.57644864, 0.20146667, 0.72051791, 0.84734403, 0.56855422,\n",
       "         0.60644178, 0.90027295, 0.89331634, 0.60037983, 0.78402483,\n",
       "         0.78833659, 0.98075878],\n",
       "        [0.68656318, 0.91994723, 0.06939596, 0.53145832, 0.58409983,\n",
       "         0.38663253, 0.26126036, 0.44931559, 0.54759145, 0.84592312,\n",
       "         0.81579525, 0.26126421],\n",
       "        [0.98205558, 0.92805764, 0.33567239, 0.7045622 , 0.64913446,\n",
       "         0.20879074, 0.74447148, 0.97771786, 0.4156041 , 0.09155826,\n",
       "         0.26129816, 0.22885461]]])"
      ]
     },
     "metadata": {},
     "execution_count": 72
    }
   ]
  },
  {
   "cell_type": "code",
   "source": [
    "test_labels_for_single_seq = labels_per_seq[0][np.random.choice(np.arange(labels_per_seq[0].shape[0]), size = (3,5,))]\n",
    "test_labels_for_single_seq"
   ],
   "metadata": {
    "colab": {
     "base_uri": "https://localhost:8080/"
    },
    "id": "GGxsGg8ci3Q0",
    "executionInfo": {
     "status": "ok",
     "timestamp": 1654210053229,
     "user_tz": -60,
     "elapsed": 297,
     "user": {
      "displayName": "Sonia Mathews",
      "userId": "11348936089475052132"
     }
    },
    "outputId": "a30e23cb-5de7-4046-86bf-7c96e5565d8b",
    "pycharm": {
     "name": "#%%\n"
    }
   },
   "execution_count": null,
   "outputs": [
    {
     "output_type": "execute_result",
     "data": {
      "text/plain": [
       "array([[[0, 0, 1, 0, 0, 0],\n",
       "        [0, 0, 1, 0, 0, 0],\n",
       "        [0, 0, 1, 0, 0, 0],\n",
       "        [1, 0, 0, 0, 0, 0],\n",
       "        [0, 0, 1, 0, 0, 0]],\n",
       "\n",
       "       [[1, 0, 0, 0, 0, 0],\n",
       "        [1, 0, 0, 0, 0, 0],\n",
       "        [0, 0, 1, 0, 0, 0],\n",
       "        [0, 1, 0, 0, 0, 0],\n",
       "        [0, 0, 1, 0, 0, 0]],\n",
       "\n",
       "       [[0, 0, 0, 0, 0, 1],\n",
       "        [0, 0, 0, 0, 0, 1],\n",
       "        [1, 0, 0, 0, 0, 0],\n",
       "        [0, 0, 1, 0, 0, 0],\n",
       "        [1, 0, 0, 0, 0, 0]]], dtype=uint8)"
      ]
     },
     "metadata": {},
     "execution_count": 78
    }
   ]
  },
  {
   "cell_type": "code",
   "source": [
    "# testing single sequences\n",
    "# for seq, l  in CausalWindowGenerator(test_for_single_seq,test_labels_for_single_seq):\n",
    "#   print(seq)\n",
    "\n",
    "#testing sequences in each batch\n",
    "X_train = []\n",
    "for x,y in zip(test_for_single_seq,test_labels_for_single_seq):\n",
    "    temp = []\n",
    "    for a, b in CausalWindowGenerator(x,y):\n",
    "      print(a)\n",
    "      temp.append(a)\n",
    "      #break\n",
    "    X_train.append(temp)\n",
    "\n",
    "    #break\n",
    "    print(\"----------\")\n",
    "    #X_train.append(temp))\n",
    "    \n",
    "#X_train"
   ],
   "metadata": {
    "id": "V9Qp_anFpFb-",
    "colab": {
     "base_uri": "https://localhost:8080/"
    },
    "executionInfo": {
     "status": "ok",
     "timestamp": 1654211400146,
     "user_tz": -60,
     "elapsed": 307,
     "user": {
      "displayName": "Sonia Mathews",
      "userId": "11348936089475052132"
     }
    },
    "outputId": "01b7be6c-7630-4b87-a7db-9044dfdfd15c",
    "pycharm": {
     "name": "#%%\n"
    }
   },
   "execution_count": null,
   "outputs": [
    {
     "output_type": "stream",
     "name": "stdout",
     "text": [
      "[[0.40670287 0.35641009 0.15115604 0.85647306 0.10200765 0.95312101\n",
      "  0.16681381 0.43940444 0.16041639 0.87927176 0.47845035 0.3991534 ]\n",
      " [0.40670287 0.35641009 0.15115604 0.85647306 0.10200765 0.95312101\n",
      "  0.16681381 0.43940444 0.16041639 0.87927176 0.47845035 0.3991534 ]\n",
      " [0.40670287 0.35641009 0.15115604 0.85647306 0.10200765 0.95312101\n",
      "  0.16681381 0.43940444 0.16041639 0.87927176 0.47845035 0.3991534 ]]\n",
      "[[0.40670287 0.35641009 0.15115604 0.85647306 0.10200765 0.95312101\n",
      "  0.16681381 0.43940444 0.16041639 0.87927176 0.47845035 0.3991534 ]\n",
      " [0.40670287 0.35641009 0.15115604 0.85647306 0.10200765 0.95312101\n",
      "  0.16681381 0.43940444 0.16041639 0.87927176 0.47845035 0.3991534 ]\n",
      " [0.27547018 0.05164124 0.13871462 0.7786384  0.17805335 0.58343853\n",
      "  0.92812382 0.10766388 0.45264432 0.1559925  0.30421083 0.76412394]]\n",
      "[[0.40670287 0.35641009 0.15115604 0.85647306 0.10200765 0.95312101\n",
      "  0.16681381 0.43940444 0.16041639 0.87927176 0.47845035 0.3991534 ]\n",
      " [0.27547018 0.05164124 0.13871462 0.7786384  0.17805335 0.58343853\n",
      "  0.92812382 0.10766388 0.45264432 0.1559925  0.30421083 0.76412394]\n",
      " [0.62692194 0.71109532 0.19346057 0.06843106 0.879656   0.31984892\n",
      "  0.60448001 0.95521018 0.41579212 0.19589157 0.16602848 0.62480708]]\n",
      "[[0.27547018 0.05164124 0.13871462 0.7786384  0.17805335 0.58343853\n",
      "  0.92812382 0.10766388 0.45264432 0.1559925  0.30421083 0.76412394]\n",
      " [0.62692194 0.71109532 0.19346057 0.06843106 0.879656   0.31984892\n",
      "  0.60448001 0.95521018 0.41579212 0.19589157 0.16602848 0.62480708]\n",
      " [0.05629367 0.32855282 0.98041183 0.77159738 0.20933243 0.58528221\n",
      "  0.43978807 0.61355417 0.31997143 0.11189976 0.31301464 0.99393789]]\n",
      "[[0.62692194 0.71109532 0.19346057 0.06843106 0.879656   0.31984892\n",
      "  0.60448001 0.95521018 0.41579212 0.19589157 0.16602848 0.62480708]\n",
      " [0.05629367 0.32855282 0.98041183 0.77159738 0.20933243 0.58528221\n",
      "  0.43978807 0.61355417 0.31997143 0.11189976 0.31301464 0.99393789]\n",
      " [0.16577418 0.46292009 0.63551716 0.03708797 0.25327427 0.87021266\n",
      "  0.13963125 0.01807095 0.68971395 0.87107777 0.35550828 0.39679911]]\n",
      "----------\n",
      "[[0.86291172 0.93225717 0.4507589  0.97499131 0.69793712 0.75361048\n",
      "  0.57777436 0.13460615 0.80769903 0.10466861 0.3355113  0.56436443]\n",
      " [0.86291172 0.93225717 0.4507589  0.97499131 0.69793712 0.75361048\n",
      "  0.57777436 0.13460615 0.80769903 0.10466861 0.3355113  0.56436443]\n",
      " [0.86291172 0.93225717 0.4507589  0.97499131 0.69793712 0.75361048\n",
      "  0.57777436 0.13460615 0.80769903 0.10466861 0.3355113  0.56436443]]\n",
      "[[0.86291172 0.93225717 0.4507589  0.97499131 0.69793712 0.75361048\n",
      "  0.57777436 0.13460615 0.80769903 0.10466861 0.3355113  0.56436443]\n",
      " [0.86291172 0.93225717 0.4507589  0.97499131 0.69793712 0.75361048\n",
      "  0.57777436 0.13460615 0.80769903 0.10466861 0.3355113  0.56436443]\n",
      " [0.62258858 0.45810095 0.81285525 0.24826122 0.42276573 0.80561132\n",
      "  0.54812305 0.24752656 0.01077179 0.24692049 0.24986966 0.61576336]]\n",
      "[[0.86291172 0.93225717 0.4507589  0.97499131 0.69793712 0.75361048\n",
      "  0.57777436 0.13460615 0.80769903 0.10466861 0.3355113  0.56436443]\n",
      " [0.62258858 0.45810095 0.81285525 0.24826122 0.42276573 0.80561132\n",
      "  0.54812305 0.24752656 0.01077179 0.24692049 0.24986966 0.61576336]\n",
      " [0.2619335  0.5242759  0.38025526 0.03608969 0.84360649 0.44996638\n",
      "  0.97648098 0.05744724 0.16308942 0.18259429 0.54129258 0.27269887]]\n",
      "[[0.62258858 0.45810095 0.81285525 0.24826122 0.42276573 0.80561132\n",
      "  0.54812305 0.24752656 0.01077179 0.24692049 0.24986966 0.61576336]\n",
      " [0.2619335  0.5242759  0.38025526 0.03608969 0.84360649 0.44996638\n",
      "  0.97648098 0.05744724 0.16308942 0.18259429 0.54129258 0.27269887]\n",
      " [0.49326827 0.73394299 0.18475542 0.92069734 0.66006297 0.69007536\n",
      "  0.16808633 0.68575359 0.60180436 0.65496114 0.51769405 0.06948452]]\n",
      "[[0.2619335  0.5242759  0.38025526 0.03608969 0.84360649 0.44996638\n",
      "  0.97648098 0.05744724 0.16308942 0.18259429 0.54129258 0.27269887]\n",
      " [0.49326827 0.73394299 0.18475542 0.92069734 0.66006297 0.69007536\n",
      "  0.16808633 0.68575359 0.60180436 0.65496114 0.51769405 0.06948452]\n",
      " [0.47383711 0.48474378 0.61789845 0.10072126 0.0282695  0.06796864\n",
      "  0.37588321 0.77283443 0.40713064 0.93495462 0.53267727 0.44641035]]\n",
      "----------\n",
      "[[0.32881927 0.34406519 0.04746396 0.44860752 0.90323111 0.8814285\n",
      "  0.81295575 0.96022762 0.30655063 0.92826695 0.04492782 0.36013266]\n",
      " [0.32881927 0.34406519 0.04746396 0.44860752 0.90323111 0.8814285\n",
      "  0.81295575 0.96022762 0.30655063 0.92826695 0.04492782 0.36013266]\n",
      " [0.32881927 0.34406519 0.04746396 0.44860752 0.90323111 0.8814285\n",
      "  0.81295575 0.96022762 0.30655063 0.92826695 0.04492782 0.36013266]]\n",
      "[[0.32881927 0.34406519 0.04746396 0.44860752 0.90323111 0.8814285\n",
      "  0.81295575 0.96022762 0.30655063 0.92826695 0.04492782 0.36013266]\n",
      " [0.32881927 0.34406519 0.04746396 0.44860752 0.90323111 0.8814285\n",
      "  0.81295575 0.96022762 0.30655063 0.92826695 0.04492782 0.36013266]\n",
      " [0.07601758 0.92542617 0.33802338 0.79098017 0.74912237 0.46583045\n",
      "  0.08232609 0.199965   0.07616922 0.89246385 0.72097136 0.44768723]]\n",
      "[[0.32881927 0.34406519 0.04746396 0.44860752 0.90323111 0.8814285\n",
      "  0.81295575 0.96022762 0.30655063 0.92826695 0.04492782 0.36013266]\n",
      " [0.07601758 0.92542617 0.33802338 0.79098017 0.74912237 0.46583045\n",
      "  0.08232609 0.199965   0.07616922 0.89246385 0.72097136 0.44768723]\n",
      " [0.57644864 0.20146667 0.72051791 0.84734403 0.56855422 0.60644178\n",
      "  0.90027295 0.89331634 0.60037983 0.78402483 0.78833659 0.98075878]]\n",
      "[[0.07601758 0.92542617 0.33802338 0.79098017 0.74912237 0.46583045\n",
      "  0.08232609 0.199965   0.07616922 0.89246385 0.72097136 0.44768723]\n",
      " [0.57644864 0.20146667 0.72051791 0.84734403 0.56855422 0.60644178\n",
      "  0.90027295 0.89331634 0.60037983 0.78402483 0.78833659 0.98075878]\n",
      " [0.68656318 0.91994723 0.06939596 0.53145832 0.58409983 0.38663253\n",
      "  0.26126036 0.44931559 0.54759145 0.84592312 0.81579525 0.26126421]]\n",
      "[[0.57644864 0.20146667 0.72051791 0.84734403 0.56855422 0.60644178\n",
      "  0.90027295 0.89331634 0.60037983 0.78402483 0.78833659 0.98075878]\n",
      " [0.68656318 0.91994723 0.06939596 0.53145832 0.58409983 0.38663253\n",
      "  0.26126036 0.44931559 0.54759145 0.84592312 0.81579525 0.26126421]\n",
      " [0.98205558 0.92805764 0.33567239 0.7045622  0.64913446 0.20879074\n",
      "  0.74447148 0.97771786 0.4156041  0.09155826 0.26129816 0.22885461]]\n",
      "----------\n"
     ]
    }
   ]
  },
  {
   "cell_type": "markdown",
   "source": [],
   "metadata": {
    "id": "WR6bbVeikABz",
    "pycharm": {
     "name": "#%% md\n"
    }
   }
  },
  {
   "cell_type": "code",
   "source": [
    "np.array(X_train).shape #batch_size,number_of_windows,window_size,features"
   ],
   "metadata": {
    "colab": {
     "base_uri": "https://localhost:8080/"
    },
    "id": "MXdxFabITvW3",
    "executionInfo": {
     "status": "ok",
     "timestamp": 1654213096405,
     "user_tz": -60,
     "elapsed": 275,
     "user": {
      "displayName": "Sonia Mathews",
      "userId": "11348936089475052132"
     }
    },
    "outputId": "639f21f3-3064-48d8-d889-4d837875e5af",
    "pycharm": {
     "name": "#%%\n"
    }
   },
   "execution_count": null,
   "outputs": [
    {
     "output_type": "execute_result",
     "data": {
      "text/plain": [
       "(3, 5, 3, 12)"
      ]
     },
     "metadata": {},
     "execution_count": 112
    }
   ]
  },
  {
   "cell_type": "code",
   "source": [
    "X_trian = np.array(X_train)"
   ],
   "metadata": {
    "id": "FXOpjak1qQ1I",
    "pycharm": {
     "name": "#%%\n"
    }
   },
   "execution_count": null,
   "outputs": []
  },
  {
   "cell_type": "code",
   "source": [
    "X_train_reshaped = np.reshape(X_train,(15,3,12))"
   ],
   "metadata": {
    "id": "5IsqADv2rRHy",
    "pycharm": {
     "name": "#%%\n"
    }
   },
   "execution_count": null,
   "outputs": []
  },
  {
   "cell_type": "code",
   "source": [
    "X_train_reshaped"
   ],
   "metadata": {
    "colab": {
     "base_uri": "https://localhost:8080/"
    },
    "id": "Rv4HszD_u47y",
    "executionInfo": {
     "status": "ok",
     "timestamp": 1654213115395,
     "user_tz": -60,
     "elapsed": 2,
     "user": {
      "displayName": "Sonia Mathews",
      "userId": "11348936089475052132"
     }
    },
    "outputId": "3de657cb-3d2c-4408-c29d-2387f9df65f4",
    "pycharm": {
     "name": "#%%\n"
    }
   },
   "execution_count": null,
   "outputs": [
    {
     "output_type": "execute_result",
     "data": {
      "text/plain": [
       "array([[[0.40670287, 0.35641009, 0.15115604, 0.85647306, 0.10200765,\n",
       "         0.95312101, 0.16681381, 0.43940444, 0.16041639, 0.87927176,\n",
       "         0.47845035, 0.3991534 ],\n",
       "        [0.40670287, 0.35641009, 0.15115604, 0.85647306, 0.10200765,\n",
       "         0.95312101, 0.16681381, 0.43940444, 0.16041639, 0.87927176,\n",
       "         0.47845035, 0.3991534 ],\n",
       "        [0.40670287, 0.35641009, 0.15115604, 0.85647306, 0.10200765,\n",
       "         0.95312101, 0.16681381, 0.43940444, 0.16041639, 0.87927176,\n",
       "         0.47845035, 0.3991534 ]],\n",
       "\n",
       "       [[0.40670287, 0.35641009, 0.15115604, 0.85647306, 0.10200765,\n",
       "         0.95312101, 0.16681381, 0.43940444, 0.16041639, 0.87927176,\n",
       "         0.47845035, 0.3991534 ],\n",
       "        [0.40670287, 0.35641009, 0.15115604, 0.85647306, 0.10200765,\n",
       "         0.95312101, 0.16681381, 0.43940444, 0.16041639, 0.87927176,\n",
       "         0.47845035, 0.3991534 ],\n",
       "        [0.27547018, 0.05164124, 0.13871462, 0.7786384 , 0.17805335,\n",
       "         0.58343853, 0.92812382, 0.10766388, 0.45264432, 0.1559925 ,\n",
       "         0.30421083, 0.76412394]],\n",
       "\n",
       "       [[0.40670287, 0.35641009, 0.15115604, 0.85647306, 0.10200765,\n",
       "         0.95312101, 0.16681381, 0.43940444, 0.16041639, 0.87927176,\n",
       "         0.47845035, 0.3991534 ],\n",
       "        [0.27547018, 0.05164124, 0.13871462, 0.7786384 , 0.17805335,\n",
       "         0.58343853, 0.92812382, 0.10766388, 0.45264432, 0.1559925 ,\n",
       "         0.30421083, 0.76412394],\n",
       "        [0.62692194, 0.71109532, 0.19346057, 0.06843106, 0.879656  ,\n",
       "         0.31984892, 0.60448001, 0.95521018, 0.41579212, 0.19589157,\n",
       "         0.16602848, 0.62480708]],\n",
       "\n",
       "       [[0.27547018, 0.05164124, 0.13871462, 0.7786384 , 0.17805335,\n",
       "         0.58343853, 0.92812382, 0.10766388, 0.45264432, 0.1559925 ,\n",
       "         0.30421083, 0.76412394],\n",
       "        [0.62692194, 0.71109532, 0.19346057, 0.06843106, 0.879656  ,\n",
       "         0.31984892, 0.60448001, 0.95521018, 0.41579212, 0.19589157,\n",
       "         0.16602848, 0.62480708],\n",
       "        [0.05629367, 0.32855282, 0.98041183, 0.77159738, 0.20933243,\n",
       "         0.58528221, 0.43978807, 0.61355417, 0.31997143, 0.11189976,\n",
       "         0.31301464, 0.99393789]],\n",
       "\n",
       "       [[0.62692194, 0.71109532, 0.19346057, 0.06843106, 0.879656  ,\n",
       "         0.31984892, 0.60448001, 0.95521018, 0.41579212, 0.19589157,\n",
       "         0.16602848, 0.62480708],\n",
       "        [0.05629367, 0.32855282, 0.98041183, 0.77159738, 0.20933243,\n",
       "         0.58528221, 0.43978807, 0.61355417, 0.31997143, 0.11189976,\n",
       "         0.31301464, 0.99393789],\n",
       "        [0.16577418, 0.46292009, 0.63551716, 0.03708797, 0.25327427,\n",
       "         0.87021266, 0.13963125, 0.01807095, 0.68971395, 0.87107777,\n",
       "         0.35550828, 0.39679911]],\n",
       "\n",
       "       [[0.86291172, 0.93225717, 0.4507589 , 0.97499131, 0.69793712,\n",
       "         0.75361048, 0.57777436, 0.13460615, 0.80769903, 0.10466861,\n",
       "         0.3355113 , 0.56436443],\n",
       "        [0.86291172, 0.93225717, 0.4507589 , 0.97499131, 0.69793712,\n",
       "         0.75361048, 0.57777436, 0.13460615, 0.80769903, 0.10466861,\n",
       "         0.3355113 , 0.56436443],\n",
       "        [0.86291172, 0.93225717, 0.4507589 , 0.97499131, 0.69793712,\n",
       "         0.75361048, 0.57777436, 0.13460615, 0.80769903, 0.10466861,\n",
       "         0.3355113 , 0.56436443]],\n",
       "\n",
       "       [[0.86291172, 0.93225717, 0.4507589 , 0.97499131, 0.69793712,\n",
       "         0.75361048, 0.57777436, 0.13460615, 0.80769903, 0.10466861,\n",
       "         0.3355113 , 0.56436443],\n",
       "        [0.86291172, 0.93225717, 0.4507589 , 0.97499131, 0.69793712,\n",
       "         0.75361048, 0.57777436, 0.13460615, 0.80769903, 0.10466861,\n",
       "         0.3355113 , 0.56436443],\n",
       "        [0.62258858, 0.45810095, 0.81285525, 0.24826122, 0.42276573,\n",
       "         0.80561132, 0.54812305, 0.24752656, 0.01077179, 0.24692049,\n",
       "         0.24986966, 0.61576336]],\n",
       "\n",
       "       [[0.86291172, 0.93225717, 0.4507589 , 0.97499131, 0.69793712,\n",
       "         0.75361048, 0.57777436, 0.13460615, 0.80769903, 0.10466861,\n",
       "         0.3355113 , 0.56436443],\n",
       "        [0.62258858, 0.45810095, 0.81285525, 0.24826122, 0.42276573,\n",
       "         0.80561132, 0.54812305, 0.24752656, 0.01077179, 0.24692049,\n",
       "         0.24986966, 0.61576336],\n",
       "        [0.2619335 , 0.5242759 , 0.38025526, 0.03608969, 0.84360649,\n",
       "         0.44996638, 0.97648098, 0.05744724, 0.16308942, 0.18259429,\n",
       "         0.54129258, 0.27269887]],\n",
       "\n",
       "       [[0.62258858, 0.45810095, 0.81285525, 0.24826122, 0.42276573,\n",
       "         0.80561132, 0.54812305, 0.24752656, 0.01077179, 0.24692049,\n",
       "         0.24986966, 0.61576336],\n",
       "        [0.2619335 , 0.5242759 , 0.38025526, 0.03608969, 0.84360649,\n",
       "         0.44996638, 0.97648098, 0.05744724, 0.16308942, 0.18259429,\n",
       "         0.54129258, 0.27269887],\n",
       "        [0.49326827, 0.73394299, 0.18475542, 0.92069734, 0.66006297,\n",
       "         0.69007536, 0.16808633, 0.68575359, 0.60180436, 0.65496114,\n",
       "         0.51769405, 0.06948452]],\n",
       "\n",
       "       [[0.2619335 , 0.5242759 , 0.38025526, 0.03608969, 0.84360649,\n",
       "         0.44996638, 0.97648098, 0.05744724, 0.16308942, 0.18259429,\n",
       "         0.54129258, 0.27269887],\n",
       "        [0.49326827, 0.73394299, 0.18475542, 0.92069734, 0.66006297,\n",
       "         0.69007536, 0.16808633, 0.68575359, 0.60180436, 0.65496114,\n",
       "         0.51769405, 0.06948452],\n",
       "        [0.47383711, 0.48474378, 0.61789845, 0.10072126, 0.0282695 ,\n",
       "         0.06796864, 0.37588321, 0.77283443, 0.40713064, 0.93495462,\n",
       "         0.53267727, 0.44641035]],\n",
       "\n",
       "       [[0.32881927, 0.34406519, 0.04746396, 0.44860752, 0.90323111,\n",
       "         0.8814285 , 0.81295575, 0.96022762, 0.30655063, 0.92826695,\n",
       "         0.04492782, 0.36013266],\n",
       "        [0.32881927, 0.34406519, 0.04746396, 0.44860752, 0.90323111,\n",
       "         0.8814285 , 0.81295575, 0.96022762, 0.30655063, 0.92826695,\n",
       "         0.04492782, 0.36013266],\n",
       "        [0.32881927, 0.34406519, 0.04746396, 0.44860752, 0.90323111,\n",
       "         0.8814285 , 0.81295575, 0.96022762, 0.30655063, 0.92826695,\n",
       "         0.04492782, 0.36013266]],\n",
       "\n",
       "       [[0.32881927, 0.34406519, 0.04746396, 0.44860752, 0.90323111,\n",
       "         0.8814285 , 0.81295575, 0.96022762, 0.30655063, 0.92826695,\n",
       "         0.04492782, 0.36013266],\n",
       "        [0.32881927, 0.34406519, 0.04746396, 0.44860752, 0.90323111,\n",
       "         0.8814285 , 0.81295575, 0.96022762, 0.30655063, 0.92826695,\n",
       "         0.04492782, 0.36013266],\n",
       "        [0.07601758, 0.92542617, 0.33802338, 0.79098017, 0.74912237,\n",
       "         0.46583045, 0.08232609, 0.199965  , 0.07616922, 0.89246385,\n",
       "         0.72097136, 0.44768723]],\n",
       "\n",
       "       [[0.32881927, 0.34406519, 0.04746396, 0.44860752, 0.90323111,\n",
       "         0.8814285 , 0.81295575, 0.96022762, 0.30655063, 0.92826695,\n",
       "         0.04492782, 0.36013266],\n",
       "        [0.07601758, 0.92542617, 0.33802338, 0.79098017, 0.74912237,\n",
       "         0.46583045, 0.08232609, 0.199965  , 0.07616922, 0.89246385,\n",
       "         0.72097136, 0.44768723],\n",
       "        [0.57644864, 0.20146667, 0.72051791, 0.84734403, 0.56855422,\n",
       "         0.60644178, 0.90027295, 0.89331634, 0.60037983, 0.78402483,\n",
       "         0.78833659, 0.98075878]],\n",
       "\n",
       "       [[0.07601758, 0.92542617, 0.33802338, 0.79098017, 0.74912237,\n",
       "         0.46583045, 0.08232609, 0.199965  , 0.07616922, 0.89246385,\n",
       "         0.72097136, 0.44768723],\n",
       "        [0.57644864, 0.20146667, 0.72051791, 0.84734403, 0.56855422,\n",
       "         0.60644178, 0.90027295, 0.89331634, 0.60037983, 0.78402483,\n",
       "         0.78833659, 0.98075878],\n",
       "        [0.68656318, 0.91994723, 0.06939596, 0.53145832, 0.58409983,\n",
       "         0.38663253, 0.26126036, 0.44931559, 0.54759145, 0.84592312,\n",
       "         0.81579525, 0.26126421]],\n",
       "\n",
       "       [[0.57644864, 0.20146667, 0.72051791, 0.84734403, 0.56855422,\n",
       "         0.60644178, 0.90027295, 0.89331634, 0.60037983, 0.78402483,\n",
       "         0.78833659, 0.98075878],\n",
       "        [0.68656318, 0.91994723, 0.06939596, 0.53145832, 0.58409983,\n",
       "         0.38663253, 0.26126036, 0.44931559, 0.54759145, 0.84592312,\n",
       "         0.81579525, 0.26126421],\n",
       "        [0.98205558, 0.92805764, 0.33567239, 0.7045622 , 0.64913446,\n",
       "         0.20879074, 0.74447148, 0.97771786, 0.4156041 , 0.09155826,\n",
       "         0.26129816, 0.22885461]]])"
      ]
     },
     "metadata": {},
     "execution_count": 115
    }
   ]
  },
  {
   "cell_type": "code",
   "source": [],
   "metadata": {
    "id": "e-QamBK4u6v4",
    "pycharm": {
     "name": "#%%\n"
    }
   },
   "execution_count": null,
   "outputs": []
  }
 ]
}