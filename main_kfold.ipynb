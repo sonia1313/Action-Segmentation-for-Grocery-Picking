{
 "cells": [
  {
   "cell_type": "code",
   "execution_count": 2,
   "outputs": [
    {
     "output_type": "stream",
     "name": "stdout",
     "text": [
      "Mounted at /content/drive\n"
     ]
    }
   ],
   "source": [
    "import os\n",
    "from google.colab import drive\n",
    "\n",
    "drive.mount('/content/drive', force_remount=True)\n",
    "\n",
    "os.chdir(\"/content/drive/Othercomputers/Dell/Action-Segmentation-Project\")"
   ],
   "metadata": {
    "pycharm": {
     "name": "#%%\n"
    },
    "colab": {
     "base_uri": "https://localhost:8080/"
    },
    "id": "PzBa903bz8wU",
    "executionInfo": {
     "status": "ok",
     "timestamp": 1658419068486,
     "user_tz": -60,
     "elapsed": 2767,
     "user": {
      "displayName": "Sonia Mathews",
      "userId": "11348936089475052132"
     }
    },
    "outputId": "d03735ed-0d26-468e-8088-2d93469873fa"
   }
  },
  {
   "cell_type": "code",
   "execution_count": 3,
   "outputs": [
    {
     "output_type": "stream",
     "name": "stdout",
     "text": [
      "/content/drive/Othercomputers/Dell/Action-Segmentation-Project\n"
     ]
    }
   ],
   "source": [
    "!pwd"
   ],
   "metadata": {
    "pycharm": {
     "name": "#%%\n"
    },
    "colab": {
     "base_uri": "https://localhost:8080/"
    },
    "id": "-WO6c9KSz8wa",
    "executionInfo": {
     "status": "ok",
     "timestamp": 1658419071254,
     "user_tz": -60,
     "elapsed": 485,
     "user": {
      "displayName": "Sonia Mathews",
      "userId": "11348936089475052132"
     }
    },
    "outputId": "bda46f77-2984-4471-dab4-deb853f46a80"
   }
  },
  {
   "cell_type": "code",
   "execution_count": 4,
   "outputs": [
    {
     "output_type": "stream",
     "name": "stdout",
     "text": [
      "Looking in indexes: https://pypi.org/simple, https://us-python.pkg.dev/colab-wheels/public/simple/\n",
      "Collecting pytorch-lightning\n",
      "  Downloading pytorch_lightning-1.6.5-py3-none-any.whl (585 kB)\n",
      "\u001B[K     |████████████████████████████████| 585 kB 5.0 MB/s \n",
      "\u001B[?25hRequirement already satisfied: torch>=1.8.* in /usr/local/lib/python3.7/dist-packages (from pytorch-lightning) (1.12.0+cu113)\n",
      "Requirement already satisfied: packaging>=17.0 in /usr/local/lib/python3.7/dist-packages (from pytorch-lightning) (21.3)\n",
      "Requirement already satisfied: tqdm>=4.57.0 in /usr/local/lib/python3.7/dist-packages (from pytorch-lightning) (4.64.0)\n",
      "Collecting pyDeprecate>=0.3.1\n",
      "  Downloading pyDeprecate-0.3.2-py3-none-any.whl (10 kB)\n",
      "Collecting torchmetrics>=0.4.1\n",
      "  Downloading torchmetrics-0.9.2-py3-none-any.whl (419 kB)\n",
      "\u001B[K     |████████████████████████████████| 419 kB 59.8 MB/s \n",
      "\u001B[?25hCollecting fsspec[http]!=2021.06.0,>=2021.05.0\n",
      "  Downloading fsspec-2022.5.0-py3-none-any.whl (140 kB)\n",
      "\u001B[K     |████████████████████████████████| 140 kB 63.5 MB/s \n",
      "\u001B[?25hRequirement already satisfied: typing-extensions>=4.0.0 in /usr/local/lib/python3.7/dist-packages (from pytorch-lightning) (4.1.1)\n",
      "Requirement already satisfied: tensorboard>=2.2.0 in /usr/local/lib/python3.7/dist-packages (from pytorch-lightning) (2.8.0)\n",
      "Collecting PyYAML>=5.4\n",
      "  Downloading PyYAML-6.0-cp37-cp37m-manylinux_2_5_x86_64.manylinux1_x86_64.manylinux_2_12_x86_64.manylinux2010_x86_64.whl (596 kB)\n",
      "\u001B[K     |████████████████████████████████| 596 kB 46.0 MB/s \n",
      "\u001B[?25hRequirement already satisfied: numpy>=1.17.2 in /usr/local/lib/python3.7/dist-packages (from pytorch-lightning) (1.21.6)\n",
      "Requirement already satisfied: protobuf<=3.20.1 in /usr/local/lib/python3.7/dist-packages (from pytorch-lightning) (3.17.3)\n",
      "Collecting aiohttp\n",
      "  Downloading aiohttp-3.8.1-cp37-cp37m-manylinux_2_5_x86_64.manylinux1_x86_64.manylinux_2_12_x86_64.manylinux2010_x86_64.whl (1.1 MB)\n",
      "\u001B[K     |████████████████████████████████| 1.1 MB 53.3 MB/s \n",
      "\u001B[?25hRequirement already satisfied: requests in /usr/local/lib/python3.7/dist-packages (from fsspec[http]!=2021.06.0,>=2021.05.0->pytorch-lightning) (2.23.0)\n",
      "Requirement already satisfied: pyparsing!=3.0.5,>=2.0.2 in /usr/local/lib/python3.7/dist-packages (from packaging>=17.0->pytorch-lightning) (3.0.9)\n",
      "Requirement already satisfied: six>=1.9 in /usr/local/lib/python3.7/dist-packages (from protobuf<=3.20.1->pytorch-lightning) (1.15.0)\n",
      "Requirement already satisfied: grpcio>=1.24.3 in /usr/local/lib/python3.7/dist-packages (from tensorboard>=2.2.0->pytorch-lightning) (1.47.0)\n",
      "Requirement already satisfied: werkzeug>=0.11.15 in /usr/local/lib/python3.7/dist-packages (from tensorboard>=2.2.0->pytorch-lightning) (1.0.1)\n",
      "Requirement already satisfied: tensorboard-plugin-wit>=1.6.0 in /usr/local/lib/python3.7/dist-packages (from tensorboard>=2.2.0->pytorch-lightning) (1.8.1)\n",
      "Requirement already satisfied: tensorboard-data-server<0.7.0,>=0.6.0 in /usr/local/lib/python3.7/dist-packages (from tensorboard>=2.2.0->pytorch-lightning) (0.6.1)\n",
      "Requirement already satisfied: wheel>=0.26 in /usr/local/lib/python3.7/dist-packages (from tensorboard>=2.2.0->pytorch-lightning) (0.37.1)\n",
      "Requirement already satisfied: absl-py>=0.4 in /usr/local/lib/python3.7/dist-packages (from tensorboard>=2.2.0->pytorch-lightning) (1.1.0)\n",
      "Requirement already satisfied: google-auth<3,>=1.6.3 in /usr/local/lib/python3.7/dist-packages (from tensorboard>=2.2.0->pytorch-lightning) (1.35.0)\n",
      "Requirement already satisfied: setuptools>=41.0.0 in /usr/local/lib/python3.7/dist-packages (from tensorboard>=2.2.0->pytorch-lightning) (57.4.0)\n",
      "Requirement already satisfied: google-auth-oauthlib<0.5,>=0.4.1 in /usr/local/lib/python3.7/dist-packages (from tensorboard>=2.2.0->pytorch-lightning) (0.4.6)\n",
      "Requirement already satisfied: markdown>=2.6.8 in /usr/local/lib/python3.7/dist-packages (from tensorboard>=2.2.0->pytorch-lightning) (3.4.1)\n",
      "Requirement already satisfied: pyasn1-modules>=0.2.1 in /usr/local/lib/python3.7/dist-packages (from google-auth<3,>=1.6.3->tensorboard>=2.2.0->pytorch-lightning) (0.2.8)\n",
      "Requirement already satisfied: cachetools<5.0,>=2.0.0 in /usr/local/lib/python3.7/dist-packages (from google-auth<3,>=1.6.3->tensorboard>=2.2.0->pytorch-lightning) (4.2.4)\n",
      "Requirement already satisfied: rsa<5,>=3.1.4 in /usr/local/lib/python3.7/dist-packages (from google-auth<3,>=1.6.3->tensorboard>=2.2.0->pytorch-lightning) (4.8)\n",
      "Requirement already satisfied: requests-oauthlib>=0.7.0 in /usr/local/lib/python3.7/dist-packages (from google-auth-oauthlib<0.5,>=0.4.1->tensorboard>=2.2.0->pytorch-lightning) (1.3.1)\n",
      "Requirement already satisfied: importlib-metadata>=4.4 in /usr/local/lib/python3.7/dist-packages (from markdown>=2.6.8->tensorboard>=2.2.0->pytorch-lightning) (4.12.0)\n",
      "Requirement already satisfied: zipp>=0.5 in /usr/local/lib/python3.7/dist-packages (from importlib-metadata>=4.4->markdown>=2.6.8->tensorboard>=2.2.0->pytorch-lightning) (3.8.1)\n",
      "Requirement already satisfied: pyasn1<0.5.0,>=0.4.6 in /usr/local/lib/python3.7/dist-packages (from pyasn1-modules>=0.2.1->google-auth<3,>=1.6.3->tensorboard>=2.2.0->pytorch-lightning) (0.4.8)\n",
      "Requirement already satisfied: chardet<4,>=3.0.2 in /usr/local/lib/python3.7/dist-packages (from requests->fsspec[http]!=2021.06.0,>=2021.05.0->pytorch-lightning) (3.0.4)\n",
      "Requirement already satisfied: certifi>=2017.4.17 in /usr/local/lib/python3.7/dist-packages (from requests->fsspec[http]!=2021.06.0,>=2021.05.0->pytorch-lightning) (2022.6.15)\n",
      "Requirement already satisfied: urllib3!=1.25.0,!=1.25.1,<1.26,>=1.21.1 in /usr/local/lib/python3.7/dist-packages (from requests->fsspec[http]!=2021.06.0,>=2021.05.0->pytorch-lightning) (1.24.3)\n",
      "Requirement already satisfied: idna<3,>=2.5 in /usr/local/lib/python3.7/dist-packages (from requests->fsspec[http]!=2021.06.0,>=2021.05.0->pytorch-lightning) (2.10)\n",
      "Requirement already satisfied: oauthlib>=3.0.0 in /usr/local/lib/python3.7/dist-packages (from requests-oauthlib>=0.7.0->google-auth-oauthlib<0.5,>=0.4.1->tensorboard>=2.2.0->pytorch-lightning) (3.2.0)\n",
      "Collecting aiosignal>=1.1.2\n",
      "  Downloading aiosignal-1.2.0-py3-none-any.whl (8.2 kB)\n",
      "Collecting yarl<2.0,>=1.0\n",
      "  Downloading yarl-1.7.2-cp37-cp37m-manylinux_2_5_x86_64.manylinux1_x86_64.manylinux_2_12_x86_64.manylinux2010_x86_64.whl (271 kB)\n",
      "\u001B[K     |████████████████████████████████| 271 kB 71.6 MB/s \n",
      "\u001B[?25hCollecting frozenlist>=1.1.1\n",
      "  Downloading frozenlist-1.3.0-cp37-cp37m-manylinux_2_5_x86_64.manylinux1_x86_64.manylinux_2_17_x86_64.manylinux2014_x86_64.whl (144 kB)\n",
      "\u001B[K     |████████████████████████████████| 144 kB 66.6 MB/s \n",
      "\u001B[?25hCollecting async-timeout<5.0,>=4.0.0a3\n",
      "  Downloading async_timeout-4.0.2-py3-none-any.whl (5.8 kB)\n",
      "Requirement already satisfied: attrs>=17.3.0 in /usr/local/lib/python3.7/dist-packages (from aiohttp->fsspec[http]!=2021.06.0,>=2021.05.0->pytorch-lightning) (21.4.0)\n",
      "Requirement already satisfied: charset-normalizer<3.0,>=2.0 in /usr/local/lib/python3.7/dist-packages (from aiohttp->fsspec[http]!=2021.06.0,>=2021.05.0->pytorch-lightning) (2.1.0)\n",
      "Collecting asynctest==0.13.0\n",
      "  Downloading asynctest-0.13.0-py3-none-any.whl (26 kB)\n",
      "Collecting multidict<7.0,>=4.5\n",
      "  Downloading multidict-6.0.2-cp37-cp37m-manylinux_2_17_x86_64.manylinux2014_x86_64.whl (94 kB)\n",
      "\u001B[K     |████████████████████████████████| 94 kB 4.1 MB/s \n",
      "\u001B[?25hInstalling collected packages: multidict, frozenlist, yarl, asynctest, async-timeout, aiosignal, fsspec, aiohttp, torchmetrics, PyYAML, pyDeprecate, pytorch-lightning\n",
      "  Attempting uninstall: PyYAML\n",
      "    Found existing installation: PyYAML 3.13\n",
      "    Uninstalling PyYAML-3.13:\n",
      "      Successfully uninstalled PyYAML-3.13\n",
      "Successfully installed PyYAML-6.0 aiohttp-3.8.1 aiosignal-1.2.0 async-timeout-4.0.2 asynctest-0.13.0 frozenlist-1.3.0 fsspec-2022.5.0 multidict-6.0.2 pyDeprecate-0.3.2 pytorch-lightning-1.6.5 torchmetrics-0.9.2 yarl-1.7.2\n"
     ]
    }
   ],
   "source": [
    "! pip install pytorch-lightning\n"
   ],
   "metadata": {
    "pycharm": {
     "name": "#%%\n"
    },
    "id": "gJEFXwjHz8wb",
    "executionInfo": {
     "status": "ok",
     "timestamp": 1658419082782,
     "user_tz": -60,
     "elapsed": 10195,
     "user": {
      "displayName": "Sonia Mathews",
      "userId": "11348936089475052132"
     }
    },
    "colab": {
     "base_uri": "https://localhost:8080/"
    },
    "outputId": "4dcf7b04-b716-4657-c4d9-a08f106ff1ea"
   }
  },
  {
   "cell_type": "code",
   "execution_count": 5,
   "outputs": [
    {
     "output_type": "stream",
     "name": "stdout",
     "text": [
      "\u001B[K     |████████████████████████████████| 1.8 MB 5.8 MB/s \n",
      "\u001B[K     |████████████████████████████████| 181 kB 62.1 MB/s \n",
      "\u001B[K     |████████████████████████████████| 153 kB 69.9 MB/s \n",
      "\u001B[K     |████████████████████████████████| 63 kB 1.7 MB/s \n",
      "\u001B[?25h  Building wheel for pathtools (setup.py) ... \u001B[?25l\u001B[?25hdone\n"
     ]
    }
   ],
   "source": [
    "! pip install wandb -qU"
   ],
   "metadata": {
    "pycharm": {
     "name": "#%%\n"
    },
    "id": "zUYPxRjCz8wc",
    "executionInfo": {
     "status": "ok",
     "timestamp": 1658419093964,
     "user_tz": -60,
     "elapsed": 8263,
     "user": {
      "displayName": "Sonia Mathews",
      "userId": "11348936089475052132"
     }
    },
    "colab": {
     "base_uri": "https://localhost:8080/"
    },
    "outputId": "e547abb3-784d-4b3f-ae88-352aebb01cb3"
   }
  },
  {
   "cell_type": "code",
   "execution_count": 6,
   "outputs": [],
   "source": [
    "# import main_2\n",
    "%load_ext autoreload\n",
    "%autoreload 2"
   ],
   "metadata": {
    "pycharm": {
     "name": "#%%\n"
    },
    "id": "kOR4Zqr5XLTW",
    "executionInfo": {
     "status": "ok",
     "timestamp": 1658419096910,
     "user_tz": -60,
     "elapsed": 575,
     "user": {
      "displayName": "Sonia Mathews",
      "userId": "11348936089475052132"
     }
    }
   }
  },
  {
   "cell_type": "code",
   "execution_count": 7,
   "outputs": [
    {
     "output_type": "stream",
     "name": "stdout",
     "text": [
      "Global seed set to 42\n",
      "Tesla P100-PCIE-16GB\n",
      "GPU available: True, used: True\n",
      "TPU available: False, using: 0 TPU cores\n",
      "IPU available: False, using: 0 IPUs\n",
      "HPU available: False, using: 0 HPUs\n",
      "LOCAL_RANK: 0 - CUDA_VISIBLE_DEVICES: [0]\n",
      "\n",
      "  | Name                  | Type               | Params\n",
      "-------------------------------------------------------------\n",
      "0 | encoder_decoder_model | EncoderDecoderLSTM | 83.4 K\n",
      "1 | loss_module           | CrossEntropyLoss   | 0     \n",
      "2 | train_acc             | Accuracy           | 0     \n",
      "3 | val_acc               | Accuracy           | 0     \n",
      "4 | test_acc              | Accuracy           | 0     \n",
      "-------------------------------------------------------------\n",
      "83.4 K    Trainable params\n",
      "0         Non-trainable params\n",
      "83.4 K    Total params\n",
      "0.334     Total estimated model params size (MB)\n",
      "STARTING FOLD 0\n",
      "\u001B[34m\u001B[1mwandb\u001B[0m: (1) Create a W&B account\n",
      "\u001B[34m\u001B[1mwandb\u001B[0m: (2) Use an existing W&B account\n",
      "\u001B[34m\u001B[1mwandb\u001B[0m: (3) Don't visualize my results\n",
      "\u001B[34m\u001B[1mwandb\u001B[0m: Enter your choice: 2\n",
      "\u001B[34m\u001B[1mwandb\u001B[0m: You chose 'Use an existing W&B account'\n",
      "\u001B[34m\u001B[1mwandb\u001B[0m: Logging into wandb.ai. (Learn how to deploy a W&B server locally: https://wandb.me/wandb-server)\n",
      "\u001B[34m\u001B[1mwandb\u001B[0m: You can find your API key in your browser here: https://wandb.ai/authorize\n",
      "\u001B[34m\u001B[1mwandb\u001B[0m: Paste an API key from your profile and hit enter, or press ctrl+c to quit: \n",
      "\u001B[34m\u001B[1mwandb\u001B[0m: Appending key for api.wandb.ai to your netrc file: /root/.netrc\n",
      "\u001B[34m\u001B[1mwandb\u001B[0m: Tracking run with wandb version 0.12.21\n",
      "\u001B[34m\u001B[1mwandb\u001B[0m: Run data is saved locally in \u001B[35m\u001B[1m/content/drive/Othercomputers/Dell/Action-Segmentation-Project/wandb/run-20220721_155934-current_fold_0\u001B[0m\n",
      "\u001B[34m\u001B[1mwandb\u001B[0m: Run \u001B[1m`wandb offline`\u001B[0m to turn off syncing.\n",
      "\u001B[34m\u001B[1mwandb\u001B[0m: Syncing run \u001B[33mcurrent_fold_0\u001B[0m\n",
      "\u001B[34m\u001B[1mwandb\u001B[0m: ⭐️ View project at \u001B[34m\u001B[4mhttps://wandb.ai/soniamathews/Tactile_Action_Segmentation\u001B[0m\n",
      "\u001B[34m\u001B[1mwandb\u001B[0m: 🚀 View run at \u001B[34m\u001B[4mhttps://wandb.ai/soniamathews/Tactile_Action_Segmentation/runs/current_fold_0\u001B[0m\n",
      "/usr/local/lib/python3.7/dist-packages/pytorch_lightning/trainer/trainer.py:1937: PossibleUserWarning: The number of training batches (20) is smaller than the logging interval Trainer(log_every_n_steps=50). Set a lower value for log_every_n_steps if you want to see logs for the training epoch.\n",
      "  category=PossibleUserWarning,\n",
      "Epoch 0:  80% 20/25 [00:35<00:08,  1.76s/it, loss=1.76, v_num=90]\n",
      "Validation: 0it [00:00, ?it/s]\u001B[A\n",
      "Validation:   0% 0/5 [00:00<?, ?it/s]\u001B[A\n",
      "Validation DataLoader 0:   0% 0/5 [00:00<?, ?it/s]\u001B[A\n",
      "Validation DataLoader 0: 100% 5/5 [00:03<00:00,  1.56it/s]\u001B[A\n",
      "Epoch 0: 100% 25/25 [00:38<00:00,  1.54s/it, loss=1.76, v_num=90, val_loss=1.710, val_acc=0.442]\n",
      "Epoch 1:  80% 20/25 [00:33<00:08,  1.66s/it, loss=1.4, v_num=90, val_loss=1.710, val_acc=0.442, train_acc=0.304] \n",
      "Validation: 0it [00:00, ?it/s]\u001B[A\n",
      "Validation:   0% 0/5 [00:00<?, ?it/s]\u001B[A\n",
      "Validation DataLoader 0:   0% 0/5 [00:00<?, ?it/s]\u001B[A\n",
      "Validation DataLoader 0: 100% 5/5 [00:03<00:00,  1.55it/s]\u001B[A\n",
      "Epoch 1: 100% 25/25 [00:36<00:00,  1.46s/it, loss=1.4, v_num=90, val_loss=1.890, val_acc=0.442, train_acc=0.304]\n",
      "Epoch 2:  80% 20/25 [00:33<00:08,  1.66s/it, loss=1.1, v_num=90, val_loss=1.890, val_acc=0.442, train_acc=0.464]\n",
      "Validation: 0it [00:00, ?it/s]\u001B[A\n",
      "Validation:   0% 0/5 [00:00<?, ?it/s]\u001B[A\n",
      "Validation DataLoader 0:   0% 0/5 [00:00<?, ?it/s]\u001B[A\n",
      "Validation DataLoader 0: 100% 5/5 [00:03<00:00,  1.56it/s]\u001B[A\n",
      "Epoch 2: 100% 25/25 [00:36<00:00,  1.46s/it, loss=1.1, v_num=90, val_loss=2.080, val_acc=0.442, train_acc=0.464]\n",
      "Epoch 2: 100% 25/25 [00:36<00:00,  1.46s/it, loss=1.1, v_num=90, val_loss=2.080, val_acc=0.442, train_acc=0.528]\n",
      "Testing DataLoader 0: 100% 5/5 [00:04<00:00,  1.07it/s]\n",
      "────────────────────────────────────────────────────────────────────────────────────────────────────────────────────────\n",
      "       Test metric             DataLoader 0\n",
      "────────────────────────────────────────────────────────────────────────────────────────────────────────────────────────\n",
      "        test_acc            0.3781377375125885\n",
      "        test_loss           2.3047468662261963\n",
      "────────────────────────────────────────────────────────────────────────────────────────────────────────────────────────\n",
      "\u001B[34m\u001B[1mwandb\u001B[0m: Waiting for W&B process to finish... \u001B[32m(success).\u001B[0m\n",
      "\u001B[34m\u001B[1mwandb\u001B[0m:                                                                                \n",
      "\u001B[34m\u001B[1mwandb\u001B[0m: \n",
      "\u001B[34m\u001B[1mwandb\u001B[0m: Run history:\n",
      "\u001B[34m\u001B[1mwandb\u001B[0m:          epoch ▁▁▁▁▁▁▁▁▁▁▁▁▁▁▅▅▅▅▅▅▅▅▅▅▅▅▅█████████████\n",
      "\u001B[34m\u001B[1mwandb\u001B[0m: train_accuracy ▁▁▃▂▃▄▃▄▄▅▂▄▄█▅▅▄▄▄▅▅▆▆▄▅▅█▄▆▇▅▅▆▅▆▅▄▄▅█\n",
      "\u001B[34m\u001B[1mwandb\u001B[0m:     train_loss ███████████▇▇▇▇▇▇▆▅▅▅▄▄▅▃▃▁▃▂▂▃▃▂▄▄▃▄▆▂▁\n",
      "\u001B[34m\u001B[1mwandb\u001B[0m:   val_accuracy ▁▃▃█▆▁▃▃█▆▁▃▃█▆\n",
      "\u001B[34m\u001B[1mwandb\u001B[0m:       val_loss ▃▃▃▂▂▅▅▆▁▁▆▆█▂▁\n",
      "\u001B[34m\u001B[1mwandb\u001B[0m: \n",
      "\u001B[34m\u001B[1mwandb\u001B[0m: Run summary:\n",
      "\u001B[34m\u001B[1mwandb\u001B[0m:          epoch 2\n",
      "\u001B[34m\u001B[1mwandb\u001B[0m: train_accuracy 0.81355\n",
      "\u001B[34m\u001B[1mwandb\u001B[0m:     train_loss 0.83005\n",
      "\u001B[34m\u001B[1mwandb\u001B[0m:   val_accuracy 0.53301\n",
      "\u001B[34m\u001B[1mwandb\u001B[0m:       val_loss 1.53127\n",
      "\u001B[34m\u001B[1mwandb\u001B[0m: \n",
      "\u001B[34m\u001B[1mwandb\u001B[0m: Synced \u001B[33mcurrent_fold_0\u001B[0m: \u001B[34m\u001B[4mhttps://wandb.ai/soniamathews/Tactile_Action_Segmentation/runs/current_fold_0\u001B[0m\n",
      "\u001B[34m\u001B[1mwandb\u001B[0m: Synced 5 W&B file(s), 0 media file(s), 0 artifact file(s) and 0 other file(s)\n",
      "\u001B[34m\u001B[1mwandb\u001B[0m: Find logs at: \u001B[35m\u001B[1m./wandb/run-20220721_155934-current_fold_0/logs\u001B[0m\n",
      "STARTING FOLD 1\n",
      "\u001B[34m\u001B[1mwandb\u001B[0m: Currently logged in as: \u001B[33msoniamathews\u001B[0m. Use \u001B[1m`wandb login --relogin`\u001B[0m to force relogin\n",
      "\u001B[34m\u001B[1mwandb\u001B[0m: Tracking run with wandb version 0.12.21\n",
      "\u001B[34m\u001B[1mwandb\u001B[0m: Run data is saved locally in \u001B[35m\u001B[1m/content/drive/Othercomputers/Dell/Action-Segmentation-Project/wandb/run-20220721_160139-current_fold_1\u001B[0m\n",
      "\u001B[34m\u001B[1mwandb\u001B[0m: Run \u001B[1m`wandb offline`\u001B[0m to turn off syncing.\n",
      "\u001B[34m\u001B[1mwandb\u001B[0m: Syncing run \u001B[33mcurrent_fold_1\u001B[0m\n",
      "\u001B[34m\u001B[1mwandb\u001B[0m: ⭐️ View project at \u001B[34m\u001B[4mhttps://wandb.ai/soniamathews/Tactile_Action_Segmentation\u001B[0m\n",
      "\u001B[34m\u001B[1mwandb\u001B[0m: 🚀 View run at \u001B[34m\u001B[4mhttps://wandb.ai/soniamathews/Tactile_Action_Segmentation/runs/current_fold_1\u001B[0m\n",
      "/usr/local/lib/python3.7/dist-packages/pytorch_lightning/trainer/trainer.py:1937: PossibleUserWarning: The number of training batches (20) is smaller than the logging interval Trainer(log_every_n_steps=50). Set a lower value for log_every_n_steps if you want to see logs for the training epoch.\n",
      "  category=PossibleUserWarning,\n",
      "Epoch 0:  80% 20/25 [00:33<?, ?it/s, loss=1.79, v_num=90, val_loss=2.080, val_acc=0.442, train_acc=0.528, test_loss=2.300, test_acc=0.378]\n",
      "Validation: 0it [00:00, ?it/s]\u001B[A\n",
      "Validation:   0% 0/5 [00:00<?, ?it/s]\u001B[A\n",
      "Validation DataLoader 0:   0% 0/5 [00:00<?, ?it/s]\u001B[A\n",
      "Validation DataLoader 0: 100% 5/5 [00:03<00:00,  1.54it/s]\u001B[A\n",
      "Epoch 0: 100% 25/25 [00:37<00:00,  7.42s/it, loss=1.79, v_num=90, val_loss=1.770, val_acc=0.285, train_acc=0.528, test_loss=2.300, test_acc=0.378]\n",
      "Epoch 1:  80% 20/25 [00:33<?, ?it/s, loss=1.74, v_num=90, val_loss=1.770, val_acc=0.285, train_acc=0.203, test_loss=2.300, test_acc=0.378]\n",
      "Validation: 0it [00:00, ?it/s]\u001B[A\n",
      "Validation:   0% 0/5 [00:00<?, ?it/s]\u001B[A\n",
      "Validation DataLoader 0:   0% 0/5 [00:00<?, ?it/s]\u001B[A\n",
      "Validation DataLoader 0: 100% 5/5 [00:03<00:00,  1.53it/s]\u001B[A\n",
      "Epoch 1: 100% 25/25 [00:37<00:00,  7.42s/it, loss=1.74, v_num=90, val_loss=1.720, val_acc=0.384, train_acc=0.203, test_loss=2.300, test_acc=0.378]\n",
      "Epoch 2:  80% 20/25 [00:33<?, ?it/s, loss=1.62, v_num=90, val_loss=1.720, val_acc=0.384, train_acc=0.454, test_loss=2.300, test_acc=0.378]\n",
      "Validation: 0it [00:00, ?it/s]\u001B[A\n",
      "Validation:   0% 0/5 [00:00<?, ?it/s]\u001B[A\n",
      "Validation DataLoader 0:   0% 0/5 [00:00<?, ?it/s]\u001B[A\n",
      "Validation DataLoader 0: 100% 5/5 [00:03<00:00,  1.51it/s]\u001B[A\n",
      "Epoch 2: 100% 25/25 [00:37<00:00,  7.42s/it, loss=1.62, v_num=90, val_loss=1.610, val_acc=0.384, train_acc=0.454, test_loss=2.300, test_acc=0.378]\n",
      "Epoch 2: 100% 25/25 [00:37<00:00,  7.42s/it, loss=1.62, v_num=90, val_loss=1.610, val_acc=0.384, train_acc=0.520, test_loss=2.300, test_acc=0.378]\n",
      "Testing DataLoader 0: 100% 5/5 [00:04<00:00,  1.23it/s]\n",
      "────────────────────────────────────────────────────────────────────────────────────────────────────────────────────────\n",
      "       Test metric             DataLoader 0\n",
      "────────────────────────────────────────────────────────────────────────────────────────────────────────────────────────\n",
      "        test_acc            0.3781377375125885\n",
      "        test_loss            1.644601583480835\n",
      "────────────────────────────────────────────────────────────────────────────────────────────────────────────────────────\n",
      "\u001B[34m\u001B[1mwandb\u001B[0m: Waiting for W&B process to finish... \u001B[32m(success).\u001B[0m\n",
      "\u001B[34m\u001B[1mwandb\u001B[0m:                                                                                \n",
      "\u001B[34m\u001B[1mwandb\u001B[0m: \n",
      "\u001B[34m\u001B[1mwandb\u001B[0m: Run history:\n",
      "\u001B[34m\u001B[1mwandb\u001B[0m:          epoch ▁▁▁▁▁▁▁▁▁▁▁▁▁▁▅▅▅▅▅▅▅▅▅▅▅▅▅█████████████\n",
      "\u001B[34m\u001B[1mwandb\u001B[0m: train_accuracy ▁▁▁▁▃▂▂▂▂▂▂▅▆█▄▅▄▅▅▄▅▄▆▄▅▅█▄▅▇▆▅▆▄▄▇▄▂▅█\n",
      "\u001B[34m\u001B[1mwandb\u001B[0m:     train_loss ████████▇▇█▇▇▇▇▇▇▇▇▇▇▇▆▇▆▆▅▆▆▅▅▆▅▆▅▃▅▇▃▁\n",
      "\u001B[34m\u001B[1mwandb\u001B[0m:   val_accuracy ▁██▇▃▆██▇█▆██▇█\n",
      "\u001B[34m\u001B[1mwandb\u001B[0m:       val_loss ████▇▆▆▆▆▆▃▂▃▂▁\n",
      "\u001B[34m\u001B[1mwandb\u001B[0m: \n",
      "\u001B[34m\u001B[1mwandb\u001B[0m: Run summary:\n",
      "\u001B[34m\u001B[1mwandb\u001B[0m:          epoch 2\n",
      "\u001B[34m\u001B[1mwandb\u001B[0m: train_accuracy 0.80982\n",
      "\u001B[34m\u001B[1mwandb\u001B[0m:     train_loss 1.40462\n",
      "\u001B[34m\u001B[1mwandb\u001B[0m:   val_accuracy 0.40408\n",
      "\u001B[34m\u001B[1mwandb\u001B[0m:       val_loss 1.57733\n",
      "\u001B[34m\u001B[1mwandb\u001B[0m: \n",
      "\u001B[34m\u001B[1mwandb\u001B[0m: Synced \u001B[33mcurrent_fold_1\u001B[0m: \u001B[34m\u001B[4mhttps://wandb.ai/soniamathews/Tactile_Action_Segmentation/runs/current_fold_1\u001B[0m\n",
      "\u001B[34m\u001B[1mwandb\u001B[0m: Synced 5 W&B file(s), 0 media file(s), 0 artifact file(s) and 0 other file(s)\n",
      "\u001B[34m\u001B[1mwandb\u001B[0m: Find logs at: \u001B[35m\u001B[1m./wandb/run-20220721_160139-current_fold_1/logs\u001B[0m\n",
      "STARTING FOLD 2\n",
      "\u001B[34m\u001B[1mwandb\u001B[0m: Tracking run with wandb version 0.12.21\n",
      "\u001B[34m\u001B[1mwandb\u001B[0m: Run data is saved locally in \u001B[35m\u001B[1m/content/drive/Othercomputers/Dell/Action-Segmentation-Project/wandb/run-20220721_160343-current_fold_2\u001B[0m\n",
      "\u001B[34m\u001B[1mwandb\u001B[0m: Run \u001B[1m`wandb offline`\u001B[0m to turn off syncing.\n",
      "\u001B[34m\u001B[1mwandb\u001B[0m: Syncing run \u001B[33mcurrent_fold_2\u001B[0m\n",
      "\u001B[34m\u001B[1mwandb\u001B[0m: ⭐️ View project at \u001B[34m\u001B[4mhttps://wandb.ai/soniamathews/Tactile_Action_Segmentation\u001B[0m\n",
      "\u001B[34m\u001B[1mwandb\u001B[0m: 🚀 View run at \u001B[34m\u001B[4mhttps://wandb.ai/soniamathews/Tactile_Action_Segmentation/runs/current_fold_2\u001B[0m\n",
      "/usr/local/lib/python3.7/dist-packages/pytorch_lightning/trainer/trainer.py:1937: PossibleUserWarning: The number of training batches (20) is smaller than the logging interval Trainer(log_every_n_steps=50). Set a lower value for log_every_n_steps if you want to see logs for the training epoch.\n",
      "  category=PossibleUserWarning,\n",
      "Epoch 0:  80% 20/25 [00:35<?, ?it/s, loss=1.77, v_num=90, val_loss=1.610, val_acc=0.384, train_acc=0.520, test_loss=1.640, test_acc=0.378]\n",
      "Validation: 0it [00:00, ?it/s]\u001B[A\n",
      "Validation:   0% 0/5 [00:00<?, ?it/s]\u001B[A\n",
      "Validation DataLoader 0:   0% 0/5 [00:00<?, ?it/s]\u001B[A\n",
      "Validation DataLoader 0: 100% 5/5 [00:03<00:00,  1.50it/s]\u001B[A\n",
      "Epoch 0: 100% 25/25 [00:38<00:00,  7.68s/it, loss=1.77, v_num=90, val_loss=1.750, val_acc=0.419, train_acc=0.520, test_loss=1.640, test_acc=0.378]\n",
      "Epoch 1:  80% 20/25 [00:34<?, ?it/s, loss=1.63, v_num=90, val_loss=1.750, val_acc=0.419, train_acc=0.342, test_loss=1.640, test_acc=0.378]\n",
      "Validation: 0it [00:00, ?it/s]\u001B[A\n",
      "Validation:   0% 0/5 [00:00<?, ?it/s]\u001B[A\n",
      "Validation DataLoader 0:   0% 0/5 [00:00<?, ?it/s]\u001B[A\n",
      "Validation DataLoader 0: 100% 5/5 [00:03<00:00,  1.50it/s]\u001B[A\n",
      "Epoch 1: 100% 25/25 [00:37<00:00,  7.48s/it, loss=1.63, v_num=90, val_loss=1.630, val_acc=0.419, train_acc=0.342, test_loss=1.640, test_acc=0.378]\n",
      "Epoch 2:  80% 20/25 [00:34<?, ?it/s, loss=1.27, v_num=90, val_loss=1.630, val_acc=0.419, train_acc=0.532, test_loss=1.640, test_acc=0.378]\n",
      "Validation: 0it [00:00, ?it/s]\u001B[A\n",
      "Validation:   0% 0/5 [00:00<?, ?it/s]\u001B[A\n",
      "Validation DataLoader 0:   0% 0/5 [00:00<?, ?it/s]\u001B[A\n",
      "Validation DataLoader 0: 100% 5/5 [00:03<00:00,  1.51it/s]\u001B[A\n",
      "Epoch 2: 100% 25/25 [00:37<00:00,  7.49s/it, loss=1.27, v_num=90, val_loss=2.200, val_acc=0.419, train_acc=0.532, test_loss=1.640, test_acc=0.378]\n",
      "Epoch 2: 100% 25/25 [00:37<00:00,  7.49s/it, loss=1.27, v_num=90, val_loss=2.200, val_acc=0.419, train_acc=0.488, test_loss=1.640, test_acc=0.378]\n",
      "Testing DataLoader 0: 100% 5/5 [00:03<00:00,  1.30it/s]\n",
      "────────────────────────────────────────────────────────────────────────────────────────────────────────────────────────\n",
      "       Test metric             DataLoader 0\n",
      "────────────────────────────────────────────────────────────────────────────────────────────────────────────────────────\n",
      "        test_acc            0.3781377375125885\n",
      "        test_loss            2.19260835647583\n",
      "────────────────────────────────────────────────────────────────────────────────────────────────────────────────────────\n",
      "\u001B[34m\u001B[1mwandb\u001B[0m: Waiting for W&B process to finish... \u001B[32m(success).\u001B[0m\n",
      "\u001B[34m\u001B[1mwandb\u001B[0m:                                                                                \n",
      "\u001B[34m\u001B[1mwandb\u001B[0m: \n",
      "\u001B[34m\u001B[1mwandb\u001B[0m: Run history:\n",
      "\u001B[34m\u001B[1mwandb\u001B[0m:          epoch ▁▁▁▁▁▁▁▁▁▁▁▁▁▁▅▅▅▅▅▅▅▅▅▅▅▅▅█████████████\n",
      "\u001B[34m\u001B[1mwandb\u001B[0m: train_accuracy ▁▁▁▁▂▂▄▆▆▄▅▅▆█▄▅▆▅▆▆▆▇▄▂▅▅█▄▅▄▄▄▅▅▇▆▂▅▅█\n",
      "\u001B[34m\u001B[1mwandb\u001B[0m:     train_loss ██████████▇█▇▇▇▇▇▇▇▇▇▆▇▇▆▆▅▆▅▅▆▅▅▄▂▃▆▃▃▁\n",
      "\u001B[34m\u001B[1mwandb\u001B[0m:   val_accuracy ▄██▁▂▄██▁▂▄██▁▂\n",
      "\u001B[34m\u001B[1mwandb\u001B[0m:       val_loss ▂▂▂▃▃▂▁▁▂▂▅▃▃██\n",
      "\u001B[34m\u001B[1mwandb\u001B[0m: \n",
      "\u001B[34m\u001B[1mwandb\u001B[0m: Run summary:\n",
      "\u001B[34m\u001B[1mwandb\u001B[0m:          epoch 2\n",
      "\u001B[34m\u001B[1mwandb\u001B[0m: train_accuracy 0.7918\n",
      "\u001B[34m\u001B[1mwandb\u001B[0m:     train_loss 0.85026\n",
      "\u001B[34m\u001B[1mwandb\u001B[0m:   val_accuracy 0.34768\n",
      "\u001B[34m\u001B[1mwandb\u001B[0m:       val_loss 2.59276\n",
      "\u001B[34m\u001B[1mwandb\u001B[0m: \n",
      "\u001B[34m\u001B[1mwandb\u001B[0m: Synced \u001B[33mcurrent_fold_2\u001B[0m: \u001B[34m\u001B[4mhttps://wandb.ai/soniamathews/Tactile_Action_Segmentation/runs/current_fold_2\u001B[0m\n",
      "\u001B[34m\u001B[1mwandb\u001B[0m: Synced 5 W&B file(s), 0 media file(s), 0 artifact file(s) and 0 other file(s)\n",
      "\u001B[34m\u001B[1mwandb\u001B[0m: Find logs at: \u001B[35m\u001B[1m./wandb/run-20220721_160343-current_fold_2/logs\u001B[0m\n",
      "STARTING FOLD 3\n",
      "\u001B[34m\u001B[1mwandb\u001B[0m: Tracking run with wandb version 0.12.21\n",
      "\u001B[34m\u001B[1mwandb\u001B[0m: Run data is saved locally in \u001B[35m\u001B[1m/content/drive/Othercomputers/Dell/Action-Segmentation-Project/wandb/run-20220721_160548-current_fold_3\u001B[0m\n",
      "\u001B[34m\u001B[1mwandb\u001B[0m: Run \u001B[1m`wandb offline`\u001B[0m to turn off syncing.\n",
      "\u001B[34m\u001B[1mwandb\u001B[0m: Syncing run \u001B[33mcurrent_fold_3\u001B[0m\n",
      "\u001B[34m\u001B[1mwandb\u001B[0m: ⭐️ View project at \u001B[34m\u001B[4mhttps://wandb.ai/soniamathews/Tactile_Action_Segmentation\u001B[0m\n",
      "\u001B[34m\u001B[1mwandb\u001B[0m: 🚀 View run at \u001B[34m\u001B[4mhttps://wandb.ai/soniamathews/Tactile_Action_Segmentation/runs/current_fold_3\u001B[0m\n",
      "/usr/local/lib/python3.7/dist-packages/pytorch_lightning/trainer/trainer.py:1937: PossibleUserWarning: The number of training batches (20) is smaller than the logging interval Trainer(log_every_n_steps=50). Set a lower value for log_every_n_steps if you want to see logs for the training epoch.\n",
      "  category=PossibleUserWarning,\n",
      "Epoch 0:  80% 20/25 [00:35<?, ?it/s, loss=1.79, v_num=90, val_loss=2.200, val_acc=0.419, train_acc=0.488, test_loss=2.190, test_acc=0.378]\n",
      "Validation: 0it [00:00, ?it/s]\u001B[A\n",
      "Validation:   0% 0/5 [00:00<?, ?it/s]\u001B[A\n",
      "Validation DataLoader 0:   0% 0/5 [00:00<?, ?it/s]\u001B[A\n",
      "Validation DataLoader 0: 100% 5/5 [00:03<00:00,  1.48it/s]\u001B[A\n",
      "Epoch 0: 100% 25/25 [00:38<00:00,  7.76s/it, loss=1.79, v_num=90, val_loss=1.770, val_acc=0.444, train_acc=0.488, test_loss=2.190, test_acc=0.378]\n",
      "Epoch 1:  80% 20/25 [00:34<?, ?it/s, loss=1.72, v_num=90, val_loss=1.770, val_acc=0.444, train_acc=0.163, test_loss=2.190, test_acc=0.378]\n",
      "Validation: 0it [00:00, ?it/s]\u001B[A\n",
      "Validation:   0% 0/5 [00:00<?, ?it/s]\u001B[A\n",
      "Validation DataLoader 0:   0% 0/5 [00:00<?, ?it/s]\u001B[A\n",
      "Validation DataLoader 0: 100% 5/5 [00:03<00:00,  1.48it/s]\u001B[A\n",
      "Epoch 1: 100% 25/25 [00:37<00:00,  7.53s/it, loss=1.72, v_num=90, val_loss=1.700, val_acc=0.444, train_acc=0.163, test_loss=2.190, test_acc=0.378]\n",
      "Epoch 2:  80% 20/25 [00:34<?, ?it/s, loss=1.52, v_num=90, val_loss=1.700, val_acc=0.444, train_acc=0.535, test_loss=2.190, test_acc=0.378]\n",
      "Validation: 0it [00:00, ?it/s]\u001B[A\n",
      "Validation:   0% 0/5 [00:00<?, ?it/s]\u001B[A\n",
      "Validation DataLoader 0:   0% 0/5 [00:00<?, ?it/s]\u001B[A\n",
      "Validation DataLoader 0: 100% 5/5 [00:03<00:00,  1.48it/s]\u001B[A\n",
      "Epoch 2: 100% 25/25 [00:37<00:00,  7.52s/it, loss=1.52, v_num=90, val_loss=1.640, val_acc=0.444, train_acc=0.535, test_loss=2.190, test_acc=0.378]\n",
      "Epoch 2: 100% 25/25 [00:37<00:00,  7.52s/it, loss=1.52, v_num=90, val_loss=1.640, val_acc=0.444, train_acc=0.534, test_loss=2.190, test_acc=0.378]\n",
      "Testing DataLoader 0: 100% 5/5 [00:04<00:00,  1.22it/s]\n",
      "────────────────────────────────────────────────────────────────────────────────────────────────────────────────────────\n",
      "       Test metric             DataLoader 0\n",
      "────────────────────────────────────────────────────────────────────────────────────────────────────────────────────────\n",
      "        test_acc            0.3781377375125885\n",
      "        test_loss            1.840309500694275\n",
      "────────────────────────────────────────────────────────────────────────────────────────────────────────────────────────\n",
      "\u001B[34m\u001B[1mwandb\u001B[0m: Waiting for W&B process to finish... \u001B[32m(success).\u001B[0m\n",
      "\u001B[34m\u001B[1mwandb\u001B[0m:                                                                                \n",
      "\u001B[34m\u001B[1mwandb\u001B[0m: \n",
      "\u001B[34m\u001B[1mwandb\u001B[0m: Run history:\n",
      "\u001B[34m\u001B[1mwandb\u001B[0m:          epoch ▁▁▁▁▁▁▁▁▁▁▁▁▁▁▅▅▅▅▅▅▅▅▅▅▅▅▅█████████████\n",
      "\u001B[34m\u001B[1mwandb\u001B[0m: train_accuracy ▁▁▁▁▂▂▂▂▂▃▂▂▆▆▄▆█▅▆▆▇▇▆▇█▂▆▄▆▇▅▅▆▆▇▅▇▅▂▆\n",
      "\u001B[34m\u001B[1mwandb\u001B[0m:     train_loss ████████████▇██▇▇▇▇▇▇▇▇▇▆█▇▇▆▆▆▆▆▅▅▅▄▄▆▁\n",
      "\u001B[34m\u001B[1mwandb\u001B[0m:   val_accuracy ▅▁▃▃█▅▁▃▃█▅▁▃▃█\n",
      "\u001B[34m\u001B[1mwandb\u001B[0m:       val_loss ████▇▇▇▇▇▆▆▇▇█▁\n",
      "\u001B[34m\u001B[1mwandb\u001B[0m: \n",
      "\u001B[34m\u001B[1mwandb\u001B[0m: Run summary:\n",
      "\u001B[34m\u001B[1mwandb\u001B[0m:          epoch 2\n",
      "\u001B[34m\u001B[1mwandb\u001B[0m: train_accuracy 0.55542\n",
      "\u001B[34m\u001B[1mwandb\u001B[0m:     train_loss 1.13534\n",
      "\u001B[34m\u001B[1mwandb\u001B[0m:   val_accuracy 0.66252\n",
      "\u001B[34m\u001B[1mwandb\u001B[0m:       val_loss 1.38972\n",
      "\u001B[34m\u001B[1mwandb\u001B[0m: \n",
      "\u001B[34m\u001B[1mwandb\u001B[0m: Synced \u001B[33mcurrent_fold_3\u001B[0m: \u001B[34m\u001B[4mhttps://wandb.ai/soniamathews/Tactile_Action_Segmentation/runs/current_fold_3\u001B[0m\n",
      "\u001B[34m\u001B[1mwandb\u001B[0m: Synced 5 W&B file(s), 0 media file(s), 0 artifact file(s) and 0 other file(s)\n",
      "\u001B[34m\u001B[1mwandb\u001B[0m: Find logs at: \u001B[35m\u001B[1m./wandb/run-20220721_160548-current_fold_3/logs\u001B[0m\n",
      "STARTING FOLD 4\n",
      "\u001B[34m\u001B[1mwandb\u001B[0m: Tracking run with wandb version 0.12.21\n",
      "\u001B[34m\u001B[1mwandb\u001B[0m: Run data is saved locally in \u001B[35m\u001B[1m/content/drive/Othercomputers/Dell/Action-Segmentation-Project/wandb/run-20220721_160754-current_fold_4\u001B[0m\n",
      "\u001B[34m\u001B[1mwandb\u001B[0m: Run \u001B[1m`wandb offline`\u001B[0m to turn off syncing.\n",
      "\u001B[34m\u001B[1mwandb\u001B[0m: Syncing run \u001B[33mcurrent_fold_4\u001B[0m\n",
      "\u001B[34m\u001B[1mwandb\u001B[0m: ⭐️ View project at \u001B[34m\u001B[4mhttps://wandb.ai/soniamathews/Tactile_Action_Segmentation\u001B[0m\n",
      "\u001B[34m\u001B[1mwandb\u001B[0m: 🚀 View run at \u001B[34m\u001B[4mhttps://wandb.ai/soniamathews/Tactile_Action_Segmentation/runs/current_fold_4\u001B[0m\n",
      "/usr/local/lib/python3.7/dist-packages/pytorch_lightning/trainer/trainer.py:1937: PossibleUserWarning: The number of training batches (20) is smaller than the logging interval Trainer(log_every_n_steps=50). Set a lower value for log_every_n_steps if you want to see logs for the training epoch.\n",
      "  category=PossibleUserWarning,\n",
      "Epoch 0:  80% 20/25 [00:35<?, ?it/s, loss=1.76, v_num=90, val_loss=1.640, val_acc=0.444, train_acc=0.534, test_loss=1.840, test_acc=0.378]\n",
      "Validation: 0it [00:00, ?it/s]\u001B[A\n",
      "Validation:   0% 0/5 [00:00<?, ?it/s]\u001B[A\n",
      "Validation DataLoader 0:   0% 0/5 [00:00<?, ?it/s]\u001B[A\n",
      "Validation DataLoader 0: 100% 5/5 [00:03<00:00,  1.45it/s]\u001B[A\n",
      "Epoch 0: 100% 25/25 [00:39<00:00,  7.87s/it, loss=1.76, v_num=90, val_loss=1.720, val_acc=0.387, train_acc=0.534, test_loss=1.840, test_acc=0.378]\n",
      "Epoch 1:  80% 20/25 [00:34<?, ?it/s, loss=1.42, v_num=90, val_loss=1.720, val_acc=0.387, train_acc=0.351, test_loss=1.840, test_acc=0.378]\n",
      "Validation: 0it [00:00, ?it/s]\u001B[A\n",
      "Validation:   0% 0/5 [00:00<?, ?it/s]\u001B[A\n",
      "Validation DataLoader 0:   0% 0/5 [00:00<?, ?it/s]\u001B[A\n",
      "Validation DataLoader 0: 100% 5/5 [00:03<00:00,  1.47it/s]\u001B[A\n",
      "Epoch 1: 100% 25/25 [00:38<00:00,  7.63s/it, loss=1.42, v_num=90, val_loss=1.670, val_acc=0.387, train_acc=0.351, test_loss=1.840, test_acc=0.378]\n",
      "Epoch 2:  80% 20/25 [00:35<?, ?it/s, loss=1.13, v_num=90, val_loss=1.670, val_acc=0.387, train_acc=0.507, test_loss=1.840, test_acc=0.378]\n",
      "Validation: 0it [00:00, ?it/s]\u001B[A\n",
      "Validation:   0% 0/5 [00:00<?, ?it/s]\u001B[A\n",
      "Validation DataLoader 0:   0% 0/5 [00:00<?, ?it/s]\u001B[A\n",
      "Validation DataLoader 0: 100% 5/5 [00:03<00:00,  1.46it/s]\u001B[A\n",
      "Epoch 2: 100% 25/25 [00:38<00:00,  7.71s/it, loss=1.13, v_num=90, val_loss=1.810, val_acc=0.387, train_acc=0.507, test_loss=1.840, test_acc=0.378]\n",
      "Epoch 2: 100% 25/25 [00:38<00:00,  7.71s/it, loss=1.13, v_num=90, val_loss=1.810, val_acc=0.387, train_acc=0.528, test_loss=1.840, test_acc=0.378]\n",
      "Testing DataLoader 0: 100% 5/5 [00:03<00:00,  1.26it/s]\n",
      "────────────────────────────────────────────────────────────────────────────────────────────────────────────────────────\n",
      "       Test metric             DataLoader 0\n",
      "────────────────────────────────────────────────────────────────────────────────────────────────────────────────────────\n",
      "        test_acc            0.3781377375125885\n",
      "        test_loss           2.0071773529052734\n",
      "────────────────────────────────────────────────────────────────────────────────────────────────────────────────────────\n",
      "\u001B[34m\u001B[1mwandb\u001B[0m: Waiting for W&B process to finish... \u001B[32m(success).\u001B[0m\n",
      "\u001B[34m\u001B[1mwandb\u001B[0m:                                                                                \n",
      "\u001B[34m\u001B[1mwandb\u001B[0m: \n",
      "\u001B[34m\u001B[1mwandb\u001B[0m: Run history:\n",
      "\u001B[34m\u001B[1mwandb\u001B[0m:          epoch ▁▁▁▁▁▁▁▁▁▁▁▁▁▁▅▅▅▅▅▅▅▅▅▅▅▅▅█████████████\n",
      "\u001B[34m\u001B[1mwandb\u001B[0m: train_accuracy ▁▁▁▁▂▂▄▆▇▆▅▅▆█▄▅▇▅▅▆▄▄▆▄▅▅█▃▅▆▄▅▆▄▅▇▄▅▆█\n",
      "\u001B[34m\u001B[1mwandb\u001B[0m:     train_loss ████████▇▇▇▇▇▇▇▇▆▇▆▆▅▆▄▆▄▄▂▆▄▂▅▃▃▄▄▁▅▄▂▁\n",
      "\u001B[34m\u001B[1mwandb\u001B[0m:   val_accuracy ▅▇██▁▅▇██▁▅▇██▁\n",
      "\u001B[34m\u001B[1mwandb\u001B[0m:       val_loss ▃▂▂▂▃▁▁▂▂▆▁▁▃▃█\n",
      "\u001B[34m\u001B[1mwandb\u001B[0m: \n",
      "\u001B[34m\u001B[1mwandb\u001B[0m: Run summary:\n",
      "\u001B[34m\u001B[1mwandb\u001B[0m:          epoch 2\n",
      "\u001B[34m\u001B[1mwandb\u001B[0m: train_accuracy 0.82163\n",
      "\u001B[34m\u001B[1mwandb\u001B[0m:     train_loss 0.81937\n",
      "\u001B[34m\u001B[1mwandb\u001B[0m:   val_accuracy 0.10265\n",
      "\u001B[34m\u001B[1mwandb\u001B[0m:       val_loss 2.48289\n",
      "\u001B[34m\u001B[1mwandb\u001B[0m: \n",
      "\u001B[34m\u001B[1mwandb\u001B[0m: Synced \u001B[33mcurrent_fold_4\u001B[0m: \u001B[34m\u001B[4mhttps://wandb.ai/soniamathews/Tactile_Action_Segmentation/runs/current_fold_4\u001B[0m\n",
      "\u001B[34m\u001B[1mwandb\u001B[0m: Synced 5 W&B file(s), 0 media file(s), 0 artifact file(s) and 0 other file(s)\n",
      "\u001B[34m\u001B[1mwandb\u001B[0m: Find logs at: \u001B[35m\u001B[1m./wandb/run-20220721_160754-current_fold_4/logs\u001B[0m\n",
      "\u001B[34m\u001B[1mwandb\u001B[0m: Tracking run with wandb version 0.12.21\n",
      "\u001B[34m\u001B[1mwandb\u001B[0m: Run data is saved locally in \u001B[35m\u001B[1m/content/drive/Othercomputers/Dell/Action-Segmentation-Project/wandb/run-20220721_161002-1832s3qk\u001B[0m\n",
      "\u001B[34m\u001B[1mwandb\u001B[0m: Run \u001B[1m`wandb offline`\u001B[0m to turn off syncing.\n",
      "\u001B[34m\u001B[1mwandb\u001B[0m: Syncing run \u001B[33mblooming-blaze-36\u001B[0m\n",
      "\u001B[34m\u001B[1mwandb\u001B[0m: ⭐️ View project at \u001B[34m\u001B[4mhttps://wandb.ai/soniamathews/Tactile_Action_Segmentation\u001B[0m\n",
      "\u001B[34m\u001B[1mwandb\u001B[0m: 🚀 View run at \u001B[34m\u001B[4mhttps://wandb.ai/soniamathews/Tactile_Action_Segmentation/runs/1832s3qk\u001B[0m\n",
      "Testing DataLoader 0:   0% 0/5 [00:00<?, ?it/s]shape of padded targets torch.Size([1, 2909])\n",
      "shape of mask torch.Size([1, 2909])\n",
      "/usr/local/lib/python3.7/dist-packages/plotly/matplotlylib/renderer.py:575: UserWarning:\n",
      "\n",
      "Dang! That path collection is out of this world. I totally don't know what to do with it yet! Plotly can only import path collections linked to 'data' coordinates\n",
      "\n",
      "shape of padded targets torch.Size([1, 2909])\n",
      "shape of mask torch.Size([1, 2909])\n",
      "shape of padded targets torch.Size([1, 2909])\n",
      "shape of mask torch.Size([1, 2909])\n",
      "shape of padded targets torch.Size([1, 2909])\n",
      "shape of mask torch.Size([1, 2909])\n",
      "shape of padded targets torch.Size([1, 2909])\n",
      "shape of mask torch.Size([1, 2909])\n",
      "Testing DataLoader 0: 100% 5/5 [00:24<00:00,  4.82s/it]\n",
      "────────────────────────────────────────────────────────────────────────────────────────────────────────────────────────\n",
      "       Test metric             DataLoader 0\n",
      "────────────────────────────────────────────────────────────────────────────────────────────────────────────────────────\n",
      "    average test_acc        0.3781377375125885\n",
      "    average_test_loss       1.9077659845352173\n",
      "────────────────────────────────────────────────────────────────────────────────────────────────────────────────────────\n",
      "\u001B[34m\u001B[1mwandb\u001B[0m: Waiting for W&B process to finish... \u001B[32m(success).\u001B[0m\n",
      "\u001B[34m\u001B[1mwandb\u001B[0m:                                                                                \n",
      "\u001B[34m\u001B[1mwandb\u001B[0m: \n",
      "\u001B[34m\u001B[1mwandb\u001B[0m: Run history:\n",
      "\u001B[34m\u001B[1mwandb\u001B[0m: average_test_accuracy ▂▇▁█▄\n",
      "\u001B[34m\u001B[1mwandb\u001B[0m:     average_test_loss ▁▃█▅▇\n",
      "\u001B[34m\u001B[1mwandb\u001B[0m: \n",
      "\u001B[34m\u001B[1mwandb\u001B[0m: Run summary:\n",
      "\u001B[34m\u001B[1mwandb\u001B[0m: average_test_accuracy 0.37633\n",
      "\u001B[34m\u001B[1mwandb\u001B[0m:     average_test_loss 2.01406\n",
      "\u001B[34m\u001B[1mwandb\u001B[0m: \n",
      "\u001B[34m\u001B[1mwandb\u001B[0m: Synced \u001B[33mblooming-blaze-36\u001B[0m: \u001B[34m\u001B[4mhttps://wandb.ai/soniamathews/Tactile_Action_Segmentation/runs/1832s3qk\u001B[0m\n",
      "\u001B[34m\u001B[1mwandb\u001B[0m: Synced 5 W&B file(s), 5 media file(s), 0 artifact file(s) and 0 other file(s)\n",
      "\u001B[34m\u001B[1mwandb\u001B[0m: Find logs at: \u001B[35m\u001B[1m./wandb/run-20220721_161002-1832s3qk/logs\u001B[0m\n"
     ]
    }
   ],
   "source": [
    "! python main_2.py -f encoder_decoder_baseline.yaml"
   ],
   "metadata": {
    "pycharm": {
     "name": "#%%\n"
    },
    "colab": {
     "base_uri": "https://localhost:8080/"
    },
    "id": "bYC1YNG1XLTW",
    "executionInfo": {
     "status": "ok",
     "timestamp": 1658419835659,
     "user_tz": -60,
     "elapsed": 734160,
     "user": {
      "displayName": "Sonia Mathews",
      "userId": "11348936089475052132"
     }
    },
    "outputId": "1b2255a5-9ca3-4772-8fcc-47e0e0a79f94"
   }
  },
  {
   "cell_type": "code",
   "execution_count": null,
   "outputs": [],
   "source": [],
   "metadata": {
    "pycharm": {
     "name": "#%%\n"
    },
    "id": "nOjv7nBIXLTW"
   }
  },
  {
   "cell_type": "code",
   "execution_count": null,
   "outputs": [],
   "source": [
    "! python main_2.py -f encoder_decoder_baseline.yaml"
   ],
   "metadata": {
    "pycharm": {
     "name": "#%%\n"
    },
    "id": "qc-qHb1o7RBJ"
   }
  },
  {
   "cell_type": "code",
   "execution_count": null,
   "outputs": [],
   "source": [
    "import numpy as np"
   ],
   "metadata": {
    "pycharm": {
     "name": "#%%\n"
    },
    "id": "0OQ4VaB8fy9k"
   }
  },
  {
   "cell_type": "code",
   "execution_count": null,
   "outputs": [],
   "source": [
    "results = np.load('inference_results/encoder_decoder_lstm/Encoder_Decoder_LSTM.npy')"
   ],
   "metadata": {
    "pycharm": {
     "name": "#%%\n"
    },
    "id": "yVEgs-eNfy9k"
   }
  },
  {
   "cell_type": "code",
   "execution_count": null,
   "outputs": [
    {
     "data": {
      "text/plain": "<numpy.lib.npyio.NpzFile at 0x190051c51f0>"
     },
     "execution_count": 3,
     "metadata": {},
     "output_type": "execute_result"
    }
   ],
   "source": [
    "results"
   ],
   "metadata": {
    "pycharm": {
     "name": "#%%\n"
    },
    "id": "2zXq4czWfy9k",
    "outputId": "8d2d2d94-b1a7-40bb-fbc8-185335746a2f"
   }
  },
  {
   "cell_type": "code",
   "execution_count": null,
   "outputs": [
    {
     "data": {
      "text/plain": "numpy.lib.npyio.NpzFile"
     },
     "execution_count": 4,
     "metadata": {},
     "output_type": "execute_result"
    }
   ],
   "source": [
    "type(results)"
   ],
   "metadata": {
    "pycharm": {
     "name": "#%%\n"
    },
    "id": "ax9U-mElfy9l",
    "outputId": "72da270a-f069-4da0-8b00-6d0d9c33e3e4"
   }
  },
  {
   "cell_type": "code",
   "execution_count": null,
   "outputs": [],
   "source": [
    "list_obj = results.files"
   ],
   "metadata": {
    "pycharm": {
     "name": "#%%\n"
    },
    "id": "kB8D0VZKfy9l"
   }
  },
  {
   "cell_type": "code",
   "execution_count": null,
   "outputs": [
    {
     "data": {
      "text/plain": "['archive/data.pkl',\n 'archive/data/0',\n 'archive/data/1',\n 'archive/data/2',\n 'archive/data/3',\n 'archive/data/4',\n 'archive/data/5',\n 'archive/data/6',\n 'archive/data/7',\n 'archive/data/8',\n 'archive/data/9',\n 'archive/version']"
     },
     "execution_count": 8,
     "metadata": {},
     "output_type": "execute_result"
    }
   ],
   "source": [
    "list_obj"
   ],
   "metadata": {
    "pycharm": {
     "name": "#%%\n"
    },
    "id": "fgXGSjM1fy9l",
    "outputId": "bfd5d2d9-4d20-4ec1-8545-5837d0802f8e"
   }
  },
  {
   "cell_type": "code",
   "execution_count": null,
   "outputs": [
    {
     "name": "stdout",
     "output_type": "stream",
     "text": [
      "archive/data/0\n",
      "b'\\x0e\\x08\\xdf;\\xa0\\x81_;J\\x9c<=X7\\x08=\\x00\\xed\\xd7;\\xbc^\\xef=\\xb2\\xff\\xbf<\\xc0S\\xb4:P\\x03\\xc4=\\x84\\x17\\x90=\\xfa\\x167\\xbdPG\\xc9=\"\\xbfq<\\xe4#\\xc4;\\xe2Z\\xe5=\\r\\xe9\\xab=\\x97\\xdb\\x9e\\xbd3\\x8f\\xb5=\\xdcb\\xae\\xbb\\x16\\xc3C<,\\xe8\\xaa=B\\x02\\x90=l\\xdf~\\xbdj\\x04\\xc1=\\xd0M\\xe99\\xf0\\xb6I<\\xcd\\xd8\\xe0=\\xe0\\xca\\xb2=\\x15[\\xb6\\xbd8\\xf4\\xb5=\\xe8\\xb3T\\xbc\\x14 v<\\xaa\\xd4\\xa8=V\\xea\\x92=\\xc4<\\x8f\\xbd#p\\xbe=J\\xbbW\\xbb\\xd4\\xa3^<\\xecA\\xdd=\\x8ex\\xb3=\\xaa=\\xc0\\xbd\\x7f\\x8a\\xb4=\\xa6_s\\xbcX\\x16}<X\\xf8\\xa6=\\'\\xb4\\x92=\\xf4\\x8d\\x95\\xbdWl\\xbc=>\\xc6\\x87\\xbbvs^<\\xda\\x03\\xdb={\\xd9\\xb2=L\\x05\\xc4\\xbd\\xe1h\\xb3=4\\x98y\\xbcH\\\\{<,\\xc4\\xa5=\\x12\\x04\\x92=\\xbb\\xf5\\x97\\xbd\\xf3O\\xbb=\\xf6\\x9e\\x8c\\xbb\\x96\\xbe[<\\xee\\xd9\\xd9=\\xe8=\\xb2=\\xbck\\xc5\\xbd,\\xcd\\xb2=\\xaaDz\\xbcxiy<\\xd8!\\xa5=\\x05\\x83\\x91=~\\xdd\\x98\\xbd$\\xd0\\xba=%\\xbe\\x8c\\xbb\\x92\\x07Z<\\x89Q\\xd9=[\\xe0\\xb1=\\x9b\\xef\\xc5\\xbdY\\x89\\xb2=r\\xfdy\\xbcB`x<\\xe1\\xd6\\xa4=\"=\\x91=Q4\\x99\\xbd\\xfa\\x9e\\xba=\\xc1D\\x8c\\xbbrCY<x\\x18\\xd9=\\x97\\xb2\\xb1=\\xdd\\x1f\\xc6\\xbd)p\\xb2=\\x84\\xb4y\\xbc\\x1c\\xf4w<:\\xb7\\xa4=\\x11\\x1d\\x91=fT\\x99\\xbd\\xb4\\x8e\\xba=\\x9e\\xeb\\x8b\\xbb\\x9c\\xfcX<\"\\x02\\xd9=\\x08\\x9f\\xb1=31\\xc6\\xbd*h\\xb2=>\\x88y\\xbc@\\xd0w<\\xa6\\xaa\\xa4=\\x08\\x10\\x91=\\xe1_\\x99\\xbdB\\x8a\\xba=A\\xba\\x8b\\xbb\\x1c\\xe8X<\\xc2\\xf9\\xd8=\\x89\\x97\\xb1=27\\xc6\\xbd f\\xb2=\\xfapy\\xbc2\\xc7w<\\xce\\xa5\\xa4=D\\x0b\\x91=\\xc6c\\x99\\xbdm\\x89\\xba=p\\xa1\\x8b\\xbbd\\xe4X<\\xac\\xf6\\xd8=\\xf2\\x94\\xb1=\\x1c9\\xc6\\xbd\\xcfe\\xb2=jey\\xbc2\\xc6w<\\xf2\\xa3\\xa4=\\xb3\\t\\x91=\\xf8d\\x99\\xbdw\\x89\\xba=[\\x95\\x8b\\xbb\\xe8\\xe4X<\\x84\\xf5\\xd8=$\\x94\\xb1=\\xa69\\xc6\\xbd\\xdbe\\xb2=\\x06`y\\xbc\\xe2\\xc6w<2\\xa3\\xa4=>\\t\\x91=He\\x99\\xbd\\x98\\x89\\xba=\\xd1\\x8f\\x8b\\xbb\\xc8\\xe5X<\\r\\xf5\\xd8=\\xee\\x93\\xb1=\\xc39\\xc6\\xbd\\xf0e\\xb2=t]y\\xbc\\x9a\\xc7w<\\xe4\\xa2\\xa4=\"\\t\\x91=Ue\\x99\\xbd\\xb0\\x89\\xba=2\\x8d\\x8b\\xbbn\\xe6X<\\xdb\\xf4\\xd8=\\xe4\\x93\\xb1=\\xc69\\xc6\\xbd\\xfae\\xb2=T\\\\y\\xbc\\x00\\xc8w<\\xbf\\xa2\\xa4=\\x1e\\t\\x91=Se\\x99\\xbd\\xba\\x89\\xba=\\n\\x8c\\x8b\\xbb\\xb8\\xe6X<\\xc5\\xf4\\xd8=\\xe2\\x93\\xb1=\\xc29\\xc6\\xbd\\xfee\\xb2=\\xcc[y\\xbc,\\xc8w<\\xae\\xa2\\xa4=\\x1e\\t\\x91=Oe\\x99\\xbd\\xbe\\x89\\xba=u\\x8b\\x8b\\xbb\\xd2\\xe6X<\\xb8\\xf4\\xd8=\\xe3\\x93\\xb1=\\xbe9\\xc6\\xbd\\x01f\\xb2=\\x96[y\\xbc:\\xc8w<\\xa4\\xa2\\xa4= \\t\\x91=Me\\x99\\xbd\\xbe\\x89\\xba=G\\x8b\\x8b\\xbb\\xe6\\xe6X<\\xb4\\xf4\\xd8=\\xe2\\x93\\xb1=\\xbb9\\xc6\\xbd\\x01f\\xb2=\\x80[y\\xbcL\\xc8w<\\xa2\\xa2\\xa4= \\t\\x91=Ke\\x99\\xbd\\xbe\\x89\\xba=\\r\\x8b\\x8b\\xbb\\xec\\xe6X<\\xb2\\xf4\\xd8=\\xe4\\x93\\xb1=\\xba9\\xc6\\xbd\\x00f\\xb2=d[y\\xbcH\\xc8w<\\xa0\\xa2\\xa4= \\t\\x91=Je\\x99\\xbd\\xbe\\x89\\xba=\\xeb\\x8a\\x8b\\xbb\\xe4\\xe6X<\\xaf\\xf4\\xd8=\\xe5\\x93\\xb1=\\xb99\\xc6\\xbd\\x00f\\xb2=h[y\\xbcD\\xc8w<\\x9e\\xa2\\xa4= \\t\\x91=Je\\x99\\xbd\\xbe\\x89\\xba=\\xf9\\x8a\\x8b\\xbb\\xe8\\xe6X<\\xb0\\xf4\\xd8=\\xe6\\x93\\xb1=\\xb99\\xc6\\xbd\\x01f\\xb2=p[y\\xbcF\\xc8w<\\x9e\\xa2\\xa4= \\t\\x91=Je\\x99\\xbd\\xbe\\x89\\xba=\\x01\\x8b\\x8b\\xbb\\xe2\\xe6X<\\xb0\\xf4\\xd8=\\xe4\\x93\\xb1=\\xb99\\xc6\\xbd\\x00f\\xb2=p[y\\xbcH\\xc8w<\\x9f\\xa2\\xa4= \\t\\x91=Ke\\x99\\xbd\\xbf\\x89\\xba=\\x01\\x8b\\x8b\\xbb\\xe8\\xe6X<\\xb0\\xf4\\xd8=\\xe6\\x93\\xb1=\\xb99\\xc6\\xbd\\x00f\\xb2=l[y\\xbcD\\xc8w<\\x9f\\xa2\\xa4= \\t\\x91=Je\\x99\\xbd\\xbe\\x89\\xba=\\x02\\x8b\\x8b\\xbb\\xe6\\xe6X<\\xb0\\xf4\\xd8=\\xe6\\x93\\xb1=\\xb99\\xc6\\xbd\\x00f\\xb2=\\\\[y\\xbcN\\xc8w<\\x9f\\xa2\\xa4= \\t\\x91=Je\\x99\\xbd\\xbe\\x89\\xba=\\x0b\\x8b\\x8b\\xbb\\xe8\\xe6X<\\xaf\\xf4\\xd8=\\xe6\\x93\\xb1=\\xb99\\xc6\\xbd\\x00f\\xb2=p[y\\xbc@\\xc8w<\\x9e\\xa2\\xa4=!\\t\\x91=Je\\x99\\xbd\\xbe\\x89\\xba=\\x01\\x8b\\x8b\\xbb\\xe6\\xe6X<\\xb0\\xf4\\xd8=\\xe6\\x93\\xb1=\\xb99\\xc6\\xbd\\x00f\\xb2=p[y\\xbcD\\xc8w<\\x9f\\xa2\\xa4=!\\t\\x91=Je\\x99\\xbd\\xbe\\x89\\xba=\\t\\x8b\\x8b\\xbb\\xe6\\xe6X<\\xb1\\xf4\\xd8=\\xe6\\x93\\xb1=\\xb99\\xc6\\xbd\\x00f\\xb2=p[y\\xbcF\\xc8w<\\x9f\\xa2\\xa4= \\t\\x91=Je\\x99\\xbd\\xbe\\x89\\xba=\\t\\x8b\\x8b\\xbb\\xe8\\xe6X<\\xb0\\xf4\\xd8=\\xe4\\x93\\xb1=\\xb99\\xc6\\xbd\\x00f\\xb2=p[y\\xbcF\\xc8w<\\xa0\\xa2\\xa4= \\t\\x91=Je\\x99\\xbd\\xbe\\x89\\xba=\\x01\\x8b\\x8b\\xbb\\xea\\xe6X<\\xb0\\xf4\\xd8=\\xe6\\x93\\xb1=\\xb99\\xc6\\xbd\\x00f\\xb2=p[y\\xbcF\\xc8w<\\x9e\\xa2\\xa4= \\t\\x91=Je\\x99\\xbd\\xbe\\x89\\xba=\\x01\\x8b\\x8b\\xbb\\xe8\\xe6X<\\xb0\\xf4\\xd8=\\xe4\\x93\\xb1=\\xb99\\xc6\\xbd\\x00f\\xb2=p[y\\xbcF\\xc8w<\\xa0\\xa2\\xa4= \\t\\x91=Je\\x99\\xbd\\xbe\\x89\\xba=\\t\\x8b\\x8b\\xbb\\xea\\xe6X<\\xb0\\xf4\\xd8=\\xe6\\x93\\xb1=\\xb99\\xc6\\xbd\\x00f\\xb2=t[y\\xbcF\\xc8w<\\x9f\\xa2\\xa4=!\\t\\x91=Je\\x99\\xbd\\xbe\\x89\\xba=\\t\\x8b\\x8b\\xbb\\xe8\\xe6X<\\xb0\\xf4\\xd8=\\xe6\\x93\\xb1=\\xb99\\xc6\\xbd\\x00f\\xb2=t[y\\xbcF\\xc8w<\\x9f\\xa2\\xa4= \\t\\x91=Je\\x99\\xbd\\xbe\\x89\\xba=\\t\\x8b\\x8b\\xbb\\xe8\\xe6X<\\xb0\\xf4\\xd8=\\xe6\\x93\\xb1=\\xb99\\xc6\\xbd\\x00f\\xb2=t[y\\xbcD\\xc8w<\\x9f\\xa2\\xa4= \\t\\x91=Je\\x99\\xbd\\xbe\\x89\\xba=\\x01\\x8b\\x8b\\xbb\\xe8\\xe6X<\\xb0\\xf4\\xd8=\\xe6\\x93\\xb1=\\xb99\\xc6\\xbd\\x00f\\xb2=t[y\\xbcD\\xc8w<\\x9e\\xa2\\xa4=!\\t\\x91=Je\\x99\\xbd\\xbd\\x89\\xba=\\x01\\x8b\\x8b\\xbb\\xe8\\xe6X<\\xb0\\xf4\\xd8=\\xe6\\x93\\xb1=\\xb99\\xc6\\xbd\\x00f\\xb2=t[y\\xbcH\\xc8w<\\x9f\\xa2\\xa4= \\t\\x91=Je\\x99\\xbd\\xbe\\x89\\xba=\\x01\\x8b\\x8b\\xbb\\xe8\\xe6X<\\xb0\\xf4\\xd8=\\xe6\\x93\\xb1=\\xb99\\xc6\\xbd\\x00f\\xb2=t[y\\xbcF\\xc8w<\\x9f\\xa2\\xa4= \\t\\x91=Je\\x99\\xbd\\xbe\\x89\\xba=\\t\\x8b\\x8b\\xbb\\xe8\\xe6X<\\xb0\\xf4\\xd8=\\xe6\\x93\\xb1=\\xb99\\xc6\\xbd\\x00f\\xb2=t[y\\xbcD\\xc8w<\\x9f\\xa2\\xa4= \\t\\x91=Je\\x99\\xbd\\xbe\\x89\\xba=\\t\\x8b\\x8b\\xbb\\xea\\xe6X<\\xb0\\xf4\\xd8=\\xe6\\x93\\xb1=\\xb99\\xc6\\xbd\\x00f\\xb2=t[y\\xbcD\\xc8w<\\x9e\\xa2\\xa4= \\t\\x91=Je\\x99\\xbd\\xbe\\x89\\xba=\\t\\x8b\\x8b\\xbb\\xea\\xe6X<\\xb0\\xf4\\xd8=\\xe6\\x93\\xb1=\\xb99\\xc6\\xbd\\x00f\\xb2=t[y\\xbcD\\xc8w<\\x9e\\xa2\\xa4= \\t\\x91=Je\\x99\\xbd\\xbe\\x89\\xba=\\t\\x8b\\x8b\\xbb\\xea\\xe6X<\\xb0\\xf4\\xd8=\\xe4\\x93\\xb1=\\xb99\\xc6\\xbd\\x00f\\xb2=t[y\\xbcD\\xc8w<\\x9f\\xa2\\xa4=!\\t\\x91=Je\\x99\\xbd\\xbe\\x89\\xba=\\t\\x8b\\x8b\\xbb\\xea\\xe6X<\\xb0\\xf4\\xd8=\\xe6\\x93\\xb1=\\xb99\\xc6\\xbd\\x00f\\xb2=t[y\\xbcD\\xc8w<\\x9f\\xa2\\xa4= \\t\\x91=Je\\x99\\xbd\\xbe\\x89\\xba=\\t\\x8b\\x8b\\xbb\\xea\\xe6X<\\xb0\\xf4\\xd8=\\xe6\\x93\\xb1=\\xb99\\xc6\\xbd\\x00f\\xb2=t[y\\xbcH\\xc8w<\\x9e\\xa2\\xa4= \\t\\x91=Je\\x99\\xbd\\xbe\\x89\\xba=\\x01\\x8b\\x8b\\xbb\\xea\\xe6X<\\xb0\\xf4\\xd8=\\xe6\\x93\\xb1=\\xb99\\xc6\\xbd\\x00f\\xb2=t[y\\xbcD\\xc8w<\\x9e\\xa2\\xa4=!\\t\\x91=Je\\x99\\xbd\\xbd\\x89\\xba=\\t\\x8b\\x8b\\xbb\\xe8\\xe6X<\\xb0\\xf4\\xd8=\\xe6\\x93\\xb1=\\xb99\\xc6\\xbd\\x00f\\xb2=t[y\\xbcD\\xc8w<\\x9f\\xa2\\xa4= \\t\\x91=Je\\x99\\xbd\\xbe\\x89\\xba=\\t\\x8b\\x8b\\xbb\\xe8\\xe6X<\\xb0\\xf4\\xd8=\\xe6\\x93\\xb1=\\xb99\\xc6\\xbd\\x00f\\xb2=t[y\\xbcB\\xc8w<\\x9e\\xa2\\xa4= \\t\\x91=Je\\x99\\xbd\\xbe\\x89\\xba=\\t\\x8b\\x8b\\xbb\\xe8\\xe6X<\\xb0\\xf4\\xd8=\\xe6\\x93\\xb1=\\xb99\\xc6\\xbd\\x00f\\xb2=t[y\\xbcD\\xc8w<\\x9e\\xa2\\xa4= \\t\\x91=Je\\x99\\xbd\\xbe\\x89\\xba=\\t\\x8b\\x8b\\xbb\\xea\\xe6X<\\xb0\\xf4\\xd8=\\xe6\\x93\\xb1=\\xb99\\xc6\\xbd\\x00f\\xb2=t[y\\xbcD\\xc8w<\\x9e\\xa2\\xa4= \\t\\x91=Je\\x99\\xbd\\xbe\\x89\\xba=\\t\\x8b\\x8b\\xbb\\xea\\xe6X<\\xb0\\xf4\\xd8=\\xe6\\x93\\xb1=\\xb99\\xc6\\xbd\\x00f\\xb2=t[y\\xbcD\\xc8w<\\x9e\\xa2\\xa4= \\t\\x91=Je\\x99\\xbd\\xbe\\x89\\xba=\\t\\x8b\\x8b\\xbb\\xea\\xe6X<\\xb0\\xf4\\xd8=\\xe6\\x93\\xb1=\\xb99\\xc6\\xbd\\x00f\\xb2=t[y\\xbcD\\xc8w<\\x9e\\xa2\\xa4= \\t\\x91=Je\\x99\\xbd\\xbe\\x89\\xba=\\t\\x8b\\x8b\\xbb\\xea\\xe6X<\\xb0\\xf4\\xd8=\\xe6\\x93\\xb1=\\xb99\\xc6\\xbd\\x00f\\xb2=t[y\\xbcD\\xc8w<\\x9e\\xa2\\xa4= \\t\\x91=Je\\x99\\xbd\\xbe\\x89\\xba=\\t\\x8b\\x8b\\xbb\\xea\\xe6X<\\xb0\\xf4\\xd8=\\xe6\\x93\\xb1=\\xb99\\xc6\\xbd\\x00f\\xb2=t[y\\xbcD\\xc8w<\\x9e\\xa2\\xa4= \\t\\x91=Je\\x99\\xbd\\xbe\\x89\\xba=\\t\\x8b\\x8b\\xbb\\xea\\xe6X<\\xb0\\xf4\\xd8=\\xe6\\x93\\xb1=\\xb99\\xc6\\xbd\\x00f\\xb2=t[y\\xbcD\\xc8w<\\x9e\\xa2\\xa4= \\t\\x91=Je\\x99\\xbd\\xbe\\x89\\xba=\\t\\x8b\\x8b\\xbb\\xea\\xe6X<\\xb0\\xf4\\xd8=\\xe6\\x93\\xb1=\\xb99\\xc6\\xbd\\x00f\\xb2=t[y\\xbcD\\xc8w<\\x9e\\xa2\\xa4= \\t\\x91=Je\\x99\\xbd\\xbe\\x89\\xba=\\t\\x8b\\x8b\\xbb\\xea\\xe6X<\\xb0\\xf4\\xd8=\\xe6\\x93\\xb1=\\xb99\\xc6\\xbd\\x00f\\xb2=t[y\\xbcD\\xc8w<\\x9e\\xa2\\xa4= \\t\\x91=Je\\x99\\xbd\\xbe\\x89\\xba=\\t\\x8b\\x8b\\xbb\\xea\\xe6X<\\xb0\\xf4\\xd8=\\xe6\\x93\\xb1=\\xb99\\xc6\\xbd\\x00f\\xb2=t[y\\xbcD\\xc8w<\\x9e\\xa2\\xa4= \\t\\x91=Je\\x99\\xbd\\xbe\\x89\\xba=\\t\\x8b\\x8b\\xbb\\xea\\xe6X<\\xb0\\xf4\\xd8=\\xe6\\x93\\xb1=\\xb99\\xc6\\xbd\\x00f\\xb2=t[y\\xbcD\\xc8w<\\x9e\\xa2\\xa4= \\t\\x91=Je\\x99\\xbd\\xbe\\x89\\xba=\\t\\x8b\\x8b\\xbb\\xea\\xe6X<\\xb0\\xf4\\xd8=\\xe6\\x93\\xb1=\\xb99\\xc6\\xbd\\x00f\\xb2=t[y\\xbcD\\xc8w<\\x9e\\xa2\\xa4= \\t\\x91=Je\\x99\\xbd\\xbe\\x89\\xba=\\t\\x8b\\x8b\\xbb\\xea\\xe6X<\\xb0\\xf4\\xd8=\\xe6\\x93\\xb1=\\xb99\\xc6\\xbd\\x00f\\xb2=t[y\\xbcD\\xc8w<\\x9e\\xa2\\xa4= \\t\\x91=Je\\x99\\xbd\\xbe\\x89\\xba=\\t\\x8b\\x8b\\xbb\\xea\\xe6X<\\xb0\\xf4\\xd8=\\xe6\\x93\\xb1=\\xb99\\xc6\\xbd\\x00f\\xb2=t[y\\xbcD\\xc8w<\\x9e\\xa2\\xa4= \\t\\x91=Je\\x99\\xbd\\xbe\\x89\\xba=\\t\\x8b\\x8b\\xbb\\xea\\xe6X<\\xb0\\xf4\\xd8=\\xe6\\x93\\xb1=\\xb99\\xc6\\xbd\\x00f\\xb2=t[y\\xbcD\\xc8w<\\x9e\\xa2\\xa4= \\t\\x91=Je\\x99\\xbd\\xbe\\x89\\xba=\\t\\x8b\\x8b\\xbb\\xea\\xe6X<\\xb0\\xf4\\xd8=\\xe6\\x93\\xb1=\\xb99\\xc6\\xbd\\x00f\\xb2=t[y\\xbcD\\xc8w<\\x9e\\xa2\\xa4= \\t\\x91=Je\\x99\\xbd\\xbe\\x89\\xba=\\t\\x8b\\x8b\\xbb\\xea\\xe6X<\\xb0\\xf4\\xd8=\\xe6\\x93\\xb1=\\xb99\\xc6\\xbd\\x00f\\xb2=t[y\\xbcD\\xc8w<\\x9e\\xa2\\xa4= \\t\\x91=Je\\x99\\xbd\\xbe\\x89\\xba=\\t\\x8b\\x8b\\xbb\\xea\\xe6X<\\xb0\\xf4\\xd8=\\xe6\\x93\\xb1=\\xb99\\xc6\\xbd\\x00f\\xb2=t[y\\xbcD\\xc8w<\\x9e\\xa2\\xa4= \\t\\x91=Je\\x99\\xbd\\xbe\\x89\\xba=\\t\\x8b\\x8b\\xbb\\xea\\xe6X<\\xb0\\xf4\\xd8=\\xe6\\x93\\xb1=\\xb99\\xc6\\xbd\\x00f\\xb2=t[y\\xbcD\\xc8w<\\x9e\\xa2\\xa4= \\t\\x91=Je\\x99\\xbd\\xbe\\x89\\xba=\\t\\x8b\\x8b\\xbb\\xea\\xe6X<\\xb0\\xf4\\xd8=\\xe6\\x93\\xb1=\\xb99\\xc6\\xbd\\x00f\\xb2=t[y\\xbcD\\xc8w<\\x9e\\xa2\\xa4= \\t\\x91=Je\\x99\\xbd\\xbe\\x89\\xba=\\t\\x8b\\x8b\\xbb\\xea\\xe6X<\\xb0\\xf4\\xd8=\\xe6\\x93\\xb1=\\xb99\\xc6\\xbd\\x00f\\xb2=t[y\\xbcD\\xc8w<\\x9e\\xa2\\xa4= \\t\\x91=Je\\x99\\xbd\\xbe\\x89\\xba=\\t\\x8b\\x8b\\xbb\\xea\\xe6X<\\xb0\\xf4\\xd8=\\xe6\\x93\\xb1=\\xb99\\xc6\\xbd\\x00f\\xb2=t[y\\xbcD\\xc8w<\\x9e\\xa2\\xa4= \\t\\x91=Je\\x99\\xbd\\xbe\\x89\\xba=\\t\\x8b\\x8b\\xbb\\xea\\xe6X<\\xb0\\xf4\\xd8=\\xe6\\x93\\xb1=\\xb99\\xc6\\xbd\\x00f\\xb2=t[y\\xbcD\\xc8w<\\x9e\\xa2\\xa4= \\t\\x91=Je\\x99\\xbd\\xbe\\x89\\xba=\\t\\x8b\\x8b\\xbb\\xea\\xe6X<\\xb0\\xf4\\xd8=\\xe6\\x93\\xb1=\\xb99\\xc6\\xbd\\x00f\\xb2=t[y\\xbcD\\xc8w<\\x9e\\xa2\\xa4= \\t\\x91=Je\\x99\\xbd\\xbe\\x89\\xba=\\t\\x8b\\x8b\\xbb\\xea\\xe6X<\\xb0\\xf4\\xd8=\\xe6\\x93\\xb1=\\xb99\\xc6\\xbd\\x00f\\xb2=t[y\\xbcD\\xc8w<\\x9e\\xa2\\xa4= \\t\\x91=Je\\x99\\xbd\\xbe\\x89\\xba=\\t\\x8b\\x8b\\xbb\\xea\\xe6X<\\xb0\\xf4\\xd8=\\xe6\\x93\\xb1=\\xb99\\xc6\\xbd\\x00f\\xb2=t[y\\xbcD\\xc8w<\\x9e\\xa2\\xa4= \\t\\x91=Je\\x99\\xbd\\xbe\\x89\\xba=\\t\\x8b\\x8b\\xbb\\xea\\xe6X<\\xb0\\xf4\\xd8=\\xe6\\x93\\xb1=\\xb99\\xc6\\xbd\\x00f\\xb2=t[y\\xbcD\\xc8w<\\x9e\\xa2\\xa4= \\t\\x91=Je\\x99\\xbd\\xbe\\x89\\xba=\\t\\x8b\\x8b\\xbb\\xea\\xe6X<\\xb0\\xf4\\xd8=\\xe6\\x93\\xb1=\\xb99\\xc6\\xbd\\x00f\\xb2=t[y\\xbcD\\xc8w<\\x9e\\xa2\\xa4= \\t\\x91=Je\\x99\\xbd\\xbe\\x89\\xba=\\t\\x8b\\x8b\\xbb\\xea\\xe6X<\\xb0\\xf4\\xd8=\\xe6\\x93\\xb1=\\xb99\\xc6\\xbd\\x00f\\xb2=t[y\\xbcD\\xc8w<\\x9e\\xa2\\xa4= \\t\\x91=Je\\x99\\xbd\\xbe\\x89\\xba=\\t\\x8b\\x8b\\xbb\\xea\\xe6X<\\xb0\\xf4\\xd8=\\xe6\\x93\\xb1=\\xb99\\xc6\\xbd\\x00f\\xb2=t[y\\xbcD\\xc8w<\\x9e\\xa2\\xa4= \\t\\x91=Je\\x99\\xbd\\xbe\\x89\\xba=\\t\\x8b\\x8b\\xbb\\xea\\xe6X<\\xb0\\xf4\\xd8=\\xe6\\x93\\xb1=\\xb99\\xc6\\xbd\\x00f\\xb2=t[y\\xbcD\\xc8w<\\x9e\\xa2\\xa4= \\t\\x91=Je\\x99\\xbd\\xbe\\x89\\xba=\\t\\x8b\\x8b\\xbb\\xea\\xe6X<\\xb0\\xf4\\xd8=\\xe6\\x93\\xb1=\\xb99\\xc6\\xbd\\x00f\\xb2=t[y\\xbcD\\xc8w<\\x9e\\xa2\\xa4= \\t\\x91=Je\\x99\\xbd\\xbe\\x89\\xba=\\t\\x8b\\x8b\\xbb\\xea\\xe6X<\\xb0\\xf4\\xd8=\\xe6\\x93\\xb1=\\xb99\\xc6\\xbd\\x00f\\xb2=t[y\\xbcD\\xc8w<\\x9e\\xa2\\xa4= \\t\\x91=Je\\x99\\xbd\\xbe\\x89\\xba=\\t\\x8b\\x8b\\xbb\\xea\\xe6X<\\xb0\\xf4\\xd8=\\xe6\\x93\\xb1=\\xb99\\xc6\\xbd\\x00f\\xb2=t[y\\xbcD\\xc8w<\\x9e\\xa2\\xa4= \\t\\x91=Je\\x99\\xbd\\xbe\\x89\\xba=\\t\\x8b\\x8b\\xbb\\xea\\xe6X<\\xb0\\xf4\\xd8=\\xe6\\x93\\xb1=\\xb99\\xc6\\xbd\\x00f\\xb2=t[y\\xbcD\\xc8w<\\x9e\\xa2\\xa4= \\t\\x91=Je\\x99\\xbd\\xbe\\x89\\xba=\\t\\x8b\\x8b\\xbb\\xea\\xe6X<\\xb0\\xf4\\xd8=\\xe6\\x93\\xb1=\\xb99\\xc6\\xbd\\x00f\\xb2=t[y\\xbcD\\xc8w<\\x9e\\xa2\\xa4= \\t\\x91=Je\\x99\\xbd\\xbe\\x89\\xba=\\t\\x8b\\x8b\\xbb\\xea\\xe6X<\\xb0\\xf4\\xd8=\\xe6\\x93\\xb1=\\xb99\\xc6\\xbd\\x00f\\xb2=t[y\\xbcD\\xc8w<\\x9e\\xa2\\xa4= \\t\\x91=Je\\x99\\xbd\\xbe\\x89\\xba=\\t\\x8b\\x8b\\xbb\\xea\\xe6X<\\xb0\\xf4\\xd8=\\xe6\\x93\\xb1=\\xb99\\xc6\\xbd\\x00f\\xb2=t[y\\xbcD\\xc8w<\\x9e\\xa2\\xa4= \\t\\x91=Je\\x99\\xbd\\xbe\\x89\\xba=\\t\\x8b\\x8b\\xbb\\xea\\xe6X<\\xb0\\xf4\\xd8=\\xe6\\x93\\xb1=\\xb99\\xc6\\xbd\\x00f\\xb2=t[y\\xbcD\\xc8w<\\x9e\\xa2\\xa4= \\t\\x91=Je\\x99\\xbd\\xbe\\x89\\xba=\\t\\x8b\\x8b\\xbb\\xea\\xe6X<\\xb0\\xf4\\xd8=\\xe6\\x93\\xb1=\\xb99\\xc6\\xbd\\x00f\\xb2=t[y\\xbcD\\xc8w<\\x9e\\xa2\\xa4= \\t\\x91=Je\\x99\\xbd\\xbe\\x89\\xba=\\t\\x8b\\x8b\\xbb\\xea\\xe6X<\\xb0\\xf4\\xd8=\\xe6\\x93\\xb1=\\xb99\\xc6\\xbd\\x00f\\xb2=t[y\\xbcD\\xc8w<\\x9e\\xa2\\xa4= \\t\\x91=Je\\x99\\xbd\\xbe\\x89\\xba=\\t\\x8b\\x8b\\xbb\\xea\\xe6X<\\xb0\\xf4\\xd8=\\xe6\\x93\\xb1=\\xb99\\xc6\\xbd\\x00f\\xb2=t[y\\xbcD\\xc8w<\\x9e\\xa2\\xa4= \\t\\x91=Je\\x99\\xbd\\xbe\\x89\\xba=\\t\\x8b\\x8b\\xbb\\xea\\xe6X<\\xb0\\xf4\\xd8=\\xe6\\x93\\xb1=\\xb99\\xc6\\xbd\\x00f\\xb2=t[y\\xbcD\\xc8w<\\x9e\\xa2\\xa4= \\t\\x91=Je\\x99\\xbd\\xbe\\x89\\xba=\\t\\x8b\\x8b\\xbb\\xea\\xe6X<\\xb0\\xf4\\xd8=\\xe6\\x93\\xb1=\\xb99\\xc6\\xbd\\x00f\\xb2=t[y\\xbcD\\xc8w<\\x9e\\xa2\\xa4= \\t\\x91=Je\\x99\\xbd\\xbe\\x89\\xba=\\t\\x8b\\x8b\\xbb\\xea\\xe6X<\\xb0\\xf4\\xd8=\\xe6\\x93\\xb1=\\xb99\\xc6\\xbd\\x00f\\xb2=t[y\\xbcD\\xc8w<\\x9e\\xa2\\xa4= \\t\\x91=Je\\x99\\xbd\\xbe\\x89\\xba=\\t\\x8b\\x8b\\xbb\\xea\\xe6X<\\xb0\\xf4\\xd8=\\xe6\\x93\\xb1=\\xb99\\xc6\\xbd\\x00f\\xb2=t[y\\xbcD\\xc8w<\\x9e\\xa2\\xa4= \\t\\x91=Je\\x99\\xbd\\xbe\\x89\\xba=\\t\\x8b\\x8b\\xbb\\xea\\xe6X<\\xb0\\xf4\\xd8=\\xe6\\x93\\xb1=\\xb99\\xc6\\xbd\\x00f\\xb2=t[y\\xbcD\\xc8w<\\x9e\\xa2\\xa4= \\t\\x91=Je\\x99\\xbd\\xbe\\x89\\xba=\\t\\x8b\\x8b\\xbb\\xea\\xe6X<\\xb0\\xf4\\xd8=\\xe6\\x93\\xb1=\\xb99\\xc6\\xbd\\x00f\\xb2=t[y\\xbcD\\xc8w<\\x9e\\xa2\\xa4= \\t\\x91=Je\\x99\\xbd\\xbe\\x89\\xba=\\t\\x8b\\x8b\\xbb\\xea\\xe6X<\\xb0\\xf4\\xd8=\\xe6\\x93\\xb1=\\xb99\\xc6\\xbd\\x00f\\xb2=t[y\\xbcD\\xc8w<\\x9e\\xa2\\xa4= \\t\\x91=Je\\x99\\xbd\\xbe\\x89\\xba=\\t\\x8b\\x8b\\xbb\\xea\\xe6X<\\xb0\\xf4\\xd8=\\xe6\\x93\\xb1=\\xb99\\xc6\\xbd\\x00f\\xb2=t[y\\xbcD\\xc8w<\\x9e\\xa2\\xa4= \\t\\x91=Je\\x99\\xbd\\xbe\\x89\\xba=\\t\\x8b\\x8b\\xbb\\xea\\xe6X<\\xb0\\xf4\\xd8=\\xe6\\x93\\xb1=\\xb99\\xc6\\xbd\\x00f\\xb2=t[y\\xbcD\\xc8w<\\x9e\\xa2\\xa4= \\t\\x91=Je\\x99\\xbd\\xbe\\x89\\xba=\\t\\x8b\\x8b\\xbb\\xea\\xe6X<\\xb0\\xf4\\xd8=\\xe6\\x93\\xb1=\\xb99\\xc6\\xbd\\x00f\\xb2=t[y\\xbcD\\xc8w<\\x9e\\xa2\\xa4= \\t\\x91=Je\\x99\\xbd\\xbe\\x89\\xba=\\t\\x8b\\x8b\\xbb\\xea\\xe6X<\\xb0\\xf4\\xd8=\\xe6\\x93\\xb1=\\xb99\\xc6\\xbd\\x00f\\xb2=\\x00\\x00\\x00\\x00\\x00\\x00\\x00\\x00\\x00\\x00\\x00\\x00\\x00\\x00\\x00\\x00\\x00\\x00\\x00\\x00\\x00\\x00\\x00\\x00'\n"
     ]
    }
   ],
   "source": [
    "for item in list_obj[1:]:\n",
    "    print(item)\n",
    "    print(results[item])\n",
    "    break"
   ],
   "metadata": {
    "pycharm": {
     "name": "#%%\n"
    },
    "id": "d-hvoUqkfy9m",
    "outputId": "d5c94083-e534-4811-f0f0-5cb612e64259"
   }
  },
  {
   "cell_type": "code",
   "execution_count": null,
   "outputs": [],
   "source": [],
   "metadata": {
    "pycharm": {
     "name": "#%%\n"
    },
    "id": "RhY--NGxfy9m"
   }
  }
 ],
 "metadata": {
  "kernelspec": {
   "display_name": "Python 3",
   "language": "python",
   "name": "python3"
  },
  "language_info": {
   "codemirror_mode": {
    "name": "ipython",
    "version": 2
   },
   "file_extension": ".py",
   "mimetype": "text/x-python",
   "name": "python",
   "nbconvert_exporter": "python",
   "pygments_lexer": "ipython2",
   "version": "2.7.6"
  },
  "colab": {
   "name": "main.ipynb",
   "provenance": [],
   "collapsed_sections": []
  },
  "accelerator": "GPU",
  "gpuClass": "standard"
 },
 "nbformat": 4,
 "nbformat_minor": 0
}