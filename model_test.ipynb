{
 "cells": [
  {
   "cell_type": "code",
   "execution_count": 1,
   "outputs": [
    {
     "output_type": "stream",
     "name": "stdout",
     "text": [
      "Mounted at /content/drive\n"
     ]
    }
   ],
   "source": [
    "import os\n",
    "from google.colab import drive\n",
    "\n",
    "drive.mount('/content/drive', force_remount=True)\n",
    "\n",
    "os.chdir(\"/content/drive/Othercomputers/Dell/Action-Segmentation-Project\")"
   ],
   "metadata": {
    "pycharm": {
     "name": "#%%\n"
    },
    "colab": {
     "base_uri": "https://localhost:8080/"
    },
    "id": "PzBa903bz8wU",
    "executionInfo": {
     "status": "ok",
     "timestamp": 1659264370913,
     "user_tz": -60,
     "elapsed": 31444,
     "user": {
      "displayName": "Sonia Mathews",
      "userId": "11348936089475052132"
     }
    },
    "outputId": "d8802bef-341f-44e6-84f0-e46a7fa86cc2"
   }
  },
  {
   "cell_type": "code",
   "execution_count": 2,
   "outputs": [
    {
     "output_type": "stream",
     "name": "stdout",
     "text": [
      "/content/drive/Othercomputers/Dell/Action-Segmentation-Project\n"
     ]
    }
   ],
   "source": [
    "!pwd"
   ],
   "metadata": {
    "pycharm": {
     "name": "#%%\n"
    },
    "colab": {
     "base_uri": "https://localhost:8080/"
    },
    "id": "-WO6c9KSz8wa",
    "executionInfo": {
     "status": "ok",
     "timestamp": 1659264380276,
     "user_tz": -60,
     "elapsed": 703,
     "user": {
      "displayName": "Sonia Mathews",
      "userId": "11348936089475052132"
     }
    },
    "outputId": "ee404d20-acc9-49f9-caca-204aa2fe89fc"
   }
  },
  {
   "cell_type": "code",
   "execution_count": 3,
   "outputs": [
    {
     "output_type": "stream",
     "name": "stdout",
     "text": [
      "Looking in indexes: https://pypi.org/simple, https://us-python.pkg.dev/colab-wheels/public/simple/\n",
      "Collecting pytorch-lightning\n",
      "  Downloading pytorch_lightning-1.6.5-py3-none-any.whl (585 kB)\n",
      "\u001B[K     |████████████████████████████████| 585 kB 4.2 MB/s \n",
      "\u001B[?25hRequirement already satisfied: protobuf<=3.20.1 in /usr/local/lib/python3.7/dist-packages (from pytorch-lightning) (3.17.3)\n",
      "Requirement already satisfied: tqdm>=4.57.0 in /usr/local/lib/python3.7/dist-packages (from pytorch-lightning) (4.64.0)\n",
      "Requirement already satisfied: numpy>=1.17.2 in /usr/local/lib/python3.7/dist-packages (from pytorch-lightning) (1.21.6)\n",
      "Collecting PyYAML>=5.4\n",
      "  Downloading PyYAML-6.0-cp37-cp37m-manylinux_2_5_x86_64.manylinux1_x86_64.manylinux_2_12_x86_64.manylinux2010_x86_64.whl (596 kB)\n",
      "\u001B[K     |████████████████████████████████| 596 kB 66.2 MB/s \n",
      "\u001B[?25hRequirement already satisfied: packaging>=17.0 in /usr/local/lib/python3.7/dist-packages (from pytorch-lightning) (21.3)\n",
      "Requirement already satisfied: tensorboard>=2.2.0 in /usr/local/lib/python3.7/dist-packages (from pytorch-lightning) (2.8.0)\n",
      "Requirement already satisfied: typing-extensions>=4.0.0 in /usr/local/lib/python3.7/dist-packages (from pytorch-lightning) (4.1.1)\n",
      "Collecting fsspec[http]!=2021.06.0,>=2021.05.0\n",
      "  Downloading fsspec-2022.7.1-py3-none-any.whl (141 kB)\n",
      "\u001B[K     |████████████████████████████████| 141 kB 70.4 MB/s \n",
      "\u001B[?25hCollecting torchmetrics>=0.4.1\n",
      "  Downloading torchmetrics-0.9.3-py3-none-any.whl (419 kB)\n",
      "\u001B[K     |████████████████████████████████| 419 kB 54.2 MB/s \n",
      "\u001B[?25hRequirement already satisfied: torch>=1.8.* in /usr/local/lib/python3.7/dist-packages (from pytorch-lightning) (1.12.0+cu113)\n",
      "Collecting pyDeprecate>=0.3.1\n",
      "  Downloading pyDeprecate-0.3.2-py3-none-any.whl (10 kB)\n",
      "Requirement already satisfied: requests in /usr/local/lib/python3.7/dist-packages (from fsspec[http]!=2021.06.0,>=2021.05.0->pytorch-lightning) (2.23.0)\n",
      "Requirement already satisfied: aiohttp in /usr/local/lib/python3.7/dist-packages (from fsspec[http]!=2021.06.0,>=2021.05.0->pytorch-lightning) (3.8.1)\n",
      "Requirement already satisfied: pyparsing!=3.0.5,>=2.0.2 in /usr/local/lib/python3.7/dist-packages (from packaging>=17.0->pytorch-lightning) (3.0.9)\n",
      "Requirement already satisfied: six>=1.9 in /usr/local/lib/python3.7/dist-packages (from protobuf<=3.20.1->pytorch-lightning) (1.15.0)\n",
      "Requirement already satisfied: grpcio>=1.24.3 in /usr/local/lib/python3.7/dist-packages (from tensorboard>=2.2.0->pytorch-lightning) (1.47.0)\n",
      "Requirement already satisfied: absl-py>=0.4 in /usr/local/lib/python3.7/dist-packages (from tensorboard>=2.2.0->pytorch-lightning) (1.2.0)\n",
      "Requirement already satisfied: google-auth<3,>=1.6.3 in /usr/local/lib/python3.7/dist-packages (from tensorboard>=2.2.0->pytorch-lightning) (1.35.0)\n",
      "Requirement already satisfied: tensorboard-data-server<0.7.0,>=0.6.0 in /usr/local/lib/python3.7/dist-packages (from tensorboard>=2.2.0->pytorch-lightning) (0.6.1)\n",
      "Requirement already satisfied: werkzeug>=0.11.15 in /usr/local/lib/python3.7/dist-packages (from tensorboard>=2.2.0->pytorch-lightning) (1.0.1)\n",
      "Requirement already satisfied: setuptools>=41.0.0 in /usr/local/lib/python3.7/dist-packages (from tensorboard>=2.2.0->pytorch-lightning) (57.4.0)\n",
      "Requirement already satisfied: google-auth-oauthlib<0.5,>=0.4.1 in /usr/local/lib/python3.7/dist-packages (from tensorboard>=2.2.0->pytorch-lightning) (0.4.6)\n",
      "Requirement already satisfied: wheel>=0.26 in /usr/local/lib/python3.7/dist-packages (from tensorboard>=2.2.0->pytorch-lightning) (0.37.1)\n",
      "Requirement already satisfied: markdown>=2.6.8 in /usr/local/lib/python3.7/dist-packages (from tensorboard>=2.2.0->pytorch-lightning) (3.4.1)\n",
      "Requirement already satisfied: tensorboard-plugin-wit>=1.6.0 in /usr/local/lib/python3.7/dist-packages (from tensorboard>=2.2.0->pytorch-lightning) (1.8.1)\n",
      "Requirement already satisfied: rsa<5,>=3.1.4 in /usr/local/lib/python3.7/dist-packages (from google-auth<3,>=1.6.3->tensorboard>=2.2.0->pytorch-lightning) (4.9)\n",
      "Requirement already satisfied: cachetools<5.0,>=2.0.0 in /usr/local/lib/python3.7/dist-packages (from google-auth<3,>=1.6.3->tensorboard>=2.2.0->pytorch-lightning) (4.2.4)\n",
      "Requirement already satisfied: pyasn1-modules>=0.2.1 in /usr/local/lib/python3.7/dist-packages (from google-auth<3,>=1.6.3->tensorboard>=2.2.0->pytorch-lightning) (0.2.8)\n",
      "Requirement already satisfied: requests-oauthlib>=0.7.0 in /usr/local/lib/python3.7/dist-packages (from google-auth-oauthlib<0.5,>=0.4.1->tensorboard>=2.2.0->pytorch-lightning) (1.3.1)\n",
      "Requirement already satisfied: importlib-metadata>=4.4 in /usr/local/lib/python3.7/dist-packages (from markdown>=2.6.8->tensorboard>=2.2.0->pytorch-lightning) (4.12.0)\n",
      "Requirement already satisfied: zipp>=0.5 in /usr/local/lib/python3.7/dist-packages (from importlib-metadata>=4.4->markdown>=2.6.8->tensorboard>=2.2.0->pytorch-lightning) (3.8.1)\n",
      "Requirement already satisfied: pyasn1<0.5.0,>=0.4.6 in /usr/local/lib/python3.7/dist-packages (from pyasn1-modules>=0.2.1->google-auth<3,>=1.6.3->tensorboard>=2.2.0->pytorch-lightning) (0.4.8)\n",
      "Requirement already satisfied: chardet<4,>=3.0.2 in /usr/local/lib/python3.7/dist-packages (from requests->fsspec[http]!=2021.06.0,>=2021.05.0->pytorch-lightning) (3.0.4)\n",
      "Requirement already satisfied: certifi>=2017.4.17 in /usr/local/lib/python3.7/dist-packages (from requests->fsspec[http]!=2021.06.0,>=2021.05.0->pytorch-lightning) (2022.6.15)\n",
      "Requirement already satisfied: urllib3!=1.25.0,!=1.25.1,<1.26,>=1.21.1 in /usr/local/lib/python3.7/dist-packages (from requests->fsspec[http]!=2021.06.0,>=2021.05.0->pytorch-lightning) (1.24.3)\n",
      "Requirement already satisfied: idna<3,>=2.5 in /usr/local/lib/python3.7/dist-packages (from requests->fsspec[http]!=2021.06.0,>=2021.05.0->pytorch-lightning) (2.10)\n",
      "Requirement already satisfied: oauthlib>=3.0.0 in /usr/local/lib/python3.7/dist-packages (from requests-oauthlib>=0.7.0->google-auth-oauthlib<0.5,>=0.4.1->tensorboard>=2.2.0->pytorch-lightning) (3.2.0)\n",
      "Requirement already satisfied: async-timeout<5.0,>=4.0.0a3 in /usr/local/lib/python3.7/dist-packages (from aiohttp->fsspec[http]!=2021.06.0,>=2021.05.0->pytorch-lightning) (4.0.2)\n",
      "Requirement already satisfied: attrs>=17.3.0 in /usr/local/lib/python3.7/dist-packages (from aiohttp->fsspec[http]!=2021.06.0,>=2021.05.0->pytorch-lightning) (21.4.0)\n",
      "Requirement already satisfied: aiosignal>=1.1.2 in /usr/local/lib/python3.7/dist-packages (from aiohttp->fsspec[http]!=2021.06.0,>=2021.05.0->pytorch-lightning) (1.2.0)\n",
      "Requirement already satisfied: charset-normalizer<3.0,>=2.0 in /usr/local/lib/python3.7/dist-packages (from aiohttp->fsspec[http]!=2021.06.0,>=2021.05.0->pytorch-lightning) (2.1.0)\n",
      "Requirement already satisfied: frozenlist>=1.1.1 in /usr/local/lib/python3.7/dist-packages (from aiohttp->fsspec[http]!=2021.06.0,>=2021.05.0->pytorch-lightning) (1.3.0)\n",
      "Requirement already satisfied: multidict<7.0,>=4.5 in /usr/local/lib/python3.7/dist-packages (from aiohttp->fsspec[http]!=2021.06.0,>=2021.05.0->pytorch-lightning) (6.0.2)\n",
      "Requirement already satisfied: asynctest==0.13.0 in /usr/local/lib/python3.7/dist-packages (from aiohttp->fsspec[http]!=2021.06.0,>=2021.05.0->pytorch-lightning) (0.13.0)\n",
      "Requirement already satisfied: yarl<2.0,>=1.0 in /usr/local/lib/python3.7/dist-packages (from aiohttp->fsspec[http]!=2021.06.0,>=2021.05.0->pytorch-lightning) (1.7.2)\n",
      "Installing collected packages: fsspec, torchmetrics, PyYAML, pyDeprecate, pytorch-lightning\n",
      "  Attempting uninstall: PyYAML\n",
      "    Found existing installation: PyYAML 3.13\n",
      "    Uninstalling PyYAML-3.13:\n",
      "      Successfully uninstalled PyYAML-3.13\n",
      "Successfully installed PyYAML-6.0 fsspec-2022.7.1 pyDeprecate-0.3.2 pytorch-lightning-1.6.5 torchmetrics-0.9.3\n"
     ]
    }
   ],
   "source": [
    "! pip install pytorch-lightning\n"
   ],
   "metadata": {
    "pycharm": {
     "name": "#%%\n"
    },
    "id": "gJEFXwjHz8wb",
    "colab": {
     "base_uri": "https://localhost:8080/"
    },
    "executionInfo": {
     "status": "ok",
     "timestamp": 1659264390046,
     "user_tz": -60,
     "elapsed": 7263,
     "user": {
      "displayName": "Sonia Mathews",
      "userId": "11348936089475052132"
     }
    },
    "outputId": "33f0b93c-02ae-4df9-e3ca-43cf83aa698d"
   }
  },
  {
   "cell_type": "code",
   "execution_count": 4,
   "outputs": [
    {
     "output_type": "stream",
     "name": "stdout",
     "text": [
      "\u001B[K     |████████████████████████████████| 1.8 MB 4.3 MB/s \n",
      "\u001B[K     |████████████████████████████████| 156 kB 68.2 MB/s \n",
      "\u001B[K     |████████████████████████████████| 181 kB 70.8 MB/s \n",
      "\u001B[K     |████████████████████████████████| 63 kB 2.0 MB/s \n",
      "\u001B[?25h  Building wheel for pathtools (setup.py) ... \u001B[?25l\u001B[?25hdone\n"
     ]
    }
   ],
   "source": [
    "! pip install wandb -qU"
   ],
   "metadata": {
    "pycharm": {
     "name": "#%%\n"
    },
    "id": "zUYPxRjCz8wc",
    "executionInfo": {
     "status": "ok",
     "timestamp": 1659264506599,
     "user_tz": -60,
     "elapsed": 10134,
     "user": {
      "displayName": "Sonia Mathews",
      "userId": "11348936089475052132"
     }
    },
    "colab": {
     "base_uri": "https://localhost:8080/"
    },
    "outputId": "57a3dc05-2b16-453d-b756-cc830c5ffb1c"
   }
  },
  {
   "cell_type": "code",
   "execution_count": 5,
   "outputs": [],
   "source": [
    "# import main_2\n",
    "%load_ext autoreload\n",
    "%autoreload 2"
   ],
   "metadata": {
    "pycharm": {
     "name": "#%%\n"
    },
    "id": "kOR4Zqr5XLTW",
    "executionInfo": {
     "status": "ok",
     "timestamp": 1659264506600,
     "user_tz": -60,
     "elapsed": 21,
     "user": {
      "displayName": "Sonia Mathews",
      "userId": "11348936089475052132"
     }
    }
   }
  },
  {
   "cell_type": "code",
   "execution_count": 18,
   "outputs": [
    {
     "output_type": "stream",
     "name": "stdout",
     "text": [
      "Global seed set to 42\n",
      "Tesla P100-PCIE-16GB\n",
      "features:['index_x', 'index_y', 'index_z', 'middle_x', 'middle_y', 'middle_z', 'thumb_x', 'thumb_y', 'thumb_z']\n",
      "no_sequences:59\n",
      "\u001B[34m\u001B[1mwandb\u001B[0m: Currently logged in as: \u001B[33msoniamathews\u001B[0m. Use \u001B[1m`wandb login --relogin`\u001B[0m to force relogin\n",
      "\u001B[34m\u001B[1mwandb\u001B[0m: Tracking run with wandb version 0.12.21\n",
      "\u001B[34m\u001B[1mwandb\u001B[0m: Run data is saved locally in \u001B[35m\u001B[1m/content/drive/Othercomputers/Dell/Action-Segmentation-Project/wandb/run-20220731_123826-q4duoiii\u001B[0m\n",
      "\u001B[34m\u001B[1mwandb\u001B[0m: Run \u001B[1m`wandb offline`\u001B[0m to turn off syncing.\n",
      "\u001B[34m\u001B[1mwandb\u001B[0m: Syncing run \u001B[33mlstm_tactile_exp_10\u001B[0m\n",
      "\u001B[34m\u001B[1mwandb\u001B[0m: ⭐️ View project at \u001B[34m\u001B[4mhttps://wandb.ai/soniamathews/LSTM_Debugging\u001B[0m\n",
      "\u001B[34m\u001B[1mwandb\u001B[0m: 🚀 View run at \u001B[34m\u001B[4mhttps://wandb.ai/soniamathews/LSTM_Debugging/runs/q4duoiii\u001B[0m\n",
      "GPU available: True, used: True\n",
      "TPU available: False, using: 0 TPU cores\n",
      "IPU available: False, using: 0 IPUs\n",
      "HPU available: False, using: 0 HPUs\n",
      "LOCAL_RANK: 0 - CUDA_VISIBLE_DEVICES: [0]\n",
      "\n",
      "  | Name             | Type             | Params\n",
      "------------------------------------------------------\n",
      "0 | lstm             | ManyToManyLSTM   | 32.9 K\n",
      "1 | loss_module      | CrossEntropyLoss | 0     \n",
      "2 | train_acc        | Accuracy         | 0     \n",
      "3 | val_acc          | Accuracy         | 0     \n",
      "4 | test_acc         | Accuracy         | 0     \n",
      "5 | confusion_matrix | ConfusionMatrix  | 0     \n",
      "------------------------------------------------------\n",
      "32.9 K    Trainable params\n",
      "0         Non-trainable params\n",
      "32.9 K    Total params\n",
      "0.132     Total estimated model params size (MB)\n",
      "Epoch 0:  73% 40/55 [00:22<00:08,  1.76it/s, loss=1.62, v_num=5]\n",
      "Validation: 0it [00:00, ?it/s]\u001B[A\n",
      "Validation:   0% 0/5 [00:00<?, ?it/s]\u001B[A\n",
      "Validation DataLoader 0:   0% 0/5 [00:00<?, ?it/s]\u001B[A\n",
      "Validation DataLoader 0: 100% 5/5 [00:02<00:00,  1.84it/s]\u001B[A\n",
      "Epoch 0: 100% 55/55 [00:31<00:00,  1.77it/s, loss=1.61, v_num=5, val_loss=1.550, val_acc=0.428]\n",
      "Epoch 1:  73% 40/55 [00:01<00:00, 24.72it/s, loss=1.51, v_num=5, val_loss=1.550, val_acc=0.428, train_acc=0.424]\n",
      "Validation: 0it [00:00, ?it/s]\u001B[A\n",
      "Validation:   0% 0/5 [00:00<?, ?it/s]\u001B[A\n",
      "Validation DataLoader 0:   0% 0/5 [00:00<?, ?it/s]\u001B[A\n",
      "Validation DataLoader 0: 100% 5/5 [00:01<00:00,  3.62it/s]\u001B[A\n",
      "Epoch 1: 100% 55/55 [00:03<00:00, 16.12it/s, loss=1.51, v_num=5, val_loss=1.520, val_acc=0.441, train_acc=0.424]\n",
      "Epoch 2:  73% 40/55 [00:01<00:00, 24.44it/s, loss=1.46, v_num=5, val_loss=1.520, val_acc=0.441, train_acc=0.426]\n",
      "Validation: 0it [00:00, ?it/s]\u001B[A\n",
      "Validation:   0% 0/5 [00:00<?, ?it/s]\u001B[A\n",
      "Validation DataLoader 0:   0% 0/5 [00:00<?, ?it/s]\u001B[A\n",
      "Validation DataLoader 0: 100% 5/5 [00:01<00:00,  2.99it/s]\u001B[A\n",
      "Epoch 2: 100% 55/55 [00:03<00:00, 14.78it/s, loss=1.46, v_num=5, val_loss=1.530, val_acc=0.405, train_acc=0.426]\n",
      "Epoch 3:  73% 40/55 [00:01<00:00, 24.41it/s, loss=1.51, v_num=5, val_loss=1.530, val_acc=0.405, train_acc=0.447]\n",
      "Validation: 0it [00:00, ?it/s]\u001B[A\n",
      "Validation:   0% 0/5 [00:00<?, ?it/s]\u001B[A\n",
      "Validation DataLoader 0:   0% 0/5 [00:00<?, ?it/s]\u001B[A\n",
      "Validation DataLoader 0: 100% 5/5 [00:01<00:00,  3.52it/s]\u001B[A\n",
      "Epoch 3: 100% 55/55 [00:03<00:00, 15.74it/s, loss=1.47, v_num=5, val_loss=1.520, val_acc=0.380, train_acc=0.447]\n",
      "Epoch 4:  73% 40/55 [00:01<00:00, 24.60it/s, loss=1.45, v_num=5, val_loss=1.520, val_acc=0.380, train_acc=0.452]\n",
      "Validation: 0it [00:00, ?it/s]\u001B[A\n",
      "Validation:   0% 0/5 [00:00<?, ?it/s]\u001B[A\n",
      "Validation DataLoader 0:   0% 0/5 [00:00<?, ?it/s]\u001B[A\n",
      "Validation DataLoader 0: 100% 5/5 [00:01<00:00,  3.52it/s]\u001B[A\n",
      "Epoch 4: 100% 55/55 [00:03<00:00, 15.90it/s, loss=1.44, v_num=5, val_loss=1.530, val_acc=0.364, train_acc=0.452]\n",
      "Epoch 5:  73% 40/55 [00:22<00:08,  1.81it/s, loss=1.36, v_num=5, val_loss=1.530, val_acc=0.364, train_acc=0.469]\n",
      "Validation: 0it [00:00, ?it/s]\u001B[A\n",
      "Validation:   0% 0/5 [00:00<?, ?it/s]\u001B[A\n",
      "Validation DataLoader 0:   0% 0/5 [00:00<?, ?it/s]\u001B[A\n",
      "Validation DataLoader 0: 100% 5/5 [00:02<00:00,  1.69it/s]\u001B[A\n",
      "Epoch 5: 100% 55/55 [00:30<00:00,  1.81it/s, loss=1.47, v_num=5, val_loss=1.490, val_acc=0.446, train_acc=0.469]\n",
      "Epoch 6:  73% 40/55 [00:01<00:00, 22.86it/s, loss=1.42, v_num=5, val_loss=1.490, val_acc=0.446, train_acc=0.485]\n",
      "Validation: 0it [00:00, ?it/s]\u001B[A\n",
      "Validation:   0% 0/5 [00:00<?, ?it/s]\u001B[A\n",
      "Validation DataLoader 0:   0% 0/5 [00:00<?, ?it/s]\u001B[A\n",
      "Validation DataLoader 0: 100% 5/5 [00:01<00:00,  3.53it/s]\u001B[A\n",
      "Epoch 6: 100% 55/55 [00:03<00:00, 15.31it/s, loss=1.5, v_num=5, val_loss=1.410, val_acc=0.449, train_acc=0.485] \n",
      "Epoch 7:  73% 40/55 [00:01<00:00, 23.76it/s, loss=1.4, v_num=5, val_loss=1.410, val_acc=0.449, train_acc=0.492] \n",
      "Validation: 0it [00:00, ?it/s]\u001B[A\n",
      "Validation:   0% 0/5 [00:00<?, ?it/s]\u001B[A\n",
      "Validation DataLoader 0:   0% 0/5 [00:00<?, ?it/s]\u001B[A\n",
      "Validation DataLoader 0: 100% 5/5 [00:01<00:00,  3.50it/s]\u001B[A\n",
      "Epoch 7: 100% 55/55 [00:03<00:00, 15.57it/s, loss=1.28, v_num=5, val_loss=1.610, val_acc=0.396, train_acc=0.492]\n",
      "Epoch 8:  73% 40/55 [00:01<00:00, 24.06it/s, loss=1.3, v_num=5, val_loss=1.610, val_acc=0.396, train_acc=0.495]\n",
      "Validation: 0it [00:00, ?it/s]\u001B[A\n",
      "Validation:   0% 0/5 [00:00<?, ?it/s]\u001B[A\n",
      "Validation DataLoader 0:   0% 0/5 [00:00<?, ?it/s]\u001B[A\n",
      "Validation DataLoader 0: 100% 5/5 [00:01<00:00,  3.57it/s]\u001B[A\n",
      "Epoch 8: 100% 55/55 [00:03<00:00, 15.77it/s, loss=1.36, v_num=5, val_loss=1.690, val_acc=0.318, train_acc=0.495]\n",
      "Epoch 9:  73% 40/55 [00:01<00:00, 23.75it/s, loss=1.34, v_num=5, val_loss=1.690, val_acc=0.318, train_acc=0.470]\n",
      "Validation: 0it [00:00, ?it/s]\u001B[A\n",
      "Validation:   0% 0/5 [00:00<?, ?it/s]\u001B[A\n",
      "Validation DataLoader 0:   0% 0/5 [00:00<?, ?it/s]\u001B[A\n",
      "Validation DataLoader 0: 100% 5/5 [00:01<00:00,  2.95it/s]\u001B[A\n",
      "Epoch 9: 100% 55/55 [00:03<00:00, 14.49it/s, loss=1.39, v_num=5, val_loss=1.490, val_acc=0.398, train_acc=0.470]\n",
      "Epoch 10:  73% 40/55 [00:22<00:08,  1.80it/s, loss=1.36, v_num=5, val_loss=1.490, val_acc=0.398, train_acc=0.478]\n",
      "Validation: 0it [00:00, ?it/s]\u001B[A\n",
      "Validation:   0% 0/5 [00:00<?, ?it/s]\u001B[A\n",
      "Validation DataLoader 0:   0% 0/5 [00:00<?, ?it/s]\u001B[A\n",
      "Validation DataLoader 0: 100% 5/5 [00:02<00:00,  1.89it/s]\u001B[A\n",
      "Epoch 10: 100% 55/55 [00:30<00:00,  1.82it/s, loss=1.49, v_num=5, val_loss=1.450, val_acc=0.448, train_acc=0.478]\n",
      "Epoch 11:  73% 40/55 [00:01<00:00, 24.46it/s, loss=1.32, v_num=5, val_loss=1.450, val_acc=0.448, train_acc=0.486]\n",
      "Validation: 0it [00:00, ?it/s]\u001B[A\n",
      "Validation:   0% 0/5 [00:00<?, ?it/s]\u001B[A\n",
      "Validation DataLoader 0:   0% 0/5 [00:00<?, ?it/s]\u001B[A\n",
      "Validation DataLoader 0: 100% 5/5 [00:01<00:00,  3.54it/s]\u001B[A\n",
      "Epoch 11: 100% 55/55 [00:03<00:00, 15.83it/s, loss=1.36, v_num=5, val_loss=1.340, val_acc=0.483, train_acc=0.486]\n",
      "Epoch 12:  73% 40/55 [00:01<00:00, 24.20it/s, loss=1.31, v_num=5, val_loss=1.340, val_acc=0.483, train_acc=0.503]\n",
      "Validation: 0it [00:00, ?it/s]\u001B[A\n",
      "Validation:   0% 0/5 [00:00<?, ?it/s]\u001B[A\n",
      "Validation DataLoader 0:   0% 0/5 [00:00<?, ?it/s]\u001B[A\n",
      "Validation DataLoader 0: 100% 5/5 [00:01<00:00,  2.92it/s]\u001B[A\n",
      "Epoch 12: 100% 55/55 [00:03<00:00, 14.56it/s, loss=1.3, v_num=5, val_loss=1.370, val_acc=0.442, train_acc=0.503] \n",
      "Epoch 13:  73% 40/55 [00:01<00:00, 23.76it/s, loss=1.61, v_num=5, val_loss=1.370, val_acc=0.442, train_acc=0.489]\n",
      "Validation: 0it [00:00, ?it/s]\u001B[A\n",
      "Validation:   0% 0/5 [00:00<?, ?it/s]\u001B[A\n",
      "Validation DataLoader 0:   0% 0/5 [00:00<?, ?it/s]\u001B[A\n",
      "Validation DataLoader 0: 100% 5/5 [00:01<00:00,  3.57it/s]\u001B[A\n",
      "Epoch 13: 100% 55/55 [00:03<00:00, 15.76it/s, loss=1.54, v_num=5, val_loss=1.440, val_acc=0.426, train_acc=0.489]\n",
      "Epoch 14:  73% 40/55 [00:01<00:00, 24.63it/s, loss=1.53, v_num=5, val_loss=1.440, val_acc=0.426, train_acc=0.484]\n",
      "Validation: 0it [00:00, ?it/s]\u001B[A\n",
      "Validation:   0% 0/5 [00:00<?, ?it/s]\u001B[A\n",
      "Validation DataLoader 0:   0% 0/5 [00:00<?, ?it/s]\u001B[A\n",
      "Validation DataLoader 0: 100% 5/5 [00:01<00:00,  3.56it/s]\u001B[A\n",
      "Epoch 14: 100% 55/55 [00:03<00:00, 15.82it/s, loss=1.55, v_num=5, val_loss=1.480, val_acc=0.428, train_acc=0.484]\n",
      "Epoch 15:  73% 40/55 [00:22<00:08,  1.80it/s, loss=1.48, v_num=5, val_loss=1.480, val_acc=0.428, train_acc=0.436]\n",
      "Validation: 0it [00:00, ?it/s]\u001B[A\n",
      "Validation:   0% 0/5 [00:00<?, ?it/s]\u001B[A\n",
      "Validation DataLoader 0:   0% 0/5 [00:00<?, ?it/s]\u001B[A\n",
      "Validation DataLoader 0: 100% 5/5 [00:02<00:00,  1.85it/s]\u001B[A\n",
      "Epoch 15: 100% 55/55 [00:30<00:00,  1.80it/s, loss=1.55, v_num=5, val_loss=1.540, val_acc=0.367, train_acc=0.436]\n",
      "Epoch 16:  73% 40/55 [00:01<00:00, 23.49it/s, loss=1.49, v_num=5, val_loss=1.540, val_acc=0.367, train_acc=0.437]\n",
      "Validation: 0it [00:00, ?it/s]\u001B[A\n",
      "Validation:   0% 0/5 [00:00<?, ?it/s]\u001B[A\n",
      "Validation DataLoader 0:   0% 0/5 [00:00<?, ?it/s]\u001B[A\n",
      "Validation DataLoader 0: 100% 5/5 [00:01<00:00,  3.39it/s]\u001B[A\n",
      "Epoch 16: 100% 55/55 [00:03<00:00, 15.28it/s, loss=1.4, v_num=5, val_loss=1.480, val_acc=0.377, train_acc=0.437] \n",
      "Epoch 17:  73% 40/55 [00:01<00:00, 23.96it/s, loss=1.35, v_num=5, val_loss=1.480, val_acc=0.377, train_acc=0.469]\n",
      "Validation: 0it [00:00, ?it/s]\u001B[A\n",
      "Validation:   0% 0/5 [00:00<?, ?it/s]\u001B[A\n",
      "Validation DataLoader 0:   0% 0/5 [00:00<?, ?it/s]\u001B[A\n",
      "Validation DataLoader 0: 100% 5/5 [00:01<00:00,  3.55it/s]\u001B[A\n",
      "Epoch 17: 100% 55/55 [00:03<00:00, 15.59it/s, loss=1.46, v_num=5, val_loss=1.460, val_acc=0.449, train_acc=0.469]\n",
      "Epoch 18:  73% 40/55 [00:01<00:00, 23.44it/s, loss=1.3, v_num=5, val_loss=1.460, val_acc=0.449, train_acc=0.474] \n",
      "Validation: 0it [00:00, ?it/s]\u001B[A\n",
      "Validation:   0% 0/5 [00:00<?, ?it/s]\u001B[A\n",
      "Validation DataLoader 0:   0% 0/5 [00:00<?, ?it/s]\u001B[A\n",
      "Validation DataLoader 0: 100% 5/5 [00:01<00:00,  3.60it/s]\u001B[A\n",
      "Epoch 18: 100% 55/55 [00:03<00:00, 15.63it/s, loss=1.54, v_num=5, val_loss=1.770, val_acc=0.397, train_acc=0.474]\n",
      "Epoch 19:  73% 40/55 [00:01<00:00, 21.11it/s, loss=1.4, v_num=5, val_loss=1.770, val_acc=0.397, train_acc=0.474] \n",
      "Validation: 0it [00:00, ?it/s]\u001B[A\n",
      "Validation:   0% 0/5 [00:00<?, ?it/s]\u001B[A\n",
      "Validation DataLoader 0:   0% 0/5 [00:00<?, ?it/s]\u001B[A\n",
      "Validation DataLoader 0: 100% 5/5 [00:01<00:00,  3.60it/s]\u001B[A\n",
      "Epoch 19: 100% 55/55 [00:03<00:00, 14.93it/s, loss=1.35, v_num=5, val_loss=1.470, val_acc=0.416, train_acc=0.474]\n",
      "Epoch 19: 100% 55/55 [00:03<00:00, 14.77it/s, loss=1.35, v_num=5, val_loss=1.470, val_acc=0.416, train_acc=0.457]\n",
      "logging/lstm_tactile_exp_10/lightning_logs/version_5/checkpoints/last.ckpt\n",
      "Restoring states from the checkpoint path at logging/lstm_tactile_exp_10/lightning_logs/version_5/checkpoints/last.ckpt\n",
      "LOCAL_RANK: 0 - CUDA_VISIBLE_DEVICES: [0]\n",
      "Loaded model weights from checkpoint at logging/lstm_tactile_exp_10/lightning_logs/version_5/checkpoints/last.ckpt\n",
      "Testing DataLoader 0: 100% 4/4 [00:02<00:00,  1.92it/s]average test f1 overlap @ 10%: 26.138888888888893\n",
      "average test f1 overlap @ 25%: 26.138888888888893\n",
      "average test f1 overlap @ 50%: 6.25\n",
      "average test edit: 27.280701754385966\n",
      "average test accuracy : 0.3298919200897217\n",
      "Testing DataLoader 0: 100% 4/4 [00:02<00:00,  1.91it/s]\n",
      "────────────────────────────────────────────────────────────────────────────────────────────────────────────────────────\n",
      "       Test metric             DataLoader 0\n",
      "────────────────────────────────────────────────────────────────────────────────────────────────────────────────────────\n",
      "        test_acc            0.3298919200897217\n",
      "        test_loss           1.8494163751602173\n",
      "────────────────────────────────────────────────────────────────────────────────────────────────────────────────────────\n",
      "\u001B[34m\u001B[1mwandb\u001B[0m: Waiting for W&B process to finish... \u001B[32m(success).\u001B[0m\n",
      "\u001B[34m\u001B[1mwandb\u001B[0m:                                                                                \n",
      "\u001B[34m\u001B[1mwandb\u001B[0m: \n",
      "\u001B[34m\u001B[1mwandb\u001B[0m: Run history:\n",
      "\u001B[34m\u001B[1mwandb\u001B[0m: average_test_accuracy ▁\n",
      "\u001B[34m\u001B[1mwandb\u001B[0m:     average_test_edit ▁\n",
      "\u001B[34m\u001B[1mwandb\u001B[0m:    average_test_f1_10 ▁\n",
      "\u001B[34m\u001B[1mwandb\u001B[0m:    average_test_f1_25 ▁\n",
      "\u001B[34m\u001B[1mwandb\u001B[0m:    average_test_f1_50 ▁\n",
      "\u001B[34m\u001B[1mwandb\u001B[0m:  average_val_accuracy ▆▆▅▄▃▆▇▄▁▄▇█▆▆▆▃▄▇▄▅\n",
      "\u001B[34m\u001B[1mwandb\u001B[0m:      average_val_edit ▁▂▄▄▅▄▆▄█▆▇▅▆▆▁▅▆▃▅▅\n",
      "\u001B[34m\u001B[1mwandb\u001B[0m:     average_val_f1_10 ▁▂▄▄▅▄▇▄█▇▇▆▆▇▁▅▆▃▄▆\n",
      "\u001B[34m\u001B[1mwandb\u001B[0m:     average_val_f1_25 ▁▂▅▄▆▄█▆▆▇▇▅▄▆▁▇▆▅▄▆\n",
      "\u001B[34m\u001B[1mwandb\u001B[0m:     average_val_f1_50 ▁▂▄▂▃▂▆▅▆█▅▃▄▄▁▅▅▃▂▄\n",
      "\u001B[34m\u001B[1mwandb\u001B[0m:            edit_score ▂▂▁▁▁▁▃▂▂▃▁▅▁▃▅▅▂▃▃▅▂▄▂▆▃▃█▂▁▁▁▃▄▃▂▁▁▂▁▁\n",
      "\u001B[34m\u001B[1mwandb\u001B[0m:                 epoch ▁▁▁▁▂▂▂▂▂▂▃▃▃▃▄▄▄▄▄▄▅▅▅▅▅▅▆▆▆▆▇▇▇▇▇▇████\n",
      "\u001B[34m\u001B[1mwandb\u001B[0m:         f1_overlap_10 ▃▃▂▂▂▂▃▃▄▂▂█▁▂█▇▄▂▃▇▃▄▄▂▆▃▆▃▂▂▂▂▂▂▆▂▂▄▃▂\n",
      "\u001B[34m\u001B[1mwandb\u001B[0m:         f1_overlap_25 ▄▄▁▃▁▁▄▄▅▃▁▆▁▃█▇▅▃▃▇▄▄▅▃▆▄▅▄▁▃▃▃▃▃▆▁▃▅▂▁\n",
      "\u001B[34m\u001B[1mwandb\u001B[0m:         f1_overlap_50 ▁▁▁▁▁▁▄▄▃▃▁▆▁▃█▂▃▃▃▇▁▁▃▃▆▁▃▁▁▁▁▃▁▁▃▁▁▃▁▁\n",
      "\u001B[34m\u001B[1mwandb\u001B[0m:         test_accuracy ▇▁█▅\n",
      "\u001B[34m\u001B[1mwandb\u001B[0m:             test_loss ▂█▆▁\n",
      "\u001B[34m\u001B[1mwandb\u001B[0m:        train_accuracy ▃▁▅▅▃▄▇▅▄▅▄▇▄▃▇▅▄▇▃▆▃▂▅▅█▅▇▁▂▅▆▄▇▂▅▃▆▄▅▂\n",
      "\u001B[34m\u001B[1mwandb\u001B[0m:            train_loss ▇█▅▅▇▅▂▅▆▆▇▄▆█▃▄▆▂▇▅██▅▆▃▅▁█▇▅▅▄▃▇▆█▆▅▅▇\n",
      "\u001B[34m\u001B[1mwandb\u001B[0m:          val_accuracy ▅▆▅▆▃█▃▇▃█▅▆▅▂▆▁▃▁▃▁▅▁▅▅▅▂▅▅▆▅▆▁▇▁▇▅▆▂▇▅\n",
      "\u001B[34m\u001B[1mwandb\u001B[0m:        val_edit_score ▂▃▂▃▆▅▆▅█▅▂▃▅▆▅▄▆▃▆▃▃▂▂▁▃▆█▁▂▁▅▃▅▅▃▆▃▄▅▃\n",
      "\u001B[34m\u001B[1mwandb\u001B[0m:     val_f1_overlap_10 ▄▅▄▅▅▇▅▇▇▆▄▅▇▃█▂▆▃▆▃▆▃▄▃▃▆█▃▄▃█▁█▂▇▃▅▂█▄\n",
      "\u001B[34m\u001B[1mwandb\u001B[0m:     val_f1_overlap_25 ▁▅▁▅▁▇▃▄▅▆▁▅▇▃█▂▅▃▄▁▆▃▁▁▄▂▆▁▁▁█▁█▁▇▃▆▁█▁\n",
      "\u001B[34m\u001B[1mwandb\u001B[0m:     val_f1_overlap_50 ▁▆▁▆▁█▁▅▁▇▁▆▁▂▄▁▃▁▁▁▁▁▁▁▁▁▅▁▁▁▁▁▆▁▆▁▁▁▆▁\n",
      "\u001B[34m\u001B[1mwandb\u001B[0m:              val_loss ▄▃▃▂▄▁▄▁▄▁▃▂▃▄▃▆▅▇▄▆▄▅▃▃▃▄▂▃▃▃▂▅▂▄▃▄▂█▂▃\n",
      "\u001B[34m\u001B[1mwandb\u001B[0m: \n",
      "\u001B[34m\u001B[1mwandb\u001B[0m: Run summary:\n",
      "\u001B[34m\u001B[1mwandb\u001B[0m: average_test_accuracy 0.32989\n",
      "\u001B[34m\u001B[1mwandb\u001B[0m:     average_test_edit 27.2807\n",
      "\u001B[34m\u001B[1mwandb\u001B[0m:    average_test_f1_10 26.13889\n",
      "\u001B[34m\u001B[1mwandb\u001B[0m:    average_test_f1_25 26.13889\n",
      "\u001B[34m\u001B[1mwandb\u001B[0m:    average_test_f1_50 6.25\n",
      "\u001B[34m\u001B[1mwandb\u001B[0m:  average_val_accuracy 0.41626\n",
      "\u001B[34m\u001B[1mwandb\u001B[0m:      average_val_edit 34.10317\n",
      "\u001B[34m\u001B[1mwandb\u001B[0m:     average_val_f1_10 41.4377\n",
      "\u001B[34m\u001B[1mwandb\u001B[0m:     average_val_f1_25 30.42979\n",
      "\u001B[34m\u001B[1mwandb\u001B[0m:     average_val_f1_50 16.16162\n",
      "\u001B[34m\u001B[1mwandb\u001B[0m:            edit_score 50.0\n",
      "\u001B[34m\u001B[1mwandb\u001B[0m:                 epoch 19\n",
      "\u001B[34m\u001B[1mwandb\u001B[0m:         f1_overlap_10 54.54545\n",
      "\u001B[34m\u001B[1mwandb\u001B[0m:         f1_overlap_25 36.36364\n",
      "\u001B[34m\u001B[1mwandb\u001B[0m:         f1_overlap_50 18.18182\n",
      "\u001B[34m\u001B[1mwandb\u001B[0m:         test_accuracy 0.31696\n",
      "\u001B[34m\u001B[1mwandb\u001B[0m:             test_loss 1.62362\n",
      "\u001B[34m\u001B[1mwandb\u001B[0m:        train_accuracy 0.58537\n",
      "\u001B[34m\u001B[1mwandb\u001B[0m:            train_loss 1.1946\n",
      "\u001B[34m\u001B[1mwandb\u001B[0m:          val_accuracy 0.40574\n",
      "\u001B[34m\u001B[1mwandb\u001B[0m:        val_edit_score 20.0\n",
      "\u001B[34m\u001B[1mwandb\u001B[0m:     val_f1_overlap_10 21.05263\n",
      "\u001B[34m\u001B[1mwandb\u001B[0m:     val_f1_overlap_25 0.0\n",
      "\u001B[34m\u001B[1mwandb\u001B[0m:     val_f1_overlap_50 0.0\n",
      "\u001B[34m\u001B[1mwandb\u001B[0m:              val_loss 1.43251\n",
      "\u001B[34m\u001B[1mwandb\u001B[0m: \n",
      "\u001B[34m\u001B[1mwandb\u001B[0m: Synced \u001B[33mlstm_tactile_exp_10\u001B[0m: \u001B[34m\u001B[4mhttps://wandb.ai/soniamathews/LSTM_Debugging/runs/q4duoiii\u001B[0m\n",
      "\u001B[34m\u001B[1mwandb\u001B[0m: Synced 5 W&B file(s), 224 media file(s), 0 artifact file(s) and 0 other file(s)\n",
      "\u001B[34m\u001B[1mwandb\u001B[0m: Find logs at: \u001B[35m\u001B[1m./wandb/run-20220731_123826-q4duoiii/logs\u001B[0m\n"
     ]
    }
   ],
   "source": [
    "! python main_test.py -f lstm_exp_1.yaml"
   ],
   "metadata": {
    "pycharm": {
     "name": "#%%\n"
    },
    "colab": {
     "base_uri": "https://localhost:8080/"
    },
    "id": "bYC1YNG1XLTW",
    "outputId": "cf761969-02a9-4e48-cffa-0c597516306a",
    "executionInfo": {
     "status": "ok",
     "timestamp": 1659271302696,
     "user_tz": -60,
     "elapsed": 209229,
     "user": {
      "displayName": "Sonia Mathews",
      "userId": "11348936089475052132"
     }
    }
   }
  },
  {
   "cell_type": "markdown",
   "source": [
    "# New Section"
   ],
   "metadata": {
    "id": "QAkLnHNBLt6s",
    "pycharm": {
     "name": "#%% md\n"
    }
   }
  },
  {
   "cell_type": "code",
   "execution_count": null,
   "outputs": [],
   "source": [],
   "metadata": {
    "pycharm": {
     "name": "#%%\n"
    },
    "id": "nOjv7nBIXLTW"
   }
  },
  {
   "cell_type": "code",
   "execution_count": null,
   "outputs": [],
   "source": [
    "! python main_2.py -f encoder_decoder_baseline.yaml"
   ],
   "metadata": {
    "pycharm": {
     "name": "#%%\n"
    },
    "id": "qc-qHb1o7RBJ"
   }
  },
  {
   "cell_type": "code",
   "execution_count": null,
   "outputs": [],
   "source": [
    "import numpy as np"
   ],
   "metadata": {
    "pycharm": {
     "name": "#%%\n"
    },
    "id": "0OQ4VaB8fy9k"
   }
  },
  {
   "cell_type": "code",
   "execution_count": null,
   "outputs": [],
   "source": [
    "results = np.load('inference_results/encoder_decoder_lstm/Encoder_Decoder_LSTM.npy')"
   ],
   "metadata": {
    "pycharm": {
     "name": "#%%\n"
    },
    "id": "yVEgs-eNfy9k"
   }
  },
  {
   "cell_type": "code",
   "execution_count": null,
   "outputs": [
    {
     "data": {
      "text/plain": "<numpy.lib.npyio.NpzFile at 0x190051c51f0>"
     },
     "execution_count": 3,
     "metadata": {},
     "output_type": "execute_result"
    }
   ],
   "source": [
    "results"
   ],
   "metadata": {
    "pycharm": {
     "name": "#%%\n"
    },
    "id": "2zXq4czWfy9k",
    "outputId": "8d2d2d94-b1a7-40bb-fbc8-185335746a2f"
   }
  },
  {
   "cell_type": "code",
   "execution_count": null,
   "outputs": [
    {
     "data": {
      "text/plain": "numpy.lib.npyio.NpzFile"
     },
     "execution_count": 4,
     "metadata": {},
     "output_type": "execute_result"
    }
   ],
   "source": [
    "type(results)"
   ],
   "metadata": {
    "pycharm": {
     "name": "#%%\n"
    },
    "id": "ax9U-mElfy9l",
    "outputId": "72da270a-f069-4da0-8b00-6d0d9c33e3e4"
   }
  },
  {
   "cell_type": "code",
   "execution_count": null,
   "outputs": [],
   "source": [
    "list_obj = results.files"
   ],
   "metadata": {
    "pycharm": {
     "name": "#%%\n"
    },
    "id": "kB8D0VZKfy9l"
   }
  },
  {
   "cell_type": "code",
   "execution_count": null,
   "outputs": [
    {
     "data": {
      "text/plain": "['archive/data.pkl',\n 'archive/data/0',\n 'archive/data/1',\n 'archive/data/2',\n 'archive/data/3',\n 'archive/data/4',\n 'archive/data/5',\n 'archive/data/6',\n 'archive/data/7',\n 'archive/data/8',\n 'archive/data/9',\n 'archive/version']"
     },
     "execution_count": 8,
     "metadata": {},
     "output_type": "execute_result"
    }
   ],
   "source": [
    "list_obj"
   ],
   "metadata": {
    "pycharm": {
     "name": "#%%\n"
    },
    "id": "fgXGSjM1fy9l",
    "outputId": "bfd5d2d9-4d20-4ec1-8545-5837d0802f8e"
   }
  },
  {
   "cell_type": "code",
   "execution_count": null,
   "outputs": [
    {
     "name": "stdout",
     "output_type": "stream",
     "text": [
      "archive/data/0\n",
      "b'\\x0e\\x08\\xdf;\\xa0\\x81_;J\\x9c<=X7\\x08=\\x00\\xed\\xd7;\\xbc^\\xef=\\xb2\\xff\\xbf<\\xc0S\\xb4:P\\x03\\xc4=\\x84\\x17\\x90=\\xfa\\x167\\xbdPG\\xc9=\"\\xbfq<\\xe4#\\xc4;\\xe2Z\\xe5=\\r\\xe9\\xab=\\x97\\xdb\\x9e\\xbd3\\x8f\\xb5=\\xdcb\\xae\\xbb\\x16\\xc3C<,\\xe8\\xaa=B\\x02\\x90=l\\xdf~\\xbdj\\x04\\xc1=\\xd0M\\xe99\\xf0\\xb6I<\\xcd\\xd8\\xe0=\\xe0\\xca\\xb2=\\x15[\\xb6\\xbd8\\xf4\\xb5=\\xe8\\xb3T\\xbc\\x14 v<\\xaa\\xd4\\xa8=V\\xea\\x92=\\xc4<\\x8f\\xbd#p\\xbe=J\\xbbW\\xbb\\xd4\\xa3^<\\xecA\\xdd=\\x8ex\\xb3=\\xaa=\\xc0\\xbd\\x7f\\x8a\\xb4=\\xa6_s\\xbcX\\x16}<X\\xf8\\xa6=\\'\\xb4\\x92=\\xf4\\x8d\\x95\\xbdWl\\xbc=>\\xc6\\x87\\xbbvs^<\\xda\\x03\\xdb={\\xd9\\xb2=L\\x05\\xc4\\xbd\\xe1h\\xb3=4\\x98y\\xbcH\\\\{<,\\xc4\\xa5=\\x12\\x04\\x92=\\xbb\\xf5\\x97\\xbd\\xf3O\\xbb=\\xf6\\x9e\\x8c\\xbb\\x96\\xbe[<\\xee\\xd9\\xd9=\\xe8=\\xb2=\\xbck\\xc5\\xbd,\\xcd\\xb2=\\xaaDz\\xbcxiy<\\xd8!\\xa5=\\x05\\x83\\x91=~\\xdd\\x98\\xbd$\\xd0\\xba=%\\xbe\\x8c\\xbb\\x92\\x07Z<\\x89Q\\xd9=[\\xe0\\xb1=\\x9b\\xef\\xc5\\xbdY\\x89\\xb2=r\\xfdy\\xbcB`x<\\xe1\\xd6\\xa4=\"=\\x91=Q4\\x99\\xbd\\xfa\\x9e\\xba=\\xc1D\\x8c\\xbbrCY<x\\x18\\xd9=\\x97\\xb2\\xb1=\\xdd\\x1f\\xc6\\xbd)p\\xb2=\\x84\\xb4y\\xbc\\x1c\\xf4w<:\\xb7\\xa4=\\x11\\x1d\\x91=fT\\x99\\xbd\\xb4\\x8e\\xba=\\x9e\\xeb\\x8b\\xbb\\x9c\\xfcX<\"\\x02\\xd9=\\x08\\x9f\\xb1=31\\xc6\\xbd*h\\xb2=>\\x88y\\xbc@\\xd0w<\\xa6\\xaa\\xa4=\\x08\\x10\\x91=\\xe1_\\x99\\xbdB\\x8a\\xba=A\\xba\\x8b\\xbb\\x1c\\xe8X<\\xc2\\xf9\\xd8=\\x89\\x97\\xb1=27\\xc6\\xbd f\\xb2=\\xfapy\\xbc2\\xc7w<\\xce\\xa5\\xa4=D\\x0b\\x91=\\xc6c\\x99\\xbdm\\x89\\xba=p\\xa1\\x8b\\xbbd\\xe4X<\\xac\\xf6\\xd8=\\xf2\\x94\\xb1=\\x1c9\\xc6\\xbd\\xcfe\\xb2=jey\\xbc2\\xc6w<\\xf2\\xa3\\xa4=\\xb3\\t\\x91=\\xf8d\\x99\\xbdw\\x89\\xba=[\\x95\\x8b\\xbb\\xe8\\xe4X<\\x84\\xf5\\xd8=$\\x94\\xb1=\\xa69\\xc6\\xbd\\xdbe\\xb2=\\x06`y\\xbc\\xe2\\xc6w<2\\xa3\\xa4=>\\t\\x91=He\\x99\\xbd\\x98\\x89\\xba=\\xd1\\x8f\\x8b\\xbb\\xc8\\xe5X<\\r\\xf5\\xd8=\\xee\\x93\\xb1=\\xc39\\xc6\\xbd\\xf0e\\xb2=t]y\\xbc\\x9a\\xc7w<\\xe4\\xa2\\xa4=\"\\t\\x91=Ue\\x99\\xbd\\xb0\\x89\\xba=2\\x8d\\x8b\\xbbn\\xe6X<\\xdb\\xf4\\xd8=\\xe4\\x93\\xb1=\\xc69\\xc6\\xbd\\xfae\\xb2=T\\\\y\\xbc\\x00\\xc8w<\\xbf\\xa2\\xa4=\\x1e\\t\\x91=Se\\x99\\xbd\\xba\\x89\\xba=\\n\\x8c\\x8b\\xbb\\xb8\\xe6X<\\xc5\\xf4\\xd8=\\xe2\\x93\\xb1=\\xc29\\xc6\\xbd\\xfee\\xb2=\\xcc[y\\xbc,\\xc8w<\\xae\\xa2\\xa4=\\x1e\\t\\x91=Oe\\x99\\xbd\\xbe\\x89\\xba=u\\x8b\\x8b\\xbb\\xd2\\xe6X<\\xb8\\xf4\\xd8=\\xe3\\x93\\xb1=\\xbe9\\xc6\\xbd\\x01f\\xb2=\\x96[y\\xbc:\\xc8w<\\xa4\\xa2\\xa4= \\t\\x91=Me\\x99\\xbd\\xbe\\x89\\xba=G\\x8b\\x8b\\xbb\\xe6\\xe6X<\\xb4\\xf4\\xd8=\\xe2\\x93\\xb1=\\xbb9\\xc6\\xbd\\x01f\\xb2=\\x80[y\\xbcL\\xc8w<\\xa2\\xa2\\xa4= \\t\\x91=Ke\\x99\\xbd\\xbe\\x89\\xba=\\r\\x8b\\x8b\\xbb\\xec\\xe6X<\\xb2\\xf4\\xd8=\\xe4\\x93\\xb1=\\xba9\\xc6\\xbd\\x00f\\xb2=d[y\\xbcH\\xc8w<\\xa0\\xa2\\xa4= \\t\\x91=Je\\x99\\xbd\\xbe\\x89\\xba=\\xeb\\x8a\\x8b\\xbb\\xe4\\xe6X<\\xaf\\xf4\\xd8=\\xe5\\x93\\xb1=\\xb99\\xc6\\xbd\\x00f\\xb2=h[y\\xbcD\\xc8w<\\x9e\\xa2\\xa4= \\t\\x91=Je\\x99\\xbd\\xbe\\x89\\xba=\\xf9\\x8a\\x8b\\xbb\\xe8\\xe6X<\\xb0\\xf4\\xd8=\\xe6\\x93\\xb1=\\xb99\\xc6\\xbd\\x01f\\xb2=p[y\\xbcF\\xc8w<\\x9e\\xa2\\xa4= \\t\\x91=Je\\x99\\xbd\\xbe\\x89\\xba=\\x01\\x8b\\x8b\\xbb\\xe2\\xe6X<\\xb0\\xf4\\xd8=\\xe4\\x93\\xb1=\\xb99\\xc6\\xbd\\x00f\\xb2=p[y\\xbcH\\xc8w<\\x9f\\xa2\\xa4= \\t\\x91=Ke\\x99\\xbd\\xbf\\x89\\xba=\\x01\\x8b\\x8b\\xbb\\xe8\\xe6X<\\xb0\\xf4\\xd8=\\xe6\\x93\\xb1=\\xb99\\xc6\\xbd\\x00f\\xb2=l[y\\xbcD\\xc8w<\\x9f\\xa2\\xa4= \\t\\x91=Je\\x99\\xbd\\xbe\\x89\\xba=\\x02\\x8b\\x8b\\xbb\\xe6\\xe6X<\\xb0\\xf4\\xd8=\\xe6\\x93\\xb1=\\xb99\\xc6\\xbd\\x00f\\xb2=\\\\[y\\xbcN\\xc8w<\\x9f\\xa2\\xa4= \\t\\x91=Je\\x99\\xbd\\xbe\\x89\\xba=\\x0b\\x8b\\x8b\\xbb\\xe8\\xe6X<\\xaf\\xf4\\xd8=\\xe6\\x93\\xb1=\\xb99\\xc6\\xbd\\x00f\\xb2=p[y\\xbc@\\xc8w<\\x9e\\xa2\\xa4=!\\t\\x91=Je\\x99\\xbd\\xbe\\x89\\xba=\\x01\\x8b\\x8b\\xbb\\xe6\\xe6X<\\xb0\\xf4\\xd8=\\xe6\\x93\\xb1=\\xb99\\xc6\\xbd\\x00f\\xb2=p[y\\xbcD\\xc8w<\\x9f\\xa2\\xa4=!\\t\\x91=Je\\x99\\xbd\\xbe\\x89\\xba=\\t\\x8b\\x8b\\xbb\\xe6\\xe6X<\\xb1\\xf4\\xd8=\\xe6\\x93\\xb1=\\xb99\\xc6\\xbd\\x00f\\xb2=p[y\\xbcF\\xc8w<\\x9f\\xa2\\xa4= \\t\\x91=Je\\x99\\xbd\\xbe\\x89\\xba=\\t\\x8b\\x8b\\xbb\\xe8\\xe6X<\\xb0\\xf4\\xd8=\\xe4\\x93\\xb1=\\xb99\\xc6\\xbd\\x00f\\xb2=p[y\\xbcF\\xc8w<\\xa0\\xa2\\xa4= \\t\\x91=Je\\x99\\xbd\\xbe\\x89\\xba=\\x01\\x8b\\x8b\\xbb\\xea\\xe6X<\\xb0\\xf4\\xd8=\\xe6\\x93\\xb1=\\xb99\\xc6\\xbd\\x00f\\xb2=p[y\\xbcF\\xc8w<\\x9e\\xa2\\xa4= \\t\\x91=Je\\x99\\xbd\\xbe\\x89\\xba=\\x01\\x8b\\x8b\\xbb\\xe8\\xe6X<\\xb0\\xf4\\xd8=\\xe4\\x93\\xb1=\\xb99\\xc6\\xbd\\x00f\\xb2=p[y\\xbcF\\xc8w<\\xa0\\xa2\\xa4= \\t\\x91=Je\\x99\\xbd\\xbe\\x89\\xba=\\t\\x8b\\x8b\\xbb\\xea\\xe6X<\\xb0\\xf4\\xd8=\\xe6\\x93\\xb1=\\xb99\\xc6\\xbd\\x00f\\xb2=t[y\\xbcF\\xc8w<\\x9f\\xa2\\xa4=!\\t\\x91=Je\\x99\\xbd\\xbe\\x89\\xba=\\t\\x8b\\x8b\\xbb\\xe8\\xe6X<\\xb0\\xf4\\xd8=\\xe6\\x93\\xb1=\\xb99\\xc6\\xbd\\x00f\\xb2=t[y\\xbcF\\xc8w<\\x9f\\xa2\\xa4= \\t\\x91=Je\\x99\\xbd\\xbe\\x89\\xba=\\t\\x8b\\x8b\\xbb\\xe8\\xe6X<\\xb0\\xf4\\xd8=\\xe6\\x93\\xb1=\\xb99\\xc6\\xbd\\x00f\\xb2=t[y\\xbcD\\xc8w<\\x9f\\xa2\\xa4= \\t\\x91=Je\\x99\\xbd\\xbe\\x89\\xba=\\x01\\x8b\\x8b\\xbb\\xe8\\xe6X<\\xb0\\xf4\\xd8=\\xe6\\x93\\xb1=\\xb99\\xc6\\xbd\\x00f\\xb2=t[y\\xbcD\\xc8w<\\x9e\\xa2\\xa4=!\\t\\x91=Je\\x99\\xbd\\xbd\\x89\\xba=\\x01\\x8b\\x8b\\xbb\\xe8\\xe6X<\\xb0\\xf4\\xd8=\\xe6\\x93\\xb1=\\xb99\\xc6\\xbd\\x00f\\xb2=t[y\\xbcH\\xc8w<\\x9f\\xa2\\xa4= \\t\\x91=Je\\x99\\xbd\\xbe\\x89\\xba=\\x01\\x8b\\x8b\\xbb\\xe8\\xe6X<\\xb0\\xf4\\xd8=\\xe6\\x93\\xb1=\\xb99\\xc6\\xbd\\x00f\\xb2=t[y\\xbcF\\xc8w<\\x9f\\xa2\\xa4= \\t\\x91=Je\\x99\\xbd\\xbe\\x89\\xba=\\t\\x8b\\x8b\\xbb\\xe8\\xe6X<\\xb0\\xf4\\xd8=\\xe6\\x93\\xb1=\\xb99\\xc6\\xbd\\x00f\\xb2=t[y\\xbcD\\xc8w<\\x9f\\xa2\\xa4= \\t\\x91=Je\\x99\\xbd\\xbe\\x89\\xba=\\t\\x8b\\x8b\\xbb\\xea\\xe6X<\\xb0\\xf4\\xd8=\\xe6\\x93\\xb1=\\xb99\\xc6\\xbd\\x00f\\xb2=t[y\\xbcD\\xc8w<\\x9e\\xa2\\xa4= \\t\\x91=Je\\x99\\xbd\\xbe\\x89\\xba=\\t\\x8b\\x8b\\xbb\\xea\\xe6X<\\xb0\\xf4\\xd8=\\xe6\\x93\\xb1=\\xb99\\xc6\\xbd\\x00f\\xb2=t[y\\xbcD\\xc8w<\\x9e\\xa2\\xa4= \\t\\x91=Je\\x99\\xbd\\xbe\\x89\\xba=\\t\\x8b\\x8b\\xbb\\xea\\xe6X<\\xb0\\xf4\\xd8=\\xe4\\x93\\xb1=\\xb99\\xc6\\xbd\\x00f\\xb2=t[y\\xbcD\\xc8w<\\x9f\\xa2\\xa4=!\\t\\x91=Je\\x99\\xbd\\xbe\\x89\\xba=\\t\\x8b\\x8b\\xbb\\xea\\xe6X<\\xb0\\xf4\\xd8=\\xe6\\x93\\xb1=\\xb99\\xc6\\xbd\\x00f\\xb2=t[y\\xbcD\\xc8w<\\x9f\\xa2\\xa4= \\t\\x91=Je\\x99\\xbd\\xbe\\x89\\xba=\\t\\x8b\\x8b\\xbb\\xea\\xe6X<\\xb0\\xf4\\xd8=\\xe6\\x93\\xb1=\\xb99\\xc6\\xbd\\x00f\\xb2=t[y\\xbcH\\xc8w<\\x9e\\xa2\\xa4= \\t\\x91=Je\\x99\\xbd\\xbe\\x89\\xba=\\x01\\x8b\\x8b\\xbb\\xea\\xe6X<\\xb0\\xf4\\xd8=\\xe6\\x93\\xb1=\\xb99\\xc6\\xbd\\x00f\\xb2=t[y\\xbcD\\xc8w<\\x9e\\xa2\\xa4=!\\t\\x91=Je\\x99\\xbd\\xbd\\x89\\xba=\\t\\x8b\\x8b\\xbb\\xe8\\xe6X<\\xb0\\xf4\\xd8=\\xe6\\x93\\xb1=\\xb99\\xc6\\xbd\\x00f\\xb2=t[y\\xbcD\\xc8w<\\x9f\\xa2\\xa4= \\t\\x91=Je\\x99\\xbd\\xbe\\x89\\xba=\\t\\x8b\\x8b\\xbb\\xe8\\xe6X<\\xb0\\xf4\\xd8=\\xe6\\x93\\xb1=\\xb99\\xc6\\xbd\\x00f\\xb2=t[y\\xbcB\\xc8w<\\x9e\\xa2\\xa4= \\t\\x91=Je\\x99\\xbd\\xbe\\x89\\xba=\\t\\x8b\\x8b\\xbb\\xe8\\xe6X<\\xb0\\xf4\\xd8=\\xe6\\x93\\xb1=\\xb99\\xc6\\xbd\\x00f\\xb2=t[y\\xbcD\\xc8w<\\x9e\\xa2\\xa4= \\t\\x91=Je\\x99\\xbd\\xbe\\x89\\xba=\\t\\x8b\\x8b\\xbb\\xea\\xe6X<\\xb0\\xf4\\xd8=\\xe6\\x93\\xb1=\\xb99\\xc6\\xbd\\x00f\\xb2=t[y\\xbcD\\xc8w<\\x9e\\xa2\\xa4= \\t\\x91=Je\\x99\\xbd\\xbe\\x89\\xba=\\t\\x8b\\x8b\\xbb\\xea\\xe6X<\\xb0\\xf4\\xd8=\\xe6\\x93\\xb1=\\xb99\\xc6\\xbd\\x00f\\xb2=t[y\\xbcD\\xc8w<\\x9e\\xa2\\xa4= \\t\\x91=Je\\x99\\xbd\\xbe\\x89\\xba=\\t\\x8b\\x8b\\xbb\\xea\\xe6X<\\xb0\\xf4\\xd8=\\xe6\\x93\\xb1=\\xb99\\xc6\\xbd\\x00f\\xb2=t[y\\xbcD\\xc8w<\\x9e\\xa2\\xa4= \\t\\x91=Je\\x99\\xbd\\xbe\\x89\\xba=\\t\\x8b\\x8b\\xbb\\xea\\xe6X<\\xb0\\xf4\\xd8=\\xe6\\x93\\xb1=\\xb99\\xc6\\xbd\\x00f\\xb2=t[y\\xbcD\\xc8w<\\x9e\\xa2\\xa4= \\t\\x91=Je\\x99\\xbd\\xbe\\x89\\xba=\\t\\x8b\\x8b\\xbb\\xea\\xe6X<\\xb0\\xf4\\xd8=\\xe6\\x93\\xb1=\\xb99\\xc6\\xbd\\x00f\\xb2=t[y\\xbcD\\xc8w<\\x9e\\xa2\\xa4= \\t\\x91=Je\\x99\\xbd\\xbe\\x89\\xba=\\t\\x8b\\x8b\\xbb\\xea\\xe6X<\\xb0\\xf4\\xd8=\\xe6\\x93\\xb1=\\xb99\\xc6\\xbd\\x00f\\xb2=t[y\\xbcD\\xc8w<\\x9e\\xa2\\xa4= \\t\\x91=Je\\x99\\xbd\\xbe\\x89\\xba=\\t\\x8b\\x8b\\xbb\\xea\\xe6X<\\xb0\\xf4\\xd8=\\xe6\\x93\\xb1=\\xb99\\xc6\\xbd\\x00f\\xb2=t[y\\xbcD\\xc8w<\\x9e\\xa2\\xa4= \\t\\x91=Je\\x99\\xbd\\xbe\\x89\\xba=\\t\\x8b\\x8b\\xbb\\xea\\xe6X<\\xb0\\xf4\\xd8=\\xe6\\x93\\xb1=\\xb99\\xc6\\xbd\\x00f\\xb2=t[y\\xbcD\\xc8w<\\x9e\\xa2\\xa4= \\t\\x91=Je\\x99\\xbd\\xbe\\x89\\xba=\\t\\x8b\\x8b\\xbb\\xea\\xe6X<\\xb0\\xf4\\xd8=\\xe6\\x93\\xb1=\\xb99\\xc6\\xbd\\x00f\\xb2=t[y\\xbcD\\xc8w<\\x9e\\xa2\\xa4= \\t\\x91=Je\\x99\\xbd\\xbe\\x89\\xba=\\t\\x8b\\x8b\\xbb\\xea\\xe6X<\\xb0\\xf4\\xd8=\\xe6\\x93\\xb1=\\xb99\\xc6\\xbd\\x00f\\xb2=t[y\\xbcD\\xc8w<\\x9e\\xa2\\xa4= \\t\\x91=Je\\x99\\xbd\\xbe\\x89\\xba=\\t\\x8b\\x8b\\xbb\\xea\\xe6X<\\xb0\\xf4\\xd8=\\xe6\\x93\\xb1=\\xb99\\xc6\\xbd\\x00f\\xb2=t[y\\xbcD\\xc8w<\\x9e\\xa2\\xa4= \\t\\x91=Je\\x99\\xbd\\xbe\\x89\\xba=\\t\\x8b\\x8b\\xbb\\xea\\xe6X<\\xb0\\xf4\\xd8=\\xe6\\x93\\xb1=\\xb99\\xc6\\xbd\\x00f\\xb2=t[y\\xbcD\\xc8w<\\x9e\\xa2\\xa4= \\t\\x91=Je\\x99\\xbd\\xbe\\x89\\xba=\\t\\x8b\\x8b\\xbb\\xea\\xe6X<\\xb0\\xf4\\xd8=\\xe6\\x93\\xb1=\\xb99\\xc6\\xbd\\x00f\\xb2=t[y\\xbcD\\xc8w<\\x9e\\xa2\\xa4= \\t\\x91=Je\\x99\\xbd\\xbe\\x89\\xba=\\t\\x8b\\x8b\\xbb\\xea\\xe6X<\\xb0\\xf4\\xd8=\\xe6\\x93\\xb1=\\xb99\\xc6\\xbd\\x00f\\xb2=t[y\\xbcD\\xc8w<\\x9e\\xa2\\xa4= \\t\\x91=Je\\x99\\xbd\\xbe\\x89\\xba=\\t\\x8b\\x8b\\xbb\\xea\\xe6X<\\xb0\\xf4\\xd8=\\xe6\\x93\\xb1=\\xb99\\xc6\\xbd\\x00f\\xb2=t[y\\xbcD\\xc8w<\\x9e\\xa2\\xa4= \\t\\x91=Je\\x99\\xbd\\xbe\\x89\\xba=\\t\\x8b\\x8b\\xbb\\xea\\xe6X<\\xb0\\xf4\\xd8=\\xe6\\x93\\xb1=\\xb99\\xc6\\xbd\\x00f\\xb2=t[y\\xbcD\\xc8w<\\x9e\\xa2\\xa4= \\t\\x91=Je\\x99\\xbd\\xbe\\x89\\xba=\\t\\x8b\\x8b\\xbb\\xea\\xe6X<\\xb0\\xf4\\xd8=\\xe6\\x93\\xb1=\\xb99\\xc6\\xbd\\x00f\\xb2=t[y\\xbcD\\xc8w<\\x9e\\xa2\\xa4= \\t\\x91=Je\\x99\\xbd\\xbe\\x89\\xba=\\t\\x8b\\x8b\\xbb\\xea\\xe6X<\\xb0\\xf4\\xd8=\\xe6\\x93\\xb1=\\xb99\\xc6\\xbd\\x00f\\xb2=t[y\\xbcD\\xc8w<\\x9e\\xa2\\xa4= \\t\\x91=Je\\x99\\xbd\\xbe\\x89\\xba=\\t\\x8b\\x8b\\xbb\\xea\\xe6X<\\xb0\\xf4\\xd8=\\xe6\\x93\\xb1=\\xb99\\xc6\\xbd\\x00f\\xb2=t[y\\xbcD\\xc8w<\\x9e\\xa2\\xa4= \\t\\x91=Je\\x99\\xbd\\xbe\\x89\\xba=\\t\\x8b\\x8b\\xbb\\xea\\xe6X<\\xb0\\xf4\\xd8=\\xe6\\x93\\xb1=\\xb99\\xc6\\xbd\\x00f\\xb2=t[y\\xbcD\\xc8w<\\x9e\\xa2\\xa4= \\t\\x91=Je\\x99\\xbd\\xbe\\x89\\xba=\\t\\x8b\\x8b\\xbb\\xea\\xe6X<\\xb0\\xf4\\xd8=\\xe6\\x93\\xb1=\\xb99\\xc6\\xbd\\x00f\\xb2=t[y\\xbcD\\xc8w<\\x9e\\xa2\\xa4= \\t\\x91=Je\\x99\\xbd\\xbe\\x89\\xba=\\t\\x8b\\x8b\\xbb\\xea\\xe6X<\\xb0\\xf4\\xd8=\\xe6\\x93\\xb1=\\xb99\\xc6\\xbd\\x00f\\xb2=t[y\\xbcD\\xc8w<\\x9e\\xa2\\xa4= \\t\\x91=Je\\x99\\xbd\\xbe\\x89\\xba=\\t\\x8b\\x8b\\xbb\\xea\\xe6X<\\xb0\\xf4\\xd8=\\xe6\\x93\\xb1=\\xb99\\xc6\\xbd\\x00f\\xb2=t[y\\xbcD\\xc8w<\\x9e\\xa2\\xa4= \\t\\x91=Je\\x99\\xbd\\xbe\\x89\\xba=\\t\\x8b\\x8b\\xbb\\xea\\xe6X<\\xb0\\xf4\\xd8=\\xe6\\x93\\xb1=\\xb99\\xc6\\xbd\\x00f\\xb2=t[y\\xbcD\\xc8w<\\x9e\\xa2\\xa4= \\t\\x91=Je\\x99\\xbd\\xbe\\x89\\xba=\\t\\x8b\\x8b\\xbb\\xea\\xe6X<\\xb0\\xf4\\xd8=\\xe6\\x93\\xb1=\\xb99\\xc6\\xbd\\x00f\\xb2=t[y\\xbcD\\xc8w<\\x9e\\xa2\\xa4= \\t\\x91=Je\\x99\\xbd\\xbe\\x89\\xba=\\t\\x8b\\x8b\\xbb\\xea\\xe6X<\\xb0\\xf4\\xd8=\\xe6\\x93\\xb1=\\xb99\\xc6\\xbd\\x00f\\xb2=t[y\\xbcD\\xc8w<\\x9e\\xa2\\xa4= \\t\\x91=Je\\x99\\xbd\\xbe\\x89\\xba=\\t\\x8b\\x8b\\xbb\\xea\\xe6X<\\xb0\\xf4\\xd8=\\xe6\\x93\\xb1=\\xb99\\xc6\\xbd\\x00f\\xb2=t[y\\xbcD\\xc8w<\\x9e\\xa2\\xa4= \\t\\x91=Je\\x99\\xbd\\xbe\\x89\\xba=\\t\\x8b\\x8b\\xbb\\xea\\xe6X<\\xb0\\xf4\\xd8=\\xe6\\x93\\xb1=\\xb99\\xc6\\xbd\\x00f\\xb2=t[y\\xbcD\\xc8w<\\x9e\\xa2\\xa4= \\t\\x91=Je\\x99\\xbd\\xbe\\x89\\xba=\\t\\x8b\\x8b\\xbb\\xea\\xe6X<\\xb0\\xf4\\xd8=\\xe6\\x93\\xb1=\\xb99\\xc6\\xbd\\x00f\\xb2=t[y\\xbcD\\xc8w<\\x9e\\xa2\\xa4= \\t\\x91=Je\\x99\\xbd\\xbe\\x89\\xba=\\t\\x8b\\x8b\\xbb\\xea\\xe6X<\\xb0\\xf4\\xd8=\\xe6\\x93\\xb1=\\xb99\\xc6\\xbd\\x00f\\xb2=t[y\\xbcD\\xc8w<\\x9e\\xa2\\xa4= \\t\\x91=Je\\x99\\xbd\\xbe\\x89\\xba=\\t\\x8b\\x8b\\xbb\\xea\\xe6X<\\xb0\\xf4\\xd8=\\xe6\\x93\\xb1=\\xb99\\xc6\\xbd\\x00f\\xb2=t[y\\xbcD\\xc8w<\\x9e\\xa2\\xa4= \\t\\x91=Je\\x99\\xbd\\xbe\\x89\\xba=\\t\\x8b\\x8b\\xbb\\xea\\xe6X<\\xb0\\xf4\\xd8=\\xe6\\x93\\xb1=\\xb99\\xc6\\xbd\\x00f\\xb2=t[y\\xbcD\\xc8w<\\x9e\\xa2\\xa4= \\t\\x91=Je\\x99\\xbd\\xbe\\x89\\xba=\\t\\x8b\\x8b\\xbb\\xea\\xe6X<\\xb0\\xf4\\xd8=\\xe6\\x93\\xb1=\\xb99\\xc6\\xbd\\x00f\\xb2=t[y\\xbcD\\xc8w<\\x9e\\xa2\\xa4= \\t\\x91=Je\\x99\\xbd\\xbe\\x89\\xba=\\t\\x8b\\x8b\\xbb\\xea\\xe6X<\\xb0\\xf4\\xd8=\\xe6\\x93\\xb1=\\xb99\\xc6\\xbd\\x00f\\xb2=t[y\\xbcD\\xc8w<\\x9e\\xa2\\xa4= \\t\\x91=Je\\x99\\xbd\\xbe\\x89\\xba=\\t\\x8b\\x8b\\xbb\\xea\\xe6X<\\xb0\\xf4\\xd8=\\xe6\\x93\\xb1=\\xb99\\xc6\\xbd\\x00f\\xb2=t[y\\xbcD\\xc8w<\\x9e\\xa2\\xa4= \\t\\x91=Je\\x99\\xbd\\xbe\\x89\\xba=\\t\\x8b\\x8b\\xbb\\xea\\xe6X<\\xb0\\xf4\\xd8=\\xe6\\x93\\xb1=\\xb99\\xc6\\xbd\\x00f\\xb2=t[y\\xbcD\\xc8w<\\x9e\\xa2\\xa4= \\t\\x91=Je\\x99\\xbd\\xbe\\x89\\xba=\\t\\x8b\\x8b\\xbb\\xea\\xe6X<\\xb0\\xf4\\xd8=\\xe6\\x93\\xb1=\\xb99\\xc6\\xbd\\x00f\\xb2=t[y\\xbcD\\xc8w<\\x9e\\xa2\\xa4= \\t\\x91=Je\\x99\\xbd\\xbe\\x89\\xba=\\t\\x8b\\x8b\\xbb\\xea\\xe6X<\\xb0\\xf4\\xd8=\\xe6\\x93\\xb1=\\xb99\\xc6\\xbd\\x00f\\xb2=t[y\\xbcD\\xc8w<\\x9e\\xa2\\xa4= \\t\\x91=Je\\x99\\xbd\\xbe\\x89\\xba=\\t\\x8b\\x8b\\xbb\\xea\\xe6X<\\xb0\\xf4\\xd8=\\xe6\\x93\\xb1=\\xb99\\xc6\\xbd\\x00f\\xb2=t[y\\xbcD\\xc8w<\\x9e\\xa2\\xa4= \\t\\x91=Je\\x99\\xbd\\xbe\\x89\\xba=\\t\\x8b\\x8b\\xbb\\xea\\xe6X<\\xb0\\xf4\\xd8=\\xe6\\x93\\xb1=\\xb99\\xc6\\xbd\\x00f\\xb2=t[y\\xbcD\\xc8w<\\x9e\\xa2\\xa4= \\t\\x91=Je\\x99\\xbd\\xbe\\x89\\xba=\\t\\x8b\\x8b\\xbb\\xea\\xe6X<\\xb0\\xf4\\xd8=\\xe6\\x93\\xb1=\\xb99\\xc6\\xbd\\x00f\\xb2=t[y\\xbcD\\xc8w<\\x9e\\xa2\\xa4= \\t\\x91=Je\\x99\\xbd\\xbe\\x89\\xba=\\t\\x8b\\x8b\\xbb\\xea\\xe6X<\\xb0\\xf4\\xd8=\\xe6\\x93\\xb1=\\xb99\\xc6\\xbd\\x00f\\xb2=t[y\\xbcD\\xc8w<\\x9e\\xa2\\xa4= \\t\\x91=Je\\x99\\xbd\\xbe\\x89\\xba=\\t\\x8b\\x8b\\xbb\\xea\\xe6X<\\xb0\\xf4\\xd8=\\xe6\\x93\\xb1=\\xb99\\xc6\\xbd\\x00f\\xb2=t[y\\xbcD\\xc8w<\\x9e\\xa2\\xa4= \\t\\x91=Je\\x99\\xbd\\xbe\\x89\\xba=\\t\\x8b\\x8b\\xbb\\xea\\xe6X<\\xb0\\xf4\\xd8=\\xe6\\x93\\xb1=\\xb99\\xc6\\xbd\\x00f\\xb2=t[y\\xbcD\\xc8w<\\x9e\\xa2\\xa4= \\t\\x91=Je\\x99\\xbd\\xbe\\x89\\xba=\\t\\x8b\\x8b\\xbb\\xea\\xe6X<\\xb0\\xf4\\xd8=\\xe6\\x93\\xb1=\\xb99\\xc6\\xbd\\x00f\\xb2=t[y\\xbcD\\xc8w<\\x9e\\xa2\\xa4= \\t\\x91=Je\\x99\\xbd\\xbe\\x89\\xba=\\t\\x8b\\x8b\\xbb\\xea\\xe6X<\\xb0\\xf4\\xd8=\\xe6\\x93\\xb1=\\xb99\\xc6\\xbd\\x00f\\xb2=t[y\\xbcD\\xc8w<\\x9e\\xa2\\xa4= \\t\\x91=Je\\x99\\xbd\\xbe\\x89\\xba=\\t\\x8b\\x8b\\xbb\\xea\\xe6X<\\xb0\\xf4\\xd8=\\xe6\\x93\\xb1=\\xb99\\xc6\\xbd\\x00f\\xb2=t[y\\xbcD\\xc8w<\\x9e\\xa2\\xa4= \\t\\x91=Je\\x99\\xbd\\xbe\\x89\\xba=\\t\\x8b\\x8b\\xbb\\xea\\xe6X<\\xb0\\xf4\\xd8=\\xe6\\x93\\xb1=\\xb99\\xc6\\xbd\\x00f\\xb2=t[y\\xbcD\\xc8w<\\x9e\\xa2\\xa4= \\t\\x91=Je\\x99\\xbd\\xbe\\x89\\xba=\\t\\x8b\\x8b\\xbb\\xea\\xe6X<\\xb0\\xf4\\xd8=\\xe6\\x93\\xb1=\\xb99\\xc6\\xbd\\x00f\\xb2=t[y\\xbcD\\xc8w<\\x9e\\xa2\\xa4= \\t\\x91=Je\\x99\\xbd\\xbe\\x89\\xba=\\t\\x8b\\x8b\\xbb\\xea\\xe6X<\\xb0\\xf4\\xd8=\\xe6\\x93\\xb1=\\xb99\\xc6\\xbd\\x00f\\xb2=t[y\\xbcD\\xc8w<\\x9e\\xa2\\xa4= \\t\\x91=Je\\x99\\xbd\\xbe\\x89\\xba=\\t\\x8b\\x8b\\xbb\\xea\\xe6X<\\xb0\\xf4\\xd8=\\xe6\\x93\\xb1=\\xb99\\xc6\\xbd\\x00f\\xb2=t[y\\xbcD\\xc8w<\\x9e\\xa2\\xa4= \\t\\x91=Je\\x99\\xbd\\xbe\\x89\\xba=\\t\\x8b\\x8b\\xbb\\xea\\xe6X<\\xb0\\xf4\\xd8=\\xe6\\x93\\xb1=\\xb99\\xc6\\xbd\\x00f\\xb2=\\x00\\x00\\x00\\x00\\x00\\x00\\x00\\x00\\x00\\x00\\x00\\x00\\x00\\x00\\x00\\x00\\x00\\x00\\x00\\x00\\x00\\x00\\x00\\x00'\n"
     ]
    }
   ],
   "source": [
    "for item in list_obj[1:]:\n",
    "    print(item)\n",
    "    print(results[item])\n",
    "    break"
   ],
   "metadata": {
    "pycharm": {
     "name": "#%%\n"
    },
    "id": "d-hvoUqkfy9m",
    "outputId": "d5c94083-e534-4811-f0f0-5cb612e64259"
   }
  },
  {
   "cell_type": "code",
   "execution_count": null,
   "outputs": [],
   "source": [],
   "metadata": {
    "pycharm": {
     "name": "#%%\n"
    },
    "id": "RhY--NGxfy9m"
   }
  }
 ],
 "metadata": {
  "kernelspec": {
   "display_name": "Python 3",
   "language": "python",
   "name": "python3"
  },
  "language_info": {
   "codemirror_mode": {
    "name": "ipython",
    "version": 2
   },
   "file_extension": ".py",
   "mimetype": "text/x-python",
   "name": "python",
   "nbconvert_exporter": "python",
   "pygments_lexer": "ipython2",
   "version": "2.7.6"
  },
  "colab": {
   "name": "main_test.ipynb",
   "provenance": [],
   "collapsed_sections": []
  },
  "accelerator": "GPU",
  "gpuClass": "standard"
 },
 "nbformat": 4,
 "nbformat_minor": 0
}